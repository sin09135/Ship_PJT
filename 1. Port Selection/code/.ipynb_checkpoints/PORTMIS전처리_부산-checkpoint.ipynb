{
 "cells": [
  {
   "cell_type": "markdown",
   "id": "39c9959e-bee5-4a04-9e86-f2d02f7bf05d",
   "metadata": {},
   "source": [
    "## PORT MIS 샘플데이터 전처리"
   ]
  },
  {
   "cell_type": "markdown",
   "id": "37a29531-2dd0-4e0f-a221-7d08cacb487c",
   "metadata": {
    "tags": []
   },
   "source": [
    "### 0. 데이터 불러오기"
   ]
  },
  {
   "cell_type": "code",
   "execution_count": 58,
   "id": "4d6c4471-f5b2-4c38-9e34-a091395a11d4",
   "metadata": {
    "tags": []
   },
   "outputs": [],
   "source": [
    "import pandas as pd\n",
    "import os\n",
    "\n",
    "# 파일 경로\n",
    "directory = '../data/부산'\n",
    "\n",
    "# 3행까지 제거\n",
    "for filename in os.listdir(directory):\n",
    "    if filename.startswith(\"/부산_시설\") and filename.endswith(\".xlsx\"):  # 부산_2022시작하는 파일에 대해서\n",
    "        file_path = os.path.join(directory, filename)\n",
    "        df = pd.read_excel(file_path)  # 엑셀 파일을 데이터프레임으로 읽기\n",
    "        df = df.iloc[3:]  # 상단 3행 삭제\n",
    "        df.to_excel(file_path, index=False)  # 수정된 데이터프레임을 덮어쓰기\n",
    "\n",
    "        print(f\"{filename} 삭제 완료.\", flush=True)  # Added flush=True"
   ]
  },
  {
   "cell_type": "code",
   "execution_count": 59,
   "id": "3a231fcf-6ad6-43e3-b76c-cb42ed4255af",
   "metadata": {
    "tags": []
   },
   "outputs": [
    {
     "name": "stderr",
     "output_type": "stream",
     "text": [
      "/Users/kimsinwoo/anaconda3/lib/python3.11/site-packages/openpyxl/styles/stylesheet.py:226: UserWarning: Workbook contains no default style, apply openpyxl's default\n",
      "  warn(\"Workbook contains no default style, apply openpyxl's default\")\n",
      "/Users/kimsinwoo/anaconda3/lib/python3.11/site-packages/openpyxl/styles/stylesheet.py:226: UserWarning: Workbook contains no default style, apply openpyxl's default\n",
      "  warn(\"Workbook contains no default style, apply openpyxl's default\")\n",
      "/Users/kimsinwoo/anaconda3/lib/python3.11/site-packages/openpyxl/styles/stylesheet.py:226: UserWarning: Workbook contains no default style, apply openpyxl's default\n",
      "  warn(\"Workbook contains no default style, apply openpyxl's default\")\n",
      "/Users/kimsinwoo/anaconda3/lib/python3.11/site-packages/openpyxl/styles/stylesheet.py:226: UserWarning: Workbook contains no default style, apply openpyxl's default\n",
      "  warn(\"Workbook contains no default style, apply openpyxl's default\")\n",
      "/Users/kimsinwoo/anaconda3/lib/python3.11/site-packages/openpyxl/styles/stylesheet.py:226: UserWarning: Workbook contains no default style, apply openpyxl's default\n",
      "  warn(\"Workbook contains no default style, apply openpyxl's default\")\n",
      "/Users/kimsinwoo/anaconda3/lib/python3.11/site-packages/openpyxl/styles/stylesheet.py:226: UserWarning: Workbook contains no default style, apply openpyxl's default\n",
      "  warn(\"Workbook contains no default style, apply openpyxl's default\")\n",
      "/Users/kimsinwoo/anaconda3/lib/python3.11/site-packages/openpyxl/styles/stylesheet.py:226: UserWarning: Workbook contains no default style, apply openpyxl's default\n",
      "  warn(\"Workbook contains no default style, apply openpyxl's default\")\n",
      "/Users/kimsinwoo/anaconda3/lib/python3.11/site-packages/openpyxl/styles/stylesheet.py:226: UserWarning: Workbook contains no default style, apply openpyxl's default\n",
      "  warn(\"Workbook contains no default style, apply openpyxl's default\")\n",
      "/Users/kimsinwoo/anaconda3/lib/python3.11/site-packages/openpyxl/styles/stylesheet.py:226: UserWarning: Workbook contains no default style, apply openpyxl's default\n",
      "  warn(\"Workbook contains no default style, apply openpyxl's default\")\n",
      "/Users/kimsinwoo/anaconda3/lib/python3.11/site-packages/openpyxl/styles/stylesheet.py:226: UserWarning: Workbook contains no default style, apply openpyxl's default\n",
      "  warn(\"Workbook contains no default style, apply openpyxl's default\")\n",
      "/Users/kimsinwoo/anaconda3/lib/python3.11/site-packages/openpyxl/styles/stylesheet.py:226: UserWarning: Workbook contains no default style, apply openpyxl's default\n",
      "  warn(\"Workbook contains no default style, apply openpyxl's default\")\n",
      "/Users/kimsinwoo/anaconda3/lib/python3.11/site-packages/openpyxl/styles/stylesheet.py:226: UserWarning: Workbook contains no default style, apply openpyxl's default\n",
      "  warn(\"Workbook contains no default style, apply openpyxl's default\")\n"
     ]
    }
   ],
   "source": [
    "import pandas as pd\n",
    "directory = '../data/부산'\n",
    "\n",
    "df = pd.read_excel(directory + '/부산_시설_202201.xlsx')\n",
    "df1 = pd.read_excel(directory + '/부산_시설_202202.xlsx')\n",
    "df2 = pd.read_excel(directory + '/부산_시설_202203.xlsx')\n",
    "df3 = pd.read_excel(directory + '/부산_시설_202204.xlsx')\n",
    "df4 = pd.read_excel(directory + '/부산_시설_202205.xlsx')\n",
    "df5 = pd.read_excel(directory + '/부산_시설_202206.xlsx')\n",
    "df6 = pd.read_excel(directory + '/부산_시설_202207.xlsx')\n",
    "df7 = pd.read_excel(directory + '/부산_시설_202208.xlsx')\n",
    "df8 = pd.read_excel(directory + '/부산_시설_202209.xlsx')\n",
    "df9 = pd.read_excel(directory + '/부산_시설_202210.xlsx')\n",
    "df10 = pd.read_excel(directory + '/부산_시설_202211.xlsx')\n",
    "df11 = pd.read_excel(directory + '/부산_시설_202212.xlsx')"
   ]
  },
  {
   "cell_type": "code",
   "execution_count": 60,
   "id": "09d04395-0266-4343-85c4-c9202de74b5f",
   "metadata": {
    "tags": []
   },
   "outputs": [
    {
     "name": "stderr",
     "output_type": "stream",
     "text": [
      "/Users/kimsinwoo/anaconda3/lib/python3.11/site-packages/openpyxl/styles/stylesheet.py:226: UserWarning: Workbook contains no default style, apply openpyxl's default\n",
      "  warn(\"Workbook contains no default style, apply openpyxl's default\")\n"
     ]
    }
   ],
   "source": [
    "dfs1 = pd.read_excel(directory + '/부산_입출항_2022_1.xlsx')"
   ]
  },
  {
   "cell_type": "code",
   "execution_count": 61,
   "id": "9cad1fb7-3fad-48b1-84f4-1cc502d9f57d",
   "metadata": {
    "tags": []
   },
   "outputs": [
    {
     "name": "stderr",
     "output_type": "stream",
     "text": [
      "/Users/kimsinwoo/anaconda3/lib/python3.11/site-packages/openpyxl/styles/stylesheet.py:226: UserWarning: Workbook contains no default style, apply openpyxl's default\n",
      "  warn(\"Workbook contains no default style, apply openpyxl's default\")\n"
     ]
    }
   ],
   "source": [
    "dfs2 = pd.read_excel(directory + '/부산_입출항_2022_2.xlsx')"
   ]
  },
  {
   "cell_type": "code",
   "execution_count": 62,
   "id": "e0882195-8897-407f-ad16-b63f800a16af",
   "metadata": {
    "tags": []
   },
   "outputs": [],
   "source": [
    "dfs = pd.concat([dfs1, dfs2], ignore_index=True)"
   ]
  },
  {
   "cell_type": "code",
   "execution_count": 63,
   "id": "0c5cc407-c77f-42c5-b58b-48c4e9b62c05",
   "metadata": {
    "tags": []
   },
   "outputs": [],
   "source": [
    "dfs = dfs.iloc[11:]  # 상단 3행 삭제 "
   ]
  },
  {
   "cell_type": "code",
   "execution_count": 64,
   "id": "e0d1757a-ca9f-413d-aa4e-049d5ac71239",
   "metadata": {
    "tags": []
   },
   "outputs": [
    {
     "data": {
      "text/plain": [
       "Index(['선박입출항현황', 'Unnamed: 1', 'Unnamed: 2', 'Unnamed: 3', 'Unnamed: 4',\n",
       "       'Unnamed: 5', 'Unnamed: 6', 'Unnamed: 7', 'Unnamed: 8', 'Unnamed: 9',\n",
       "       'Unnamed: 10', 'Unnamed: 11', 'Unnamed: 12', 'Unnamed: 13',\n",
       "       'Unnamed: 14', 'Unnamed: 15', 'Unnamed: 16', 'Unnamed: 17',\n",
       "       'Unnamed: 18', 'Unnamed: 19', 'Unnamed: 20', 'Unnamed: 21',\n",
       "       'Unnamed: 22', 'Unnamed: 23', 'Unnamed: 24', 'Unnamed: 25',\n",
       "       'Unnamed: 26', 'Unnamed: 27'],\n",
       "      dtype='object')"
      ]
     },
     "execution_count": 64,
     "metadata": {},
     "output_type": "execute_result"
    }
   ],
   "source": [
    "dfs.columns"
   ]
  },
  {
   "cell_type": "code",
   "execution_count": 65,
   "id": "7cb3ca0a-c3ee-4ab4-b9dd-55694a05ede9",
   "metadata": {
    "tags": []
   },
   "outputs": [],
   "source": [
    "#dfs.drop(columns = 'z', inplace = True)"
   ]
  },
  {
   "cell_type": "code",
   "execution_count": 66,
   "id": "63dd6b70-b2af-4d3e-a40f-82fcbd13a757",
   "metadata": {
    "tags": []
   },
   "outputs": [],
   "source": [
    "dfs.columns = ['항명', '호출부호', '선박명', '입항횟수_연도', '입항횟수_횟수', '구분', '외내', '입출', '총톤수', '입항일시',\n",
    "       '출항일시', 'CIQ수속일자', '수리일시', '항해구분', 'MRN 번호', '계선장소_코드', '계선장소_숫자', '계선장소명',\n",
    "       '차항지', '전출항지', '선박용도', '외항:한국인선원수/내항:해기사선원수', '외항:외국인선원수/내항:보통선원수',\n",
    "       '승객', '예선', '도선', '부선호출부호1', '부선호출부호2']"
   ]
  },
  {
   "cell_type": "code",
   "execution_count": null,
   "id": "880780d1-b25a-4683-aa21-258927cb4ac8",
   "metadata": {
    "tags": []
   },
   "outputs": [],
   "source": [
    "combined_df = pd.concat([df, df1, df2, df3, df4, df5,df6,df7, df8,df9,df10,df11], ignore_index=True)\n",
    "combined_df.columns = ['순번', '호출부호', '입항횟수_연도', '입항횟수_횟수', '시설사용횟수', '신고톤수', '선박명', '선사/대리점_코드',\n",
    "       '선사/대리점명', '신청시설_코드', '신청시설_번호', '신청시설명', '신청일시(FROM)',\n",
    "       '신청일시(TO)', '지정시설_코드', '지정시설_번호', '지정시설명', '지정일시(FROM)',\n",
    "       '지정일시(TO)', '사용목적명', '예보일시', '허가유무']\n",
    "combined_df.to_excel(directory + '/부산_combined.xlsx', index=False)"
   ]
  },
  {
   "cell_type": "code",
   "execution_count": null,
   "id": "e4bbafd9-b553-46e8-8292-355be2735ddd",
   "metadata": {
    "tags": []
   },
   "outputs": [],
   "source": [
    "combined_df = combined_df.iloc[3:]"
   ]
  },
  {
   "cell_type": "markdown",
   "id": "c3dd60f3-94ac-404b-aadf-70c97a791d56",
   "metadata": {},
   "source": [
    "### 1. 컬럼 제거 및 결측치 확인"
   ]
  },
  {
   "cell_type": "markdown",
   "id": "199163c7-ee44-4b28-b5d6-3d2c72e79dfc",
   "metadata": {},
   "source": [
    "#### 컬럼 제거(시설허가 : combined_df , 입출항 : dfs)"
   ]
  },
  {
   "cell_type": "code",
   "execution_count": null,
   "id": "10c85f56-8edd-4eeb-a658-654f116d373a",
   "metadata": {
    "tags": []
   },
   "outputs": [],
   "source": [
    "columns_to_drop = ['신청시설_코드', '신청시설_번호', '신청시설명', '신청일시(FROM)', '신청일시(TO)', '선사/대리점_코드', '선사/대리점명']\n",
    "combined_df.drop(columns=columns_to_drop, inplace=True)"
   ]
  },
  {
   "cell_type": "code",
   "execution_count": null,
   "id": "429207ab-4945-42e6-9d55-214bcc4b63cf",
   "metadata": {
    "tags": []
   },
   "outputs": [],
   "source": [
    "columns_to_drop_dfs = ['외내', 'CIQ수속일자', 'MRN 번호', '차항지', '전출항지','외항:한국인선원수/내항:해기사선원수','외항:외국인선원수/내항:보통선원수', '승객', '예선', '도선', '부선호출부호1', '부선호출부호2']\n",
    "dfs.drop(columns=columns_to_drop_dfs,inplace=True)"
   ]
  },
  {
   "cell_type": "markdown",
   "id": "601e3351-0651-4f3f-9dbb-2baf975c4fc2",
   "metadata": {},
   "source": [
    "#### 상세처리"
   ]
  },
  {
   "cell_type": "markdown",
   "id": "9cb29fb1-c2e6-4a1b-99ed-34dc48db579b",
   "metadata": {},
   "source": [
    "- 입출 : 출항만 사용\n",
    "- 선박용도 > 최종 전처리시 많은 순으로 고려\n",
    "- 미허가 행 제외"
   ]
  },
  {
   "cell_type": "code",
   "execution_count": null,
   "id": "0a4f0375-7edb-4959-9910-8cf9394e5a7a",
   "metadata": {
    "tags": []
   },
   "outputs": [],
   "source": [
    "combined_df = combined_df[combined_df['허가유무'] != '미허가']"
   ]
  },
  {
   "cell_type": "code",
   "execution_count": null,
   "id": "3884ac82-3f5f-4568-bc9d-6d2666754188",
   "metadata": {
    "tags": []
   },
   "outputs": [],
   "source": [
    "dfs = dfs[dfs['입출'] == '출항']"
   ]
  },
  {
   "cell_type": "markdown",
   "id": "97991545-c12f-4cc5-b863-bb4146001603",
   "metadata": {},
   "source": [
    "### 2. Merge_type 변경 후 Merge"
   ]
  },
  {
   "cell_type": "code",
   "execution_count": null,
   "id": "c198b115-3848-404a-8f4b-80d1f3093fcc",
   "metadata": {
    "tags": []
   },
   "outputs": [],
   "source": [
    "combined_df['입항횟수_횟수'] = pd.to_numeric(combined_df['입항횟수_횟수'], errors='coerce')\n",
    "combined_df['입항횟수_연도'] = pd.to_numeric(combined_df['입항횟수_연도'], errors='coerce')\n",
    "\n",
    "dfs['입항횟수_횟수'] = dfs['입항횟수_횟수'].astype(float)\n",
    "dfs['입항횟수_연도'] = dfs['입항횟수_연도'].astype(float)\n",
    "combined_df['입항횟수_횟수'] = combined_df['입항횟수_횟수'].astype(float)\n",
    "combined_df['입항횟수_연도'] = combined_df['입항횟수_연도'].astype(float)\n"
   ]
  },
  {
   "cell_type": "code",
   "execution_count": null,
   "id": "36946e89-34a6-4c67-aa59-8bc01198b5f6",
   "metadata": {
    "tags": []
   },
   "outputs": [],
   "source": [
    "merged_left = pd.merge(dfs, combined_df, on= ['호출부호','선박명','입항횟수_횟수','입항횟수_연도'], how='left') # 입출항, 시설사용허가 left merge\n",
    "merged_left"
   ]
  },
  {
   "cell_type": "markdown",
   "id": "812641e9-5c84-49c2-a972-a854075b2e1a",
   "metadata": {
    "tags": []
   },
   "source": [
    "#### 중복된 행 제거"
   ]
  },
  {
   "cell_type": "code",
   "execution_count": null,
   "id": "9fe35653-ac53-4bdd-bb14-21cd6dd77062",
   "metadata": {
    "tags": []
   },
   "outputs": [],
   "source": [
    "# 중복된 행, unique값만 남기기\n",
    "unique_values = merged_left.drop_duplicates()"
   ]
  },
  {
   "cell_type": "code",
   "execution_count": null,
   "id": "c0356a2f-212b-4471-b2eb-369f558cf9fd",
   "metadata": {
    "tags": []
   },
   "outputs": [],
   "source": [
    "unique_values.info()"
   ]
  },
  {
   "cell_type": "code",
   "execution_count": null,
   "id": "a0600702-baeb-41ef-a1f1-14fd5d618284",
   "metadata": {
    "tags": []
   },
   "outputs": [],
   "source": [
    "unique_values.isna().sum() # 계선장소, 예선, 도선, 차항지"
   ]
  },
  {
   "cell_type": "code",
   "execution_count": null,
   "id": "517056ad-3322-42ee-a297-a82bd473fa19",
   "metadata": {
    "tags": []
   },
   "outputs": [],
   "source": [
    "unique_values.columns"
   ]
  },
  {
   "cell_type": "code",
   "execution_count": null,
   "id": "e3b06f4f-c784-4793-b42c-daa15bf524fc",
   "metadata": {
    "tags": []
   },
   "outputs": [],
   "source": [
    "unique_values"
   ]
  },
  {
   "cell_type": "markdown",
   "id": "71a43a34-6212-413f-80eb-c9e8d8a0302a",
   "metadata": {},
   "source": [
    "### 3. 대기시간, 서비스시간 컬럼생성(Entry > Anchor > Berth > Departure)"
   ]
  },
  {
   "cell_type": "code",
   "execution_count": null,
   "id": "d5878d2e-0db1-41af-8d14-93a46d06bc81",
   "metadata": {
    "tags": []
   },
   "outputs": [],
   "source": [
    "temp = unique_values.copy()"
   ]
  },
  {
   "cell_type": "code",
   "execution_count": null,
   "id": "ec35ec04-7ae8-4713-8c07-9971aabe4bd1",
   "metadata": {
    "tags": []
   },
   "outputs": [],
   "source": [
    "# 데이터 타입으로 변경 , 잘못된 값 제거(6311 인덱스)\n",
    "temp['지정일시(TO)'] = pd.to_datetime(temp['지정일시(TO)'], errors='coerce')\n",
    "temp['지정일시(FROM)'] = pd.to_datetime(temp['지정일시(FROM)'], errors='coerce')"
   ]
  },
  {
   "cell_type": "code",
   "execution_count": null,
   "id": "5d3d279d-36d1-4fb3-8db5-e79140310eab",
   "metadata": {
    "tags": []
   },
   "outputs": [],
   "source": [
    "# 접안 대기시간,출항 대기시간 계산\n",
    "temp['접안_대기시간'] = pd.NaT\n",
    "temp['출항_대기시간'] = pd.NaT\n",
    "\n",
    "temp.loc[temp['사용목적명'] == '접안대기', '접안_대기시간'] = temp['지정일시(TO)'] - temp['지정일시(FROM)']\n",
    "temp.loc[temp['사용목적명'] == '출항대기', '출항_대기시간'] = temp['지정일시(TO)'] - temp['지정일시(FROM)']"
   ]
  },
  {
   "cell_type": "code",
   "execution_count": null,
   "id": "aa8f0e28-c8b0-47bc-b86e-68eff90dfaaf",
   "metadata": {
    "tags": []
   },
   "outputs": [],
   "source": [
    "temp.head()"
   ]
  },
  {
   "cell_type": "markdown",
   "id": "2848f4ba-4ee2-49aa-ad30-9c5c985cf4c7",
   "metadata": {},
   "source": [
    "#### Departure 생성"
   ]
  },
  {
   "cell_type": "markdown",
   "id": "e493657c-4196-4902-a49a-744f3bf13e51",
   "metadata": {},
   "source": [
    "- 출항대기시간 null 값인 경우에는, Departure 값이 '출항일시' 값\n",
    "- 사용목적명이 '출항대기'일 경우에 Departure 값이 '신청일시(FROM)' 값으로"
   ]
  },
  {
   "cell_type": "code",
   "execution_count": null,
   "id": "69d1b798-ee4d-428f-a8af-8ac80acf78dc",
   "metadata": {
    "tags": []
   },
   "outputs": [],
   "source": [
    "import numpy as np\n",
    "\n",
    "# 'Service_Time_End' 열 생성\n",
    "temp['Service_Time_End'] = np.nan\n",
    "\n",
    "# '사용목적명'이 '출항대기'인 경우 'Service_Time_End' 값 할당\n",
    "temp.loc[temp['사용목적명'] == '출항대기', 'Service_Time_End'] = temp['지정일시(FROM)']\n",
    "\n",
    "# '출항_대기시간'이 null인 경우 'Service_Time_End' 값 할당\n",
    "temp.loc[temp['출항_대기시간'].isnull(),'Service_Time_End'] = temp['출항일시']"
   ]
  },
  {
   "cell_type": "code",
   "execution_count": null,
   "id": "ccccefb0-f1f1-469c-908b-6431689db2e3",
   "metadata": {
    "tags": []
   },
   "outputs": [],
   "source": [
    "temp.head(15)"
   ]
  },
  {
   "cell_type": "markdown",
   "id": "c590059f-35dd-4ed3-8a90-8740546e98bc",
   "metadata": {
    "tags": []
   },
   "source": [
    "#### Anchor = 접안대기"
   ]
  },
  {
   "cell_type": "code",
   "execution_count": null,
   "id": "e3073ba5-76cb-48d9-b232-71d9f309883d",
   "metadata": {
    "tags": []
   },
   "outputs": [],
   "source": [
    "temp['Anchor'] = np.nan\n",
    "\n",
    "# '사용목적명'이 '출항대기'인 경우 'Anchor' 값 할당\n",
    "temp.loc[temp['사용목적명'] == '접안대기', 'Anchor'] = temp['지정일시(FROM)']"
   ]
  },
  {
   "cell_type": "code",
   "execution_count": null,
   "id": "fa413713-765b-4a9c-bfa0-9f36c1a9ce89",
   "metadata": {
    "tags": []
   },
   "outputs": [],
   "source": [
    "temp['Service_Time_Start'] = np.where(temp['Anchor'].isnull(), temp['입항일시'], temp['Anchor'])"
   ]
  },
  {
   "cell_type": "code",
   "execution_count": null,
   "id": "8885f9b8-96b7-4fb3-add0-32884f1c434c",
   "metadata": {
    "tags": []
   },
   "outputs": [],
   "source": [
    "# 문자열을 datetime으로 변환\n",
    "temp['Service_Time_End'] = pd.to_datetime(temp['Service_Time_End'])\n",
    "temp['Service_Time_Start'] = pd.to_datetime(temp['Service_Time_Start'])\n",
    "temp['Service_Time'] = temp['Service_Time_End'] - temp['Service_Time_Start']"
   ]
  },
  {
   "cell_type": "code",
   "execution_count": null,
   "id": "3e69c40d-efcf-4ed7-9c1f-c4a51d5d06fc",
   "metadata": {
    "tags": []
   },
   "outputs": [],
   "source": [
    "temp"
   ]
  },
  {
   "cell_type": "markdown",
   "id": "d05cf116-57d9-4e6e-b600-d48069c7a994",
   "metadata": {},
   "source": [
    "### 서비스타임,대기율, 용도별 대기율(컨테이터/비컨테이너)"
   ]
  },
  {
   "cell_type": "code",
   "execution_count": null,
   "id": "b51d6574-5b4f-45fe-8026-c3f8c9756e59",
   "metadata": {
    "tags": []
   },
   "outputs": [],
   "source": [
    "waiting = temp.copy()"
   ]
  },
  {
   "cell_type": "code",
   "execution_count": null,
   "id": "3ba563ab-9b29-4e1a-9794-6ad7f45528b9",
   "metadata": {
    "tags": []
   },
   "outputs": [],
   "source": [
    "waiting['접안_대기시간'].fillna(0, inplace = True)"
   ]
  },
  {
   "cell_type": "code",
   "execution_count": null,
   "id": "2c987f75-c0f9-4b78-bd2c-ed7d32f72121",
   "metadata": {
    "tags": []
   },
   "outputs": [],
   "source": [
    "# import pandas as pd\n",
    "\n",
    "# # 데이터프레임에서 '접안_대기시간'과 'Service_Time' 컬럼을 timedelta 형식으로 변환\n",
    "waiting['접안_대기시간'] = pd.to_timedelta(waiting['접안_대기시간'])\n",
    "waiting['Service_Time'] = pd.to_timedelta(waiting['Service_Time'])\n",
    "\n",
    "# timedelta 값에서 일(day)로 변환\n",
    "waiting['접안_대기시간_NumDays'] = waiting['접안_대기시간'].dt.days\n",
    "waiting['Service_Time_NumDays'] = waiting['Service_Time'].dt.days"
   ]
  },
  {
   "cell_type": "code",
   "execution_count": null,
   "id": "d7c733d1-4e2d-4945-b8d8-3e5c3b25591b",
   "metadata": {
    "tags": []
   },
   "outputs": [],
   "source": [
    "# '접안_대기시간' 컬럼에서 'days', 'hours', 'minutes'를 분리하여 새로운 열로 추가\n",
    "waiting['접안_대기시간_일'] = waiting['접안_대기시간'].dt.days\n",
    "waiting['접안_대기시간_시간'] = waiting['접안_대기시간'].dt.components.hours\n",
    "waiting['접안_대기시간_분'] = waiting['접안_대기시간'].dt.components.minutes\n",
    "# 'Service_Time' 컬럼에서 'days', 'hours', 'minutes'를 분리하여 새로운 열로 추가\n",
    "waiting['Service_Time_일'] = waiting['Service_Time'].dt.days\n",
    "waiting['Service_Time_시간'] = waiting['Service_Time'].dt.components.hours\n",
    "waiting['Service_Time_분'] = waiting['Service_Time'].dt.components.minutes\n",
    "\n",
    "# 'Service_Time'을 분으로 변환하여 'Service_Time_분' 열에 추가\n",
    "waiting['Service_Time_분'] = waiting['Service_Time_일'] * 24 * 60 + waiting['Service_Time_시간'] * 60 + waiting['Service_Time_분']\n",
    "\n",
    "# '접안_대기시간'을 분으로 변환하여 '접안_대기시간_분' 열에 추가\n",
    "waiting['접안_대기시간_분'] = waiting['접안_대기시간_일'] * 24 * 60 + waiting['접안_대기시간_시간'] * 60 + waiting['접안_대기시간_분']"
   ]
  },
  {
   "cell_type": "code",
   "execution_count": null,
   "id": "6ff8519b-8a5c-497c-b774-cbda5c0e8885",
   "metadata": {
    "tags": []
   },
   "outputs": [],
   "source": [
    "waiting['대기율'] = waiting['접안_대기시간_분'] / waiting['Service_Time_분']"
   ]
  },
  {
   "cell_type": "code",
   "execution_count": null,
   "id": "fa2d1db7-e61a-448c-9d1c-cac19e5bdf68",
   "metadata": {
    "tags": []
   },
   "outputs": [],
   "source": [
    "waiting['대기율'].describe()"
   ]
  },
  {
   "cell_type": "code",
   "execution_count": null,
   "id": "4724c816-8ae9-453f-99f0-42fef1d3ae01",
   "metadata": {
    "tags": []
   },
   "outputs": [],
   "source": [
    "waiting['대기율'].fillna(0, inplace = True)"
   ]
  },
  {
   "cell_type": "code",
   "execution_count": null,
   "id": "ed4c3cad-c6ab-49f3-9487-8f67efd3ec19",
   "metadata": {
    "tags": []
   },
   "outputs": [],
   "source": [
    "waiting['대기율'].mean()"
   ]
  },
  {
   "cell_type": "code",
   "execution_count": null,
   "id": "cb39539d-7dfc-4198-ba87-2545f1b03c37",
   "metadata": {
    "tags": []
   },
   "outputs": [],
   "source": [
    "waiting.info()"
   ]
  },
  {
   "cell_type": "code",
   "execution_count": null,
   "id": "fc92012e-1d6e-49de-a5a1-f0a913872d39",
   "metadata": {
    "tags": []
   },
   "outputs": [],
   "source": [
    "q99 = np.percentile(waiting['대기율'], 99)  \n",
    "outliers = waiting[waiting['대기율'] > q99]\n",
    "\n",
    "# 이상치 제외한 데이터 생성\n",
    "filtered_data = waiting[waiting['대기율'] <= q99]  # 상위 1%의 이상치를 제외한 데이터"
   ]
  },
  {
   "cell_type": "code",
   "execution_count": null,
   "id": "48e6c14f-072f-4803-af76-f3e3c4b3dcb4",
   "metadata": {
    "tags": []
   },
   "outputs": [],
   "source": [
    "filtered_data.info()"
   ]
  },
  {
   "cell_type": "code",
   "execution_count": null,
   "id": "d8e9a275-36a8-4667-87e6-23a02e4b7790",
   "metadata": {
    "tags": []
   },
   "outputs": [],
   "source": [
    "filtered_data['대기율'].mean()"
   ]
  },
  {
   "cell_type": "code",
   "execution_count": null,
   "id": "b2b9f6c6-9511-4ab7-aa2f-399c707bd152",
   "metadata": {
    "tags": []
   },
   "outputs": [],
   "source": [
    "waiting.columns"
   ]
  },
  {
   "cell_type": "code",
   "execution_count": null,
   "id": "8c29903b-8e43-4b4a-ab18-c415ad94a229",
   "metadata": {
    "tags": []
   },
   "outputs": [],
   "source": [
    "result = waiting.groupby('선박용도')['대기율'].mean().to_frame()\n",
    "result = result.sort_values(by='대기율', ascending=False).reset_index()"
   ]
  },
  {
   "cell_type": "code",
   "execution_count": null,
   "id": "f8b25c0d-a4e7-436d-b8ff-471941c3f249",
   "metadata": {
    "tags": []
   },
   "outputs": [],
   "source": [
    "result"
   ]
  },
  {
   "cell_type": "code",
   "execution_count": null,
   "id": "7abd74a2-49e5-4e1d-8cac-76f18a3e26ea",
   "metadata": {
    "tags": []
   },
   "outputs": [],
   "source": [
    "filtered_data.to_csv(directory + '/부산_전처리ver2.csv', encoding = 'utf-8-sig', index = False)"
   ]
  },
  {
   "cell_type": "code",
   "execution_count": null,
   "id": "579606e6-5577-4020-9332-955bc1b54c38",
   "metadata": {},
   "outputs": [],
   "source": []
  }
 ],
 "metadata": {
  "kernelspec": {
   "display_name": "Python 3 (ipykernel)",
   "language": "python",
   "name": "python3"
  },
  "language_info": {
   "codemirror_mode": {
    "name": "ipython",
    "version": 3
   },
   "file_extension": ".py",
   "mimetype": "text/x-python",
   "name": "python",
   "nbconvert_exporter": "python",
   "pygments_lexer": "ipython3",
   "version": "3.11.4"
  }
 },
 "nbformat": 4,
 "nbformat_minor": 5
}
