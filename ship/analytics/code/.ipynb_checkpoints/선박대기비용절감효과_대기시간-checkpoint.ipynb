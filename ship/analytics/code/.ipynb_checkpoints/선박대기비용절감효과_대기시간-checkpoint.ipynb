{
 "cells": [
  {
   "cell_type": "markdown",
   "id": "c3b593d0-25a8-40e0-a7b3-6e2f089d0996",
   "metadata": {},
   "source": [
    "## 선박대기비용 절감효과(선석별)\n",
    "##### BH = (V' x W' - V x W) x(WC + FC + EC)\n",
    "###### 선박대기시간 예측모형 개발을 위한 방법론 연구, 2023\n",
    "- BH : t년도 선박대기비용 절감효과\n",
    "- Vt(Vt') : with case(without case)의 t년도 선석에서의 선박 입항 수\n",
    "- Wt(Wt') : with case(without case)의 t년도 선석의 선박당 평균 대기시간_분\n",
    "- WC : 표준선형의 시간당 평균 체선비용 >분\n",
    "- FC : 표준선형의 시간당 평균 체화비용 >분\n",
    "- EC : 표준선형의 시간당 평균 환경비용 >분"
   ]
  },
  {
   "cell_type": "code",
   "execution_count": 89,
   "id": "8438f302-be9d-462f-8c81-a41249944ba1",
   "metadata": {
    "tags": []
   },
   "outputs": [],
   "source": [
    "import warnings\n",
    "warnings.filterwarnings('ignore')"
   ]
  },
  {
   "cell_type": "code",
   "execution_count": 90,
   "id": "677482ad-7a53-4ba6-9b07-c1b95ff0ecda",
   "metadata": {
    "tags": []
   },
   "outputs": [],
   "source": [
    "import pandas as pd\n",
    "PATH  = '../data/'\n",
    "\n",
    "df = pd.read_csv(PATH + '액체_ver_2.csv')\n",
    "#time_cost = pd.read_csv(PATH + '체선비용.csv', encoding = 'utf-8')\n",
    "time_cost = pd.read_csv(PATH + '체선비용.csv', encoding='euc-kr')\n"
   ]
  },
  {
   "cell_type": "markdown",
   "id": "f1bcaaba-58f0-40fb-bd29-99ad41e8bf99",
   "metadata": {
    "tags": []
   },
   "source": [
    "### 분당 체선비용"
   ]
  },
  {
   "cell_type": "code",
   "execution_count": 91,
   "id": "ed20545f-9a27-428f-94b4-39ac3e1cfe16",
   "metadata": {},
   "outputs": [],
   "source": [
    "time_cost['분당비용'] = time_cost['시간당비용']/60"
   ]
  },
  {
   "cell_type": "code",
   "execution_count": 92,
   "id": "5d0dcb6f-bc10-472e-b7f1-b8aa15c38008",
   "metadata": {
    "tags": []
   },
   "outputs": [
    {
     "data": {
      "text/html": [
       "<div>\n",
       "<style scoped>\n",
       "    .dataframe tbody tr th:only-of-type {\n",
       "        vertical-align: middle;\n",
       "    }\n",
       "\n",
       "    .dataframe tbody tr th {\n",
       "        vertical-align: top;\n",
       "    }\n",
       "\n",
       "    .dataframe thead th {\n",
       "        text-align: right;\n",
       "    }\n",
       "</style>\n",
       "<table border=\"1\" class=\"dataframe\">\n",
       "  <thead>\n",
       "    <tr style=\"text-align: right;\">\n",
       "      <th></th>\n",
       "      <th>선박크기(DWT)</th>\n",
       "      <th>시간당비용</th>\n",
       "      <th>분당비용</th>\n",
       "    </tr>\n",
       "  </thead>\n",
       "  <tbody>\n",
       "    <tr>\n",
       "      <th>0</th>\n",
       "      <td>10,000</td>\n",
       "      <td>383000</td>\n",
       "      <td>6383.333333</td>\n",
       "    </tr>\n",
       "    <tr>\n",
       "      <th>1</th>\n",
       "      <td>30,000</td>\n",
       "      <td>742000</td>\n",
       "      <td>12366.666667</td>\n",
       "    </tr>\n",
       "    <tr>\n",
       "      <th>2</th>\n",
       "      <td>50,000</td>\n",
       "      <td>1010000</td>\n",
       "      <td>16833.333333</td>\n",
       "    </tr>\n",
       "    <tr>\n",
       "      <th>3</th>\n",
       "      <td>150,000</td>\n",
       "      <td>1959000</td>\n",
       "      <td>32650.000000</td>\n",
       "    </tr>\n",
       "    <tr>\n",
       "      <th>4</th>\n",
       "      <td>200,000</td>\n",
       "      <td>2330000</td>\n",
       "      <td>38833.333333</td>\n",
       "    </tr>\n",
       "    <tr>\n",
       "      <th>5</th>\n",
       "      <td>250,000</td>\n",
       "      <td>2665000</td>\n",
       "      <td>44416.666667</td>\n",
       "    </tr>\n",
       "    <tr>\n",
       "      <th>6</th>\n",
       "      <td>300,000</td>\n",
       "      <td>2975000</td>\n",
       "      <td>49583.333333</td>\n",
       "    </tr>\n",
       "    <tr>\n",
       "      <th>7</th>\n",
       "      <td>350,000</td>\n",
       "      <td>3265000</td>\n",
       "      <td>54416.666667</td>\n",
       "    </tr>\n",
       "    <tr>\n",
       "      <th>8</th>\n",
       "      <td>400,000</td>\n",
       "      <td>3538000</td>\n",
       "      <td>58966.666667</td>\n",
       "    </tr>\n",
       "    <tr>\n",
       "      <th>9</th>\n",
       "      <td>450,000</td>\n",
       "      <td>3799000</td>\n",
       "      <td>63316.666667</td>\n",
       "    </tr>\n",
       "    <tr>\n",
       "      <th>10</th>\n",
       "      <td>500,000</td>\n",
       "      <td>4048000</td>\n",
       "      <td>67466.666667</td>\n",
       "    </tr>\n",
       "  </tbody>\n",
       "</table>\n",
       "</div>"
      ],
      "text/plain": [
       "   선박크기(DWT)    시간당비용          분당비용\n",
       "0     10,000   383000   6383.333333\n",
       "1     30,000   742000  12366.666667\n",
       "2     50,000  1010000  16833.333333\n",
       "3    150,000  1959000  32650.000000\n",
       "4    200,000  2330000  38833.333333\n",
       "5    250,000  2665000  44416.666667\n",
       "6    300,000  2975000  49583.333333\n",
       "7    350,000  3265000  54416.666667\n",
       "8    400,000  3538000  58966.666667\n",
       "9    450,000  3799000  63316.666667\n",
       "10   500,000  4048000  67466.666667"
      ]
     },
     "execution_count": 92,
     "metadata": {},
     "output_type": "execute_result"
    }
   ],
   "source": [
    "time_cost[['선박크기(DWT)','시간당비용','분당비용']]"
   ]
  },
  {
   "cell_type": "code",
   "execution_count": 93,
   "id": "9c4a46f6-5ec3-4b53-90c0-7e8d094dc6c6",
   "metadata": {
    "tags": []
   },
   "outputs": [
    {
     "data": {
      "text/html": [
       "<div>\n",
       "<style scoped>\n",
       "    .dataframe tbody tr th:only-of-type {\n",
       "        vertical-align: middle;\n",
       "    }\n",
       "\n",
       "    .dataframe tbody tr th {\n",
       "        vertical-align: top;\n",
       "    }\n",
       "\n",
       "    .dataframe thead th {\n",
       "        text-align: right;\n",
       "    }\n",
       "</style>\n",
       "<table border=\"1\" class=\"dataframe\">\n",
       "  <thead>\n",
       "    <tr style=\"text-align: right;\">\n",
       "      <th></th>\n",
       "      <th>선박크기(DWT)</th>\n",
       "      <th>분당비용</th>\n",
       "    </tr>\n",
       "  </thead>\n",
       "  <tbody>\n",
       "    <tr>\n",
       "      <th>0</th>\n",
       "      <td>10,000</td>\n",
       "      <td>6383.333333</td>\n",
       "    </tr>\n",
       "    <tr>\n",
       "      <th>1</th>\n",
       "      <td>30,000</td>\n",
       "      <td>12366.666667</td>\n",
       "    </tr>\n",
       "    <tr>\n",
       "      <th>2</th>\n",
       "      <td>50,000</td>\n",
       "      <td>16833.333333</td>\n",
       "    </tr>\n",
       "    <tr>\n",
       "      <th>3</th>\n",
       "      <td>150,000</td>\n",
       "      <td>32650.000000</td>\n",
       "    </tr>\n",
       "    <tr>\n",
       "      <th>4</th>\n",
       "      <td>200,000</td>\n",
       "      <td>38833.333333</td>\n",
       "    </tr>\n",
       "    <tr>\n",
       "      <th>5</th>\n",
       "      <td>250,000</td>\n",
       "      <td>44416.666667</td>\n",
       "    </tr>\n",
       "    <tr>\n",
       "      <th>6</th>\n",
       "      <td>300,000</td>\n",
       "      <td>49583.333333</td>\n",
       "    </tr>\n",
       "    <tr>\n",
       "      <th>7</th>\n",
       "      <td>350,000</td>\n",
       "      <td>54416.666667</td>\n",
       "    </tr>\n",
       "    <tr>\n",
       "      <th>8</th>\n",
       "      <td>400,000</td>\n",
       "      <td>58966.666667</td>\n",
       "    </tr>\n",
       "    <tr>\n",
       "      <th>9</th>\n",
       "      <td>450,000</td>\n",
       "      <td>63316.666667</td>\n",
       "    </tr>\n",
       "    <tr>\n",
       "      <th>10</th>\n",
       "      <td>500,000</td>\n",
       "      <td>67466.666667</td>\n",
       "    </tr>\n",
       "  </tbody>\n",
       "</table>\n",
       "</div>"
      ],
      "text/plain": [
       "   선박크기(DWT)          분당비용\n",
       "0     10,000   6383.333333\n",
       "1     30,000  12366.666667\n",
       "2     50,000  16833.333333\n",
       "3    150,000  32650.000000\n",
       "4    200,000  38833.333333\n",
       "5    250,000  44416.666667\n",
       "6    300,000  49583.333333\n",
       "7    350,000  54416.666667\n",
       "8    400,000  58966.666667\n",
       "9    450,000  63316.666667\n",
       "10   500,000  67466.666667"
      ]
     },
     "execution_count": 93,
     "metadata": {},
     "output_type": "execute_result"
    }
   ],
   "source": [
    "time_cost[['선박크기(DWT)','분당비용']]"
   ]
  },
  {
   "cell_type": "code",
   "execution_count": 94,
   "id": "b7d40a10-703f-4731-b755-3646086520de",
   "metadata": {
    "tags": []
   },
   "outputs": [],
   "source": [
    "# '선박크기(DWT)' 열 값 가져오기\n",
    "bins = [0, 10000, 30000, 50000, 150000, 200000, 250000, 300000, 350000, 400000, 450000, 500000, float('inf')]\n",
    "\n",
    "# 라벨 설정\n",
    "labels = ['{}-{}'.format(bins[i], bins[i+1]) for i in range(len(bins)-1)]\n",
    "\n",
    "# 'DWT_구간' 열 생성\n",
    "df['DWT_구간'] = pd.cut(df['재화중량톤수'], bins=bins, labels=labels, right=False)"
   ]
  },
  {
   "cell_type": "code",
   "execution_count": 95,
   "id": "23cf8829-8adc-47ac-98b0-fd5c5b5de465",
   "metadata": {
    "tags": []
   },
   "outputs": [],
   "source": [
    "mapping = {'0-10000': 6383.333333, '10000-30000': 12366.666667, '30000-50000': 16833.333333, '50000-150000': 32650.000000,\n",
    "           '150000-200000': 38833.333333, '200000-250000': 44416.666667, '250000-300000': 49583.333333, '300000-350000': 54416.666667,\n",
    "           '350000-400000': 58966.666667, '400000-450000': 63316.666667, '450000-500000': 67466.666667, '500000+': None}\n",
    "\n",
    "# '시간당_체선비용' 열 생성\n",
    "df['분당_체선비용'] = df['DWT_구간'].map(mapping)"
   ]
  },
  {
   "cell_type": "code",
   "execution_count": 96,
   "id": "3b71ffec-ef25-4c2a-b2e8-0c3aed1a3ea8",
   "metadata": {
    "tags": []
   },
   "outputs": [],
   "source": [
    "# mapping = {'0-10000': 383000, '10000-30000': 742000, '30000-50000': 1010000, '50000-150000': 1959000,\n",
    "#            '150000-200000': 2330000, '200000-250000': 2665000, '250000-300000': 2975000, '300000-350000': 3265000,\n",
    "#            '350000-400000': 3538000, '400000-450000': 3799000, '450000-500000': 4048000, '500000-inf': None}\n",
    "\n",
    "# df['시간당_체선비용'] = df['DWT_구간'].map(mapping)"
   ]
  },
  {
   "cell_type": "code",
   "execution_count": 97,
   "id": "cbba7e4d-3993-40b1-93e2-f3a1c8f467a4",
   "metadata": {
    "tags": []
   },
   "outputs": [],
   "source": [
    "# df['분당_체선비용'] = df['분당비용']*df['접안_대기시간_분']"
   ]
  },
  {
   "cell_type": "code",
   "execution_count": 98,
   "id": "1680c695-7706-45b7-9955-942340054e18",
   "metadata": {
    "tags": []
   },
   "outputs": [],
   "source": [
    "# df['시간당_체선비용'] = df['분당_체선비용']*60"
   ]
  },
  {
   "cell_type": "markdown",
   "id": "d3ad4213-ef30-436d-b580-3aad37da2df2",
   "metadata": {
    "tags": []
   },
   "source": [
    "### 분당 체화비용\n",
    "- 화물가치 x 사회적 할인율 / 365 * 24 * 60\n",
    "- 화물가치 :  (kg당 화물가치(원) 유류 600(수입), 694(수출)의 평균값 647로 계산)\n",
    "- 화물가치 = 재화중량톤수*1000 * 647"
   ]
  },
  {
   "cell_type": "code",
   "execution_count": 99,
   "id": "87fe8984-4865-4596-8850-fd94bfce9460",
   "metadata": {
    "tags": []
   },
   "outputs": [],
   "source": [
    "df['분당_체화비용'] = df['재화중량톤수']*1000 * 647*0.045/365*24*60"
   ]
  },
  {
   "cell_type": "markdown",
   "id": "42bab439-89ac-4908-b428-d137c29386ff",
   "metadata": {},
   "source": [
    "### 분당 환경비용"
   ]
  },
  {
   "cell_type": "markdown",
   "id": "a1c039fd-b75d-4f84-a41c-d4a990c55643",
   "metadata": {
    "tags": []
   },
   "source": [
    "**EC 대기오염 비용**\n",
    "- 배출량 구하기 ( 완료) - 온실가스 배출량(CO, NOx)\n",
    "    - 2개 밖에 없음 > 한계점\n",
    "- 배출량에 따른 사회적 비용 산정\n",
    "    - CO * 158(온실가스 배출량에서 구한 CO)\n",
    "    - NOx*15835(온실가스 배출량에서 구한 NOx)"
   ]
  },
  {
   "cell_type": "code",
   "execution_count": 100,
   "id": "f4c6aa7e-8f4b-43ad-a856-00bb8ee3cbc1",
   "metadata": {
    "tags": []
   },
   "outputs": [],
   "source": [
    "df['CO비용'] = df['CO']*158\n",
    "df['NOx비용'] = df['NOx']*15835"
   ]
  },
  {
   "cell_type": "code",
   "execution_count": 101,
   "id": "e078188e-c7b3-457d-80e3-b1545194bff9",
   "metadata": {
    "tags": []
   },
   "outputs": [],
   "source": [
    "df['분당_CO비용'] = df['CO비용'] / 60\n",
    "df['분당_NOx비용'] = df['CO비용'] / 60"
   ]
  },
  {
   "cell_type": "code",
   "execution_count": 102,
   "id": "fe4ca4a6-0e6a-49e2-90d7-873746aefed6",
   "metadata": {
    "tags": []
   },
   "outputs": [],
   "source": [
    "df['분당_환경비용'] = df['분당_CO비용'] + df['분당_NOx비용']"
   ]
  },
  {
   "cell_type": "markdown",
   "id": "b552ae7f-6dc1-407b-9e74-32c4e52f238b",
   "metadata": {
    "tags": []
   },
   "source": [
    "### Year 그룹화"
   ]
  },
  {
   "cell_type": "code",
   "execution_count": 103,
   "id": "eb4fcfe7-6a9d-455b-916d-ac2d2e2f5096",
   "metadata": {
    "tags": []
   },
   "outputs": [
    {
     "data": {
      "text/html": [
       "<div>\n",
       "<style scoped>\n",
       "    .dataframe tbody tr th:only-of-type {\n",
       "        vertical-align: middle;\n",
       "    }\n",
       "\n",
       "    .dataframe tbody tr th {\n",
       "        vertical-align: top;\n",
       "    }\n",
       "\n",
       "    .dataframe thead th {\n",
       "        text-align: right;\n",
       "    }\n",
       "</style>\n",
       "<table border=\"1\" class=\"dataframe\">\n",
       "  <thead>\n",
       "    <tr style=\"text-align: right;\">\n",
       "      <th></th>\n",
       "      <th>Datetime</th>\n",
       "      <th>ETA_Year</th>\n",
       "      <th>ETA_Month</th>\n",
       "      <th>ETA_Day</th>\n",
       "      <th>ETA_Hour</th>\n",
       "      <th>호출부호</th>\n",
       "      <th>입항일시</th>\n",
       "      <th>출항일시</th>\n",
       "      <th>접안_대기시간_분</th>\n",
       "      <th>출항_대기시간_분</th>\n",
       "      <th>...</th>\n",
       "      <th>CO</th>\n",
       "      <th>NOx</th>\n",
       "      <th>DWT_구간</th>\n",
       "      <th>분당_체선비용</th>\n",
       "      <th>분당_체화비용</th>\n",
       "      <th>CO비용</th>\n",
       "      <th>NOx비용</th>\n",
       "      <th>분당_CO비용</th>\n",
       "      <th>분당_NOx비용</th>\n",
       "      <th>분당_환경비용</th>\n",
       "    </tr>\n",
       "  </thead>\n",
       "  <tbody>\n",
       "    <tr>\n",
       "      <th>0</th>\n",
       "      <td>2020-01-01 01:00:00</td>\n",
       "      <td>2020</td>\n",
       "      <td>1</td>\n",
       "      <td>1</td>\n",
       "      <td>1</td>\n",
       "      <td>88238</td>\n",
       "      <td>2020-01-01 01:05:00</td>\n",
       "      <td>2020-01-01 08:15</td>\n",
       "      <td>0</td>\n",
       "      <td>0.0</td>\n",
       "      <td>...</td>\n",
       "      <td>0.000000</td>\n",
       "      <td>0.000000</td>\n",
       "      <td>0-10000</td>\n",
       "      <td>6383.333333</td>\n",
       "      <td>0.000000e+00</td>\n",
       "      <td>0.000000</td>\n",
       "      <td>0.000000e+00</td>\n",
       "      <td>0.00000</td>\n",
       "      <td>0.00000</td>\n",
       "      <td>0.000000</td>\n",
       "    </tr>\n",
       "    <tr>\n",
       "      <th>1</th>\n",
       "      <td>2020-01-01 03:00:00</td>\n",
       "      <td>2020</td>\n",
       "      <td>1</td>\n",
       "      <td>1</td>\n",
       "      <td>3</td>\n",
       "      <td>DSRB9</td>\n",
       "      <td>2020-01-01 03:05:00</td>\n",
       "      <td>2020-01-01 14:55</td>\n",
       "      <td>0</td>\n",
       "      <td>0.0</td>\n",
       "      <td>...</td>\n",
       "      <td>0.000000</td>\n",
       "      <td>0.000000</td>\n",
       "      <td>0-10000</td>\n",
       "      <td>6383.333333</td>\n",
       "      <td>3.444791e+08</td>\n",
       "      <td>0.000000</td>\n",
       "      <td>0.000000e+00</td>\n",
       "      <td>0.00000</td>\n",
       "      <td>0.00000</td>\n",
       "      <td>0.000000</td>\n",
       "    </tr>\n",
       "    <tr>\n",
       "      <th>2</th>\n",
       "      <td>2020-01-01 04:00:00</td>\n",
       "      <td>2020</td>\n",
       "      <td>1</td>\n",
       "      <td>1</td>\n",
       "      <td>4</td>\n",
       "      <td>D7SC</td>\n",
       "      <td>2020-01-01 04:30:00</td>\n",
       "      <td>2020-01-01 20:40</td>\n",
       "      <td>0</td>\n",
       "      <td>0.0</td>\n",
       "      <td>...</td>\n",
       "      <td>0.000000</td>\n",
       "      <td>0.000000</td>\n",
       "      <td>0-10000</td>\n",
       "      <td>6383.333333</td>\n",
       "      <td>2.625806e+08</td>\n",
       "      <td>0.000000</td>\n",
       "      <td>0.000000e+00</td>\n",
       "      <td>0.00000</td>\n",
       "      <td>0.00000</td>\n",
       "      <td>0.000000</td>\n",
       "    </tr>\n",
       "    <tr>\n",
       "      <th>3</th>\n",
       "      <td>2020-01-01 05:00:00</td>\n",
       "      <td>2020</td>\n",
       "      <td>1</td>\n",
       "      <td>1</td>\n",
       "      <td>5</td>\n",
       "      <td>130095</td>\n",
       "      <td>2020-01-01 05:40:00</td>\n",
       "      <td>2020-01-02 11:00</td>\n",
       "      <td>0</td>\n",
       "      <td>0.0</td>\n",
       "      <td>...</td>\n",
       "      <td>0.000000</td>\n",
       "      <td>0.000000</td>\n",
       "      <td>0-10000</td>\n",
       "      <td>6383.333333</td>\n",
       "      <td>2.625806e+08</td>\n",
       "      <td>0.000000</td>\n",
       "      <td>0.000000e+00</td>\n",
       "      <td>0.00000</td>\n",
       "      <td>0.00000</td>\n",
       "      <td>0.000000</td>\n",
       "    </tr>\n",
       "    <tr>\n",
       "      <th>4</th>\n",
       "      <td>2020-01-01 05:00:00</td>\n",
       "      <td>2020</td>\n",
       "      <td>1</td>\n",
       "      <td>1</td>\n",
       "      <td>5</td>\n",
       "      <td>160014</td>\n",
       "      <td>2020-01-01 05:30:00</td>\n",
       "      <td>2020-01-02 02:30</td>\n",
       "      <td>517</td>\n",
       "      <td>0.0</td>\n",
       "      <td>...</td>\n",
       "      <td>582.254878</td>\n",
       "      <td>6176.622696</td>\n",
       "      <td>0-10000</td>\n",
       "      <td>6383.333333</td>\n",
       "      <td>3.278237e+08</td>\n",
       "      <td>91996.270777</td>\n",
       "      <td>9.780682e+07</td>\n",
       "      <td>1533.27118</td>\n",
       "      <td>1533.27118</td>\n",
       "      <td>3066.542359</td>\n",
       "    </tr>\n",
       "  </tbody>\n",
       "</table>\n",
       "<p>5 rows × 53 columns</p>\n",
       "</div>"
      ],
      "text/plain": [
       "              Datetime  ETA_Year  ETA_Month  ETA_Day  ETA_Hour    호출부호  \\\n",
       "0  2020-01-01 01:00:00      2020          1        1         1   88238   \n",
       "1  2020-01-01 03:00:00      2020          1        1         3   DSRB9   \n",
       "2  2020-01-01 04:00:00      2020          1        1         4    D7SC   \n",
       "3  2020-01-01 05:00:00      2020          1        1         5  130095   \n",
       "4  2020-01-01 05:00:00      2020          1        1         5  160014   \n",
       "\n",
       "                  입항일시              출항일시  접안_대기시간_분  출항_대기시간_분  ...  \\\n",
       "0  2020-01-01 01:05:00  2020-01-01 08:15          0        0.0  ...   \n",
       "1  2020-01-01 03:05:00  2020-01-01 14:55          0        0.0  ...   \n",
       "2  2020-01-01 04:30:00  2020-01-01 20:40          0        0.0  ...   \n",
       "3  2020-01-01 05:40:00  2020-01-02 11:00          0        0.0  ...   \n",
       "4  2020-01-01 05:30:00  2020-01-02 02:30        517        0.0  ...   \n",
       "\n",
       "           CO          NOx   DWT_구간      분당_체선비용       분당_체화비용          CO비용  \\\n",
       "0    0.000000     0.000000  0-10000  6383.333333  0.000000e+00      0.000000   \n",
       "1    0.000000     0.000000  0-10000  6383.333333  3.444791e+08      0.000000   \n",
       "2    0.000000     0.000000  0-10000  6383.333333  2.625806e+08      0.000000   \n",
       "3    0.000000     0.000000  0-10000  6383.333333  2.625806e+08      0.000000   \n",
       "4  582.254878  6176.622696  0-10000  6383.333333  3.278237e+08  91996.270777   \n",
       "\n",
       "          NOx비용     분당_CO비용    분당_NOx비용      분당_환경비용  \n",
       "0  0.000000e+00     0.00000     0.00000     0.000000  \n",
       "1  0.000000e+00     0.00000     0.00000     0.000000  \n",
       "2  0.000000e+00     0.00000     0.00000     0.000000  \n",
       "3  0.000000e+00     0.00000     0.00000     0.000000  \n",
       "4  9.780682e+07  1533.27118  1533.27118  3066.542359  \n",
       "\n",
       "[5 rows x 53 columns]"
      ]
     },
     "execution_count": 103,
     "metadata": {},
     "output_type": "execute_result"
    }
   ],
   "source": [
    "df.head()"
   ]
  },
  {
   "cell_type": "code",
   "execution_count": 104,
   "id": "7a4163a8-cfe0-4879-b120-fa24ce7b9b3e",
   "metadata": {
    "tags": []
   },
   "outputs": [],
   "source": [
    "temp = df.groupby(['계선장소명', 'ETA_Year']).agg(\n",
    "    입항일시=('입항일시', 'count'),\n",
    "    접안_대기시간_분=('접안_대기시간_분', 'mean'), #입출항 1건당 평균\n",
    "    분당_환경비용=('분당_환경비용', 'mean'),\n",
    "    분당_체화비용=('분당_체화비용', 'mean'),\n",
    "    분당_체선비용=('분당_체선비용', 'mean'),\n",
    "    CO배출량 = ('CO','sum'),\n",
    "    NOx배출량 = ('NOx','sum')\n",
    "    \n",
    ")"
   ]
  },
  {
   "cell_type": "code",
   "execution_count": 105,
   "id": "1dfc3569-0b2e-4312-826b-1705c620510f",
   "metadata": {
    "tags": []
   },
   "outputs": [
    {
     "data": {
      "text/html": [
       "<div>\n",
       "<style scoped>\n",
       "    .dataframe tbody tr th:only-of-type {\n",
       "        vertical-align: middle;\n",
       "    }\n",
       "\n",
       "    .dataframe tbody tr th {\n",
       "        vertical-align: top;\n",
       "    }\n",
       "\n",
       "    .dataframe thead th {\n",
       "        text-align: right;\n",
       "    }\n",
       "</style>\n",
       "<table border=\"1\" class=\"dataframe\">\n",
       "  <thead>\n",
       "    <tr style=\"text-align: right;\">\n",
       "      <th></th>\n",
       "      <th></th>\n",
       "      <th>입항일시</th>\n",
       "      <th>접안_대기시간_분</th>\n",
       "      <th>분당_환경비용</th>\n",
       "      <th>분당_체화비용</th>\n",
       "      <th>분당_체선비용</th>\n",
       "      <th>CO배출량</th>\n",
       "      <th>NOx배출량</th>\n",
       "    </tr>\n",
       "    <tr>\n",
       "      <th>계선장소명</th>\n",
       "      <th>ETA_Year</th>\n",
       "      <th></th>\n",
       "      <th></th>\n",
       "      <th></th>\n",
       "      <th></th>\n",
       "      <th></th>\n",
       "      <th></th>\n",
       "      <th></th>\n",
       "    </tr>\n",
       "  </thead>\n",
       "  <tbody>\n",
       "    <tr>\n",
       "      <th rowspan=\"2\" valign=\"top\">(구)벙커링전용정박지 E1</th>\n",
       "      <th>2020</th>\n",
       "      <td>289</td>\n",
       "      <td>333.425606</td>\n",
       "      <td>2732.237648</td>\n",
       "      <td>8.778148e+08</td>\n",
       "      <td>8178.258362</td>\n",
       "      <td>149927.217767</td>\n",
       "      <td>1.590444e+06</td>\n",
       "    </tr>\n",
       "    <tr>\n",
       "      <th>2021</th>\n",
       "      <td>200</td>\n",
       "      <td>483.545000</td>\n",
       "      <td>3552.050657</td>\n",
       "      <td>7.706269e+08</td>\n",
       "      <td>7520.166666</td>\n",
       "      <td>134887.999632</td>\n",
       "      <td>1.430906e+06</td>\n",
       "    </tr>\n",
       "    <tr>\n",
       "      <th rowspan=\"2\" valign=\"top\">(구)벙커링전용정박지 E2</th>\n",
       "      <th>2020</th>\n",
       "      <td>148</td>\n",
       "      <td>302.040541</td>\n",
       "      <td>2979.717888</td>\n",
       "      <td>3.057492e+09</td>\n",
       "      <td>13297.635135</td>\n",
       "      <td>83733.844437</td>\n",
       "      <td>8.882577e+05</td>\n",
       "    </tr>\n",
       "    <tr>\n",
       "      <th>2021</th>\n",
       "      <td>106</td>\n",
       "      <td>426.933962</td>\n",
       "      <td>4504.585251</td>\n",
       "      <td>2.727683e+09</td>\n",
       "      <td>12738.364780</td>\n",
       "      <td>90661.905675</td>\n",
       "      <td>9.617513e+05</td>\n",
       "    </tr>\n",
       "    <tr>\n",
       "      <th>(구)벙커링전용정박지 E3</th>\n",
       "      <th>2020</th>\n",
       "      <td>66</td>\n",
       "      <td>570.121212</td>\n",
       "      <td>10996.762304</td>\n",
       "      <td>6.748288e+09</td>\n",
       "      <td>27254.040404</td>\n",
       "      <td>137807.527613</td>\n",
       "      <td>1.461877e+06</td>\n",
       "    </tr>\n",
       "  </tbody>\n",
       "</table>\n",
       "</div>"
      ],
      "text/plain": [
       "                         입항일시   접안_대기시간_분       분당_환경비용       분당_체화비용  \\\n",
       "계선장소명          ETA_Year                                                 \n",
       "(구)벙커링전용정박지 E1 2020       289  333.425606   2732.237648  8.778148e+08   \n",
       "               2021       200  483.545000   3552.050657  7.706269e+08   \n",
       "(구)벙커링전용정박지 E2 2020       148  302.040541   2979.717888  3.057492e+09   \n",
       "               2021       106  426.933962   4504.585251  2.727683e+09   \n",
       "(구)벙커링전용정박지 E3 2020        66  570.121212  10996.762304  6.748288e+09   \n",
       "\n",
       "                              분당_체선비용          CO배출량        NOx배출량  \n",
       "계선장소명          ETA_Year                                             \n",
       "(구)벙커링전용정박지 E1 2020       8178.258362  149927.217767  1.590444e+06  \n",
       "               2021       7520.166666  134887.999632  1.430906e+06  \n",
       "(구)벙커링전용정박지 E2 2020      13297.635135   83733.844437  8.882577e+05  \n",
       "               2021      12738.364780   90661.905675  9.617513e+05  \n",
       "(구)벙커링전용정박지 E3 2020      27254.040404  137807.527613  1.461877e+06  "
      ]
     },
     "execution_count": 105,
     "metadata": {},
     "output_type": "execute_result"
    }
   ],
   "source": [
    "temp.head()"
   ]
  },
  {
   "cell_type": "code",
   "execution_count": 106,
   "id": "a7cca6e5-0a7d-44e0-9736-b8a44f6f4b9e",
   "metadata": {
    "tags": []
   },
   "outputs": [],
   "source": [
    "temp.reset_index(inplace = True)"
   ]
  },
  {
   "cell_type": "code",
   "execution_count": 107,
   "id": "f95de519-a2cb-46aa-a651-7da94ded47e4",
   "metadata": {
    "tags": []
   },
   "outputs": [],
   "source": [
    "temp.rename(columns = {'입항일시' : '입항수'}, inplace = True)"
   ]
  },
  {
   "cell_type": "code",
   "execution_count": 108,
   "id": "19320ca3-045e-4033-a285-21e5a601e5b9",
   "metadata": {
    "tags": []
   },
   "outputs": [
    {
     "name": "stdout",
     "output_type": "stream",
     "text": [
      "<class 'pandas.core.series.Series'>\n",
      "RangeIndex: 339 entries, 0 to 338\n",
      "Series name: 분당_체선비용\n",
      "Non-Null Count  Dtype  \n",
      "--------------  -----  \n",
      "339 non-null    float64\n",
      "dtypes: float64(1)\n",
      "memory usage: 2.8 KB\n"
     ]
    }
   ],
   "source": [
    "temp['분당_체선비용'].info()"
   ]
  },
  {
   "cell_type": "code",
   "execution_count": 109,
   "id": "aec8cd35-87c1-4c2d-8e94-e9bdfb65db7f",
   "metadata": {
    "tags": []
   },
   "outputs": [],
   "source": [
    "temp = temp.reset_index()"
   ]
  },
  {
   "cell_type": "markdown",
   "id": "5b4666f7-b357-443f-b245-1d63b5f8a877",
   "metadata": {},
   "source": [
    "### BH = (V' x W' - V x W) x(WC + FC + EC)"
   ]
  },
  {
   "cell_type": "code",
   "execution_count": 110,
   "id": "7f0d07ed-8fdb-4624-ac69-4914d9df004b",
   "metadata": {},
   "outputs": [
    {
     "data": {
      "text/plain": [
       "125"
      ]
     },
     "execution_count": 110,
     "metadata": {},
     "output_type": "execute_result"
    }
   ],
   "source": [
    "temp['계선장소명'].nunique() # 3년"
   ]
  },
  {
   "cell_type": "code",
   "execution_count": 111,
   "id": "622e99f4-0df9-4d67-9fc6-b6c74f6c6be4",
   "metadata": {
    "tags": []
   },
   "outputs": [],
   "source": [
    "dock_22 = temp.copy()"
   ]
  },
  {
   "cell_type": "code",
   "execution_count": 112,
   "id": "9cbbd34b-99f4-4127-bf69-9785331e5498",
   "metadata": {
    "tags": []
   },
   "outputs": [
    {
     "data": {
      "text/html": [
       "<div>\n",
       "<style scoped>\n",
       "    .dataframe tbody tr th:only-of-type {\n",
       "        vertical-align: middle;\n",
       "    }\n",
       "\n",
       "    .dataframe tbody tr th {\n",
       "        vertical-align: top;\n",
       "    }\n",
       "\n",
       "    .dataframe thead th {\n",
       "        text-align: right;\n",
       "    }\n",
       "</style>\n",
       "<table border=\"1\" class=\"dataframe\">\n",
       "  <thead>\n",
       "    <tr style=\"text-align: right;\">\n",
       "      <th></th>\n",
       "      <th>index</th>\n",
       "      <th>계선장소명</th>\n",
       "      <th>ETA_Year</th>\n",
       "      <th>입항수</th>\n",
       "      <th>접안_대기시간_분</th>\n",
       "      <th>분당_환경비용</th>\n",
       "      <th>분당_체화비용</th>\n",
       "      <th>분당_체선비용</th>\n",
       "      <th>CO배출량</th>\n",
       "      <th>NOx배출량</th>\n",
       "    </tr>\n",
       "  </thead>\n",
       "  <tbody>\n",
       "    <tr>\n",
       "      <th>0</th>\n",
       "      <td>0</td>\n",
       "      <td>(구)벙커링전용정박지 E1</td>\n",
       "      <td>2020</td>\n",
       "      <td>289</td>\n",
       "      <td>333.425606</td>\n",
       "      <td>2732.237648</td>\n",
       "      <td>8.778148e+08</td>\n",
       "      <td>8178.258362</td>\n",
       "      <td>149927.217767</td>\n",
       "      <td>1.590444e+06</td>\n",
       "    </tr>\n",
       "    <tr>\n",
       "      <th>1</th>\n",
       "      <td>1</td>\n",
       "      <td>(구)벙커링전용정박지 E1</td>\n",
       "      <td>2021</td>\n",
       "      <td>200</td>\n",
       "      <td>483.545000</td>\n",
       "      <td>3552.050657</td>\n",
       "      <td>7.706269e+08</td>\n",
       "      <td>7520.166666</td>\n",
       "      <td>134887.999632</td>\n",
       "      <td>1.430906e+06</td>\n",
       "    </tr>\n",
       "    <tr>\n",
       "      <th>2</th>\n",
       "      <td>2</td>\n",
       "      <td>(구)벙커링전용정박지 E2</td>\n",
       "      <td>2020</td>\n",
       "      <td>148</td>\n",
       "      <td>302.040541</td>\n",
       "      <td>2979.717888</td>\n",
       "      <td>3.057492e+09</td>\n",
       "      <td>13297.635135</td>\n",
       "      <td>83733.844437</td>\n",
       "      <td>8.882577e+05</td>\n",
       "    </tr>\n",
       "    <tr>\n",
       "      <th>3</th>\n",
       "      <td>3</td>\n",
       "      <td>(구)벙커링전용정박지 E2</td>\n",
       "      <td>2021</td>\n",
       "      <td>106</td>\n",
       "      <td>426.933962</td>\n",
       "      <td>4504.585251</td>\n",
       "      <td>2.727683e+09</td>\n",
       "      <td>12738.364780</td>\n",
       "      <td>90661.905675</td>\n",
       "      <td>9.617513e+05</td>\n",
       "    </tr>\n",
       "    <tr>\n",
       "      <th>4</th>\n",
       "      <td>4</td>\n",
       "      <td>(구)벙커링전용정박지 E3</td>\n",
       "      <td>2020</td>\n",
       "      <td>66</td>\n",
       "      <td>570.121212</td>\n",
       "      <td>10996.762304</td>\n",
       "      <td>6.748288e+09</td>\n",
       "      <td>27254.040404</td>\n",
       "      <td>137807.527613</td>\n",
       "      <td>1.461877e+06</td>\n",
       "    </tr>\n",
       "  </tbody>\n",
       "</table>\n",
       "</div>"
      ],
      "text/plain": [
       "   index           계선장소명  ETA_Year  입항수   접안_대기시간_분       분당_환경비용  \\\n",
       "0      0  (구)벙커링전용정박지 E1      2020  289  333.425606   2732.237648   \n",
       "1      1  (구)벙커링전용정박지 E1      2021  200  483.545000   3552.050657   \n",
       "2      2  (구)벙커링전용정박지 E2      2020  148  302.040541   2979.717888   \n",
       "3      3  (구)벙커링전용정박지 E2      2021  106  426.933962   4504.585251   \n",
       "4      4  (구)벙커링전용정박지 E3      2020   66  570.121212  10996.762304   \n",
       "\n",
       "        분당_체화비용       분당_체선비용          CO배출량        NOx배출량  \n",
       "0  8.778148e+08   8178.258362  149927.217767  1.590444e+06  \n",
       "1  7.706269e+08   7520.166666  134887.999632  1.430906e+06  \n",
       "2  3.057492e+09  13297.635135   83733.844437  8.882577e+05  \n",
       "3  2.727683e+09  12738.364780   90661.905675  9.617513e+05  \n",
       "4  6.748288e+09  27254.040404  137807.527613  1.461877e+06  "
      ]
     },
     "execution_count": 112,
     "metadata": {},
     "output_type": "execute_result"
    }
   ],
   "source": [
    "dock_22.head()"
   ]
  },
  {
   "cell_type": "code",
   "execution_count": 113,
   "id": "7e711644-2cd5-4db3-a3ae-03b2b216d8d8",
   "metadata": {
    "tags": []
   },
   "outputs": [],
   "source": [
    "dock_22['접안_대기시간_분_5%_감소'] = dock_22['접안_대기시간_분']*0.95"
   ]
  },
  {
   "cell_type": "code",
   "execution_count": 114,
   "id": "1bf3dfdd-9a9c-4350-bf1d-e6396b601eff",
   "metadata": {
    "tags": []
   },
   "outputs": [],
   "source": [
    "dock_22['BH(5%)'] = (dock_22['입항수']*dock_22['접안_대기시간_분'] - dock_22['입항수']*dock_22['접안_대기시간_분_5%_감소'])*(dock_22['분당_환경비용']+dock_22['분당_체선비용']+dock_22['분당_체화비용'])"
   ]
  },
  {
   "cell_type": "code",
   "execution_count": 115,
   "id": "cbf073bb-2e7e-4993-b19a-138d0d6a4fa5",
   "metadata": {
    "tags": []
   },
   "outputs": [],
   "source": [
    "dock_22['선박대기비용'] = (dock_22['입항수']*dock_22['접안_대기시간_분'])*(dock_22['분당_환경비용']+dock_22['분당_체선비용']+dock_22['분당_체화비용'])"
   ]
  },
  {
   "cell_type": "code",
   "execution_count": 116,
   "id": "26de1ccc-a930-468e-8ff1-1739c445636d",
   "metadata": {
    "tags": []
   },
   "outputs": [],
   "source": [
    "dock_22['선박대기비용(5%)'] = (dock_22['입항수']*dock_22['접안_대기시간_분_5%_감소'])*(dock_22['분당_환경비용']+dock_22['분당_체선비용']+dock_22['분당_체화비용'])"
   ]
  },
  {
   "cell_type": "code",
   "execution_count": 117,
   "id": "2f309f03-2f40-4f50-95e6-d1ea32fd79b3",
   "metadata": {
    "tags": []
   },
   "outputs": [],
   "source": [
    "cost20 = dock_22[dock_22['ETA_Year'] == 2020]['선박대기비용'].sum() #입출항 1건당\n",
    "cost21 = dock_22[dock_22['ETA_Year'] == 2021]['선박대기비용'].sum()\n",
    "cost22 = dock_22[dock_22['ETA_Year'] == 2021]['선박대기비용'].sum()"
   ]
  },
  {
   "cell_type": "code",
   "execution_count": 118,
   "id": "cf8bd27b-99aa-46f4-85ac-4c0525c78564",
   "metadata": {
    "tags": []
   },
   "outputs": [
    {
     "data": {
      "text/plain": [
       "9380286033264674.0"
      ]
     },
     "execution_count": 118,
     "metadata": {},
     "output_type": "execute_result"
    }
   ],
   "source": [
    "cost = (cost20 + cost21 + cost22) / 3\n",
    "cost"
   ]
  },
  {
   "cell_type": "markdown",
   "id": "693c4537-2ca5-4104-bdb0-a5baf506152a",
   "metadata": {
    "tags": []
   },
   "source": [
    "1년 기준, 모든 선석에서 평균 대기시간을 5% 줄였을 때, 전체 선석에서 81조, 781억 9132만 9078원 7.6원 원 절감"
   ]
  },
  {
   "cell_type": "code",
   "execution_count": 119,
   "id": "fb8ff96e-defc-43e1-9e32-48b24e56c70a",
   "metadata": {
    "tags": []
   },
   "outputs": [],
   "source": [
    "# 소수점 단위 반올림\n",
    "dock_22[['BH(5%)', '선박대기비용', '선박대기비용(5%)']] = dock_22[['BH(5%)', '선박대기비용', '선박대기비용(5%)']].round()"
   ]
  },
  {
   "cell_type": "code",
   "execution_count": 120,
   "id": "fa7f518a-fdb7-4c7d-816b-c378a143f76c",
   "metadata": {
    "tags": []
   },
   "outputs": [
    {
     "data": {
      "text/html": [
       "<div>\n",
       "<style scoped>\n",
       "    .dataframe tbody tr th:only-of-type {\n",
       "        vertical-align: middle;\n",
       "    }\n",
       "\n",
       "    .dataframe tbody tr th {\n",
       "        vertical-align: top;\n",
       "    }\n",
       "\n",
       "    .dataframe thead th {\n",
       "        text-align: right;\n",
       "    }\n",
       "</style>\n",
       "<table border=\"1\" class=\"dataframe\">\n",
       "  <thead>\n",
       "    <tr style=\"text-align: right;\">\n",
       "      <th></th>\n",
       "      <th>계선장소명</th>\n",
       "      <th>BH(5%)</th>\n",
       "      <th>선박대기비용</th>\n",
       "      <th>선박대기비용(5%)</th>\n",
       "    </tr>\n",
       "  </thead>\n",
       "  <tbody>\n",
       "    <tr>\n",
       "      <th>0</th>\n",
       "      <td>(구)벙커링전용정박지 E1</td>\n",
       "      <td>4.229364e+12</td>\n",
       "      <td>8.458728e+13</td>\n",
       "      <td>8.035792e+13</td>\n",
       "    </tr>\n",
       "    <tr>\n",
       "      <th>1</th>\n",
       "      <td>(구)벙커링전용정박지 E1</td>\n",
       "      <td>3.726381e+12</td>\n",
       "      <td>7.452763e+13</td>\n",
       "      <td>7.080125e+13</td>\n",
       "    </tr>\n",
       "    <tr>\n",
       "      <th>2</th>\n",
       "      <td>(구)벙커링전용정박지 E2</td>\n",
       "      <td>6.833837e+12</td>\n",
       "      <td>1.366767e+14</td>\n",
       "      <td>1.298429e+14</td>\n",
       "    </tr>\n",
       "    <tr>\n",
       "      <th>3</th>\n",
       "      <td>(구)벙커링전용정박지 E2</td>\n",
       "      <td>6.172105e+12</td>\n",
       "      <td>1.234421e+14</td>\n",
       "      <td>1.172700e+14</td>\n",
       "    </tr>\n",
       "    <tr>\n",
       "      <th>4</th>\n",
       "      <td>(구)벙커링전용정박지 E3</td>\n",
       "      <td>1.269630e+13</td>\n",
       "      <td>2.539260e+14</td>\n",
       "      <td>2.412297e+14</td>\n",
       "    </tr>\n",
       "    <tr>\n",
       "      <th>...</th>\n",
       "      <td>...</td>\n",
       "      <td>...</td>\n",
       "      <td>...</td>\n",
       "      <td>...</td>\n",
       "    </tr>\n",
       "    <tr>\n",
       "      <th>334</th>\n",
       "      <td>화암부두 06</td>\n",
       "      <td>0.000000e+00</td>\n",
       "      <td>0.000000e+00</td>\n",
       "      <td>0.000000e+00</td>\n",
       "    </tr>\n",
       "    <tr>\n",
       "      <th>335</th>\n",
       "      <td>화암부두 06</td>\n",
       "      <td>0.000000e+00</td>\n",
       "      <td>0.000000e+00</td>\n",
       "      <td>0.000000e+00</td>\n",
       "    </tr>\n",
       "    <tr>\n",
       "      <th>336</th>\n",
       "      <td>효성부두</td>\n",
       "      <td>4.867017e+11</td>\n",
       "      <td>9.734034e+12</td>\n",
       "      <td>9.247332e+12</td>\n",
       "    </tr>\n",
       "    <tr>\n",
       "      <th>337</th>\n",
       "      <td>효성부두</td>\n",
       "      <td>1.419447e+11</td>\n",
       "      <td>2.838895e+12</td>\n",
       "      <td>2.696950e+12</td>\n",
       "    </tr>\n",
       "    <tr>\n",
       "      <th>338</th>\n",
       "      <td>효성부두</td>\n",
       "      <td>1.994377e+11</td>\n",
       "      <td>3.988754e+12</td>\n",
       "      <td>3.789316e+12</td>\n",
       "    </tr>\n",
       "  </tbody>\n",
       "</table>\n",
       "<p>339 rows × 4 columns</p>\n",
       "</div>"
      ],
      "text/plain": [
       "              계선장소명        BH(5%)        선박대기비용    선박대기비용(5%)\n",
       "0    (구)벙커링전용정박지 E1  4.229364e+12  8.458728e+13  8.035792e+13\n",
       "1    (구)벙커링전용정박지 E1  3.726381e+12  7.452763e+13  7.080125e+13\n",
       "2    (구)벙커링전용정박지 E2  6.833837e+12  1.366767e+14  1.298429e+14\n",
       "3    (구)벙커링전용정박지 E2  6.172105e+12  1.234421e+14  1.172700e+14\n",
       "4    (구)벙커링전용정박지 E3  1.269630e+13  2.539260e+14  2.412297e+14\n",
       "..              ...           ...           ...           ...\n",
       "334         화암부두 06  0.000000e+00  0.000000e+00  0.000000e+00\n",
       "335         화암부두 06  0.000000e+00  0.000000e+00  0.000000e+00\n",
       "336            효성부두  4.867017e+11  9.734034e+12  9.247332e+12\n",
       "337            효성부두  1.419447e+11  2.838895e+12  2.696950e+12\n",
       "338            효성부두  1.994377e+11  3.988754e+12  3.789316e+12\n",
       "\n",
       "[339 rows x 4 columns]"
      ]
     },
     "execution_count": 120,
     "metadata": {},
     "output_type": "execute_result"
    }
   ],
   "source": [
    "dock_22[['계선장소명','BH(5%)', '선박대기비용', '선박대기비용(5%)']]"
   ]
  },
  {
   "cell_type": "code",
   "execution_count": 121,
   "id": "e09eac1a-3351-4282-ace1-40e3d99e26ee",
   "metadata": {
    "tags": []
   },
   "outputs": [
    {
     "data": {
      "text/html": [
       "<div>\n",
       "<style scoped>\n",
       "    .dataframe tbody tr th:only-of-type {\n",
       "        vertical-align: middle;\n",
       "    }\n",
       "\n",
       "    .dataframe tbody tr th {\n",
       "        vertical-align: top;\n",
       "    }\n",
       "\n",
       "    .dataframe thead th {\n",
       "        text-align: right;\n",
       "    }\n",
       "</style>\n",
       "<table border=\"1\" class=\"dataframe\">\n",
       "  <thead>\n",
       "    <tr style=\"text-align: right;\">\n",
       "      <th></th>\n",
       "      <th>계선장소명</th>\n",
       "      <th>BH(5%)</th>\n",
       "      <th>선박대기비용</th>\n",
       "      <th>선박대기비용(5%)</th>\n",
       "    </tr>\n",
       "  </thead>\n",
       "  <tbody>\n",
       "    <tr>\n",
       "      <th>0</th>\n",
       "      <td>(구)벙커링전용정박지 E1</td>\n",
       "      <td>42294.0</td>\n",
       "      <td>845873.0</td>\n",
       "      <td>803579.0</td>\n",
       "    </tr>\n",
       "    <tr>\n",
       "      <th>1</th>\n",
       "      <td>(구)벙커링전용정박지 E1</td>\n",
       "      <td>37264.0</td>\n",
       "      <td>745276.0</td>\n",
       "      <td>708012.0</td>\n",
       "    </tr>\n",
       "    <tr>\n",
       "      <th>2</th>\n",
       "      <td>(구)벙커링전용정박지 E2</td>\n",
       "      <td>68338.0</td>\n",
       "      <td>1366767.0</td>\n",
       "      <td>1298429.0</td>\n",
       "    </tr>\n",
       "    <tr>\n",
       "      <th>3</th>\n",
       "      <td>(구)벙커링전용정박지 E2</td>\n",
       "      <td>61721.0</td>\n",
       "      <td>1234421.0</td>\n",
       "      <td>1172700.0</td>\n",
       "    </tr>\n",
       "    <tr>\n",
       "      <th>4</th>\n",
       "      <td>(구)벙커링전용정박지 E3</td>\n",
       "      <td>126963.0</td>\n",
       "      <td>2539260.0</td>\n",
       "      <td>2412297.0</td>\n",
       "    </tr>\n",
       "    <tr>\n",
       "      <th>...</th>\n",
       "      <td>...</td>\n",
       "      <td>...</td>\n",
       "      <td>...</td>\n",
       "      <td>...</td>\n",
       "    </tr>\n",
       "    <tr>\n",
       "      <th>334</th>\n",
       "      <td>화암부두 06</td>\n",
       "      <td>0.0</td>\n",
       "      <td>0.0</td>\n",
       "      <td>0.0</td>\n",
       "    </tr>\n",
       "    <tr>\n",
       "      <th>335</th>\n",
       "      <td>화암부두 06</td>\n",
       "      <td>0.0</td>\n",
       "      <td>0.0</td>\n",
       "      <td>0.0</td>\n",
       "    </tr>\n",
       "    <tr>\n",
       "      <th>336</th>\n",
       "      <td>효성부두</td>\n",
       "      <td>4867.0</td>\n",
       "      <td>97340.0</td>\n",
       "      <td>92473.0</td>\n",
       "    </tr>\n",
       "    <tr>\n",
       "      <th>337</th>\n",
       "      <td>효성부두</td>\n",
       "      <td>1419.0</td>\n",
       "      <td>28389.0</td>\n",
       "      <td>26970.0</td>\n",
       "    </tr>\n",
       "    <tr>\n",
       "      <th>338</th>\n",
       "      <td>효성부두</td>\n",
       "      <td>1994.0</td>\n",
       "      <td>39888.0</td>\n",
       "      <td>37893.0</td>\n",
       "    </tr>\n",
       "  </tbody>\n",
       "</table>\n",
       "<p>339 rows × 4 columns</p>\n",
       "</div>"
      ],
      "text/plain": [
       "              계선장소명    BH(5%)     선박대기비용  선박대기비용(5%)\n",
       "0    (구)벙커링전용정박지 E1   42294.0   845873.0    803579.0\n",
       "1    (구)벙커링전용정박지 E1   37264.0   745276.0    708012.0\n",
       "2    (구)벙커링전용정박지 E2   68338.0  1366767.0   1298429.0\n",
       "3    (구)벙커링전용정박지 E2   61721.0  1234421.0   1172700.0\n",
       "4    (구)벙커링전용정박지 E3  126963.0  2539260.0   2412297.0\n",
       "..              ...       ...        ...         ...\n",
       "334         화암부두 06       0.0        0.0         0.0\n",
       "335         화암부두 06       0.0        0.0         0.0\n",
       "336            효성부두    4867.0    97340.0     92473.0\n",
       "337            효성부두    1419.0    28389.0     26970.0\n",
       "338            효성부두    1994.0    39888.0     37893.0\n",
       "\n",
       "[339 rows x 4 columns]"
      ]
     },
     "execution_count": 121,
     "metadata": {},
     "output_type": "execute_result"
    }
   ],
   "source": [
    "def truncate_to_billion(value):\n",
    "    return round(value / 1e8)\n",
    "\n",
    "# 'BH(5%)', '선박대기비용', '선박대기비용(5%)' 열의 값을 억(10^8) 단위로 절삭\n",
    "dock_22[['BH(5%)', '선박대기비용', '선박대기비용(5%)']] = dock_22[['BH(5%)', '선박대기비용', '선박대기비용(5%)']].apply(truncate_to_billion)\n",
    "dock_22[['계선장소명', 'BH(5%)', '선박대기비용', '선박대기비용(5%)']]"
   ]
  },
  {
   "cell_type": "code",
   "execution_count": 122,
   "id": "69a45936-09f8-47ec-b6dd-f93f4c14d4e8",
   "metadata": {
    "tags": []
   },
   "outputs": [],
   "source": [
    "dock_22 = dock_22[dock_22['선박대기비용'] >= 1]"
   ]
  },
  {
   "cell_type": "code",
   "execution_count": 123,
   "id": "2cc384e8-98e2-4bee-9f6f-6d7e76d416ff",
   "metadata": {
    "tags": []
   },
   "outputs": [],
   "source": [
    "dock_cost = dock_22[['계선장소명', 'BH(5%)', '선박대기비용', '선박대기비용(5%)']]"
   ]
  },
  {
   "cell_type": "code",
   "execution_count": 124,
   "id": "2756405d-a9ba-48d2-acc5-f9020e454a76",
   "metadata": {
    "tags": []
   },
   "outputs": [],
   "source": [
    "# '선박대기비용'을 기준으로 내림차순 정렬 후 상위 3개 선택\n",
    "top_3_ports = dock_cost.sort_values(by='선박대기비용', ascending=False).head(7)"
   ]
  },
  {
   "cell_type": "code",
   "execution_count": 125,
   "id": "009194b3-4cd5-4b20-8b7d-c242626f3911",
   "metadata": {
    "tags": []
   },
   "outputs": [
    {
     "data": {
      "text/html": [
       "<div>\n",
       "<style scoped>\n",
       "    .dataframe tbody tr th:only-of-type {\n",
       "        vertical-align: middle;\n",
       "    }\n",
       "\n",
       "    .dataframe tbody tr th {\n",
       "        vertical-align: top;\n",
       "    }\n",
       "\n",
       "    .dataframe thead th {\n",
       "        text-align: right;\n",
       "    }\n",
       "</style>\n",
       "<table border=\"1\" class=\"dataframe\">\n",
       "  <thead>\n",
       "    <tr style=\"text-align: right;\">\n",
       "      <th></th>\n",
       "      <th>계선장소명</th>\n",
       "      <th>BH(5%)</th>\n",
       "      <th>선박대기비용</th>\n",
       "      <th>선박대기비용(5%)</th>\n",
       "    </tr>\n",
       "  </thead>\n",
       "  <tbody>\n",
       "    <tr>\n",
       "      <th>112</th>\n",
       "      <td>SK7부두</td>\n",
       "      <td>893293.0</td>\n",
       "      <td>17865859.0</td>\n",
       "      <td>16972566.0</td>\n",
       "    </tr>\n",
       "    <tr>\n",
       "      <th>111</th>\n",
       "      <td>SK7부두</td>\n",
       "      <td>729409.0</td>\n",
       "      <td>14588188.0</td>\n",
       "      <td>13858778.0</td>\n",
       "    </tr>\n",
       "    <tr>\n",
       "      <th>115</th>\n",
       "      <td>SK8부두</td>\n",
       "      <td>698415.0</td>\n",
       "      <td>13968297.0</td>\n",
       "      <td>13269883.0</td>\n",
       "    </tr>\n",
       "    <tr>\n",
       "      <th>110</th>\n",
       "      <td>SK7부두</td>\n",
       "      <td>569071.0</td>\n",
       "      <td>11381427.0</td>\n",
       "      <td>10812356.0</td>\n",
       "    </tr>\n",
       "    <tr>\n",
       "      <th>113</th>\n",
       "      <td>SK8부두</td>\n",
       "      <td>428782.0</td>\n",
       "      <td>8575641.0</td>\n",
       "      <td>8146859.0</td>\n",
       "    </tr>\n",
       "    <tr>\n",
       "      <th>79</th>\n",
       "      <td>S-OIL3부두</td>\n",
       "      <td>401251.0</td>\n",
       "      <td>8025011.0</td>\n",
       "      <td>7623761.0</td>\n",
       "    </tr>\n",
       "    <tr>\n",
       "      <th>71</th>\n",
       "      <td>S-OIL1부두</td>\n",
       "      <td>323845.0</td>\n",
       "      <td>6476905.0</td>\n",
       "      <td>6153060.0</td>\n",
       "    </tr>\n",
       "  </tbody>\n",
       "</table>\n",
       "</div>"
      ],
      "text/plain": [
       "        계선장소명    BH(5%)      선박대기비용  선박대기비용(5%)\n",
       "112     SK7부두  893293.0  17865859.0  16972566.0\n",
       "111     SK7부두  729409.0  14588188.0  13858778.0\n",
       "115     SK8부두  698415.0  13968297.0  13269883.0\n",
       "110     SK7부두  569071.0  11381427.0  10812356.0\n",
       "113     SK8부두  428782.0   8575641.0   8146859.0\n",
       "79   S-OIL3부두  401251.0   8025011.0   7623761.0\n",
       "71   S-OIL1부두  323845.0   6476905.0   6153060.0"
      ]
     },
     "execution_count": 125,
     "metadata": {},
     "output_type": "execute_result"
    }
   ],
   "source": [
    "top_3_ports"
   ]
  },
  {
   "cell_type": "code",
   "execution_count": 126,
   "id": "91c5c131-a62d-4fed-91f6-201cc1cd593a",
   "metadata": {
    "tags": []
   },
   "outputs": [
    {
     "data": {
      "image/png": "[encoded data removed]",
      "text/plain": [
       "<Figure size 640x480 with 1 Axes>"
      ]
     },
     "metadata": {},
     "output_type": "display_data"
    }
   ],
   "source": [
    "import matplotlib.pyplot as plt\n",
    "import seaborn as sns\n",
    "plt.rc(\"font\", family=\"AppleGothic\") # 라이브러리 불러오기와 함께 한번만 실행\n",
    "\n",
    "plt.plot([1, 2, 3])\n",
    "plt.title(\"한글\")\n",
    "plt.show()"
   ]
  },
  {
   "cell_type": "code",
   "execution_count": 127,
   "id": "620b0dbc-e66b-47b7-ac47-0b35dc266b49",
   "metadata": {
    "tags": []
   },
   "outputs": [
    {
     "data": {
      "image/png": "[encoded data removed]",
      "text/plain": [
       "<Figure size 1000x600 with 2 Axes>"
      ]
     },
     "metadata": {},
     "output_type": "display_data"
    }
   ],
   "source": [
    "import matplotlib.pyplot as plt\n",
    "\n",
    "# '선박대기비용'과 '선박대기비용(5%)' 그래프\n",
    "fig, ax1 = plt.subplots(figsize=(10, 6))\n",
    "\n",
    "# 각 항목의 위치 설정\n",
    "bar_width = 0.35\n",
    "bar_positions = range(len(top_3_ports))\n",
    "\n",
    "# '선박대기비용' 그래프 (연한 녹색)\n",
    "ax1.bar(bar_positions, top_3_ports['선박대기비용'], width=bar_width, label='선박대기비용', color='lightsteelblue', alpha=0.7)\n",
    "\n",
    "# '선박대기비용(5%)' 그래프 (연한 파랑)\n",
    "ax1.bar([p + bar_width for p in bar_positions], top_3_ports['선박대기비용(5%)'], width=bar_width, label='선박대기비용(5%)', color='cornflowerblue', alpha=0.7)\n",
    "\n",
    "# 범례 표시\n",
    "ax1.legend(loc='upper left')\n",
    "\n",
    "# '선박대기비용 - 선박대기비용(5%)' 그래프 (BH(5%))\n",
    "ax2 = ax1.twinx()\n",
    "ax2.plot([p + bar_width / 2 for p in bar_positions], top_3_ports['선박대기비용'] - top_3_ports['선박대기비용(5%)'], marker='o', color='midnightblue', label='BH(5%)')\n",
    "\n",
    "# 범례 표시\n",
    "ax2.legend(loc='upper right')\n",
    "\n",
    "# x 축 레이블과 타이틀 설정\n",
    "plt.xlabel('항구')\n",
    "\n",
    "# x 축 레이블 위치 조정\n",
    "plt.xticks([p + bar_width / 2 for p in bar_positions], top_3_ports['계선장소명'])\n",
    "\n",
    "# 레이아웃 조정\n",
    "plt.title('접안 대기시간(분) 5% 감소 시 선박대기비용')\n",
    "\n",
    "plt.tight_layout()\n",
    "plt.show()\n"
   ]
  }
 ],
 "metadata": {
  "kernelspec": {
   "display_name": "Python 3 (ipykernel)",
   "language": "python",
   "name": "python3"
  },
  "language_info": {
   "codemirror_mode": {
    "name": "ipython",
    "version": 3
   },
   "file_extension": ".py",
   "mimetype": "text/x-python",
   "name": "python",
   "nbconvert_exporter": "python",
   "pygments_lexer": "ipython3",
   "version": "3.11.4"
  }
 },
 "nbformat": 4,
 "nbformat_minor": 5
}
