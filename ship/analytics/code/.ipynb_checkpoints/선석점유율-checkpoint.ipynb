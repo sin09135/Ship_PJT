{
 "cells": [
  {
   "cell_type": "code",
   "execution_count": 45,
   "id": "f615bfb2-5771-440f-aaa3-a79e0f533912",
   "metadata": {
    "tags": []
   },
   "outputs": [],
   "source": [
    "import pandas as pd\n",
    "PATH  = '../data/'\n",
    "\n",
    "df = pd.read_csv(PATH + '액체_모델용.csv')"
   ]
  },
  {
   "cell_type": "code",
   "execution_count": 46,
   "id": "c5049ee5-f65c-49d7-84e7-141ce220c155",
   "metadata": {
    "tags": []
   },
   "outputs": [
    {
     "data": {
      "text/plain": [
       "Index(['Datetime', 'ETA_Year', 'ETA_Month', 'ETA_Day', 'ETA_Hour', '호출부호',\n",
       "       '입항일시', '출항일시', '접안_대기시간_분', '출항_대기시간_분', 'Service_Time_Start',\n",
       "       'Service_Time_End', '계선장소_코드', '계선장소_숫자', '계선장소명', '선박용도',\n",
       "       'Service_Time_분', '대기율', '총톤수', '재화중량톤수', '선박제원(총길이, m)', '선박제원(너비, m)',\n",
       "       '만재흘수(m)', '깊이(m)', '길이1(m)', 'ETA_Minute', '풍속(m/s)', '풍향(deg)',\n",
       "       'GUST풍속(m/s)', '현지기압(hPa)', '습도(%)', '기온(°C)', '수온(°C)', '최대파고(m)',\n",
       "       '유의파고(m)', '평균파고(m)', '파주기(sec)', '파향(deg)', '액체화물'],\n",
       "      dtype='object')"
      ]
     },
     "execution_count": 46,
     "metadata": {},
     "output_type": "execute_result"
    }
   ],
   "source": [
    "df.columns"
   ]
  },
  {
   "cell_type": "code",
   "execution_count": 47,
   "id": "5412e436-d3a1-48c9-9d8e-88fbf5eab454",
   "metadata": {
    "tags": []
   },
   "outputs": [
    {
     "data": {
      "text/plain": [
       "0        2020-01-01 01:05:00\n",
       "1        2020-01-01 03:05:00\n",
       "2        2020-01-01 04:30:00\n",
       "3        2020-01-01 05:40:00\n",
       "4        2020-01-01 14:07:00\n",
       "                ...         \n",
       "50996    2022-12-31 09:00:00\n",
       "50997    2022-12-31 09:45:00\n",
       "50998    2022-12-31 10:05:00\n",
       "50999    2022-12-31 15:55:00\n",
       "51000    2022-12-31 17:55:00\n",
       "Name: Service_Time_Start, Length: 51001, dtype: object"
      ]
     },
     "execution_count": 47,
     "metadata": {},
     "output_type": "execute_result"
    }
   ],
   "source": [
    "df['Service_Time_Start']"
   ]
  },
  {
   "cell_type": "code",
   "execution_count": 64,
   "id": "434a023f-5727-4355-a4eb-963ef5e18c87",
   "metadata": {
    "tags": []
   },
   "outputs": [
    {
     "data": {
      "text/html": [
       "<div>\n",
       "<style scoped>\n",
       "    .dataframe tbody tr th:only-of-type {\n",
       "        vertical-align: middle;\n",
       "    }\n",
       "\n",
       "    .dataframe tbody tr th {\n",
       "        vertical-align: top;\n",
       "    }\n",
       "\n",
       "    .dataframe thead th {\n",
       "        text-align: right;\n",
       "    }\n",
       "</style>\n",
       "<table border=\"1\" class=\"dataframe\">\n",
       "  <thead>\n",
       "    <tr style=\"text-align: right;\">\n",
       "      <th></th>\n",
       "      <th>계선장소명</th>\n",
       "      <th>Service_Time_분</th>\n",
       "      <th>접안_대기시간_분</th>\n",
       "    </tr>\n",
       "  </thead>\n",
       "  <tbody>\n",
       "    <tr>\n",
       "      <th>0</th>\n",
       "      <td>(구)벙커링전용정박지 E1</td>\n",
       "      <td>884406.0</td>\n",
       "      <td>193069</td>\n",
       "    </tr>\n",
       "    <tr>\n",
       "      <th>1</th>\n",
       "      <td>(구)벙커링전용정박지 E2</td>\n",
       "      <td>670905.0</td>\n",
       "      <td>89957</td>\n",
       "    </tr>\n",
       "    <tr>\n",
       "      <th>2</th>\n",
       "      <td>(구)벙커링전용정박지 E3</td>\n",
       "      <td>524544.0</td>\n",
       "      <td>75972</td>\n",
       "    </tr>\n",
       "    <tr>\n",
       "      <th>3</th>\n",
       "      <td>1부두 01</td>\n",
       "      <td>99757.0</td>\n",
       "      <td>23053</td>\n",
       "    </tr>\n",
       "    <tr>\n",
       "      <th>4</th>\n",
       "      <td>2부두 01</td>\n",
       "      <td>129648.0</td>\n",
       "      <td>9543</td>\n",
       "    </tr>\n",
       "    <tr>\n",
       "      <th>...</th>\n",
       "      <td>...</td>\n",
       "      <td>...</td>\n",
       "      <td>...</td>\n",
       "    </tr>\n",
       "    <tr>\n",
       "      <th>120</th>\n",
       "      <td>현중해양의장안벽</td>\n",
       "      <td>347150.0</td>\n",
       "      <td>4061</td>\n",
       "    </tr>\n",
       "    <tr>\n",
       "      <th>121</th>\n",
       "      <td>화암부두 01</td>\n",
       "      <td>1040.0</td>\n",
       "      <td>368</td>\n",
       "    </tr>\n",
       "    <tr>\n",
       "      <th>122</th>\n",
       "      <td>화암부두 05</td>\n",
       "      <td>730.0</td>\n",
       "      <td>0</td>\n",
       "    </tr>\n",
       "    <tr>\n",
       "      <th>123</th>\n",
       "      <td>화암부두 06</td>\n",
       "      <td>5862.0</td>\n",
       "      <td>0</td>\n",
       "    </tr>\n",
       "    <tr>\n",
       "      <th>124</th>\n",
       "      <td>효성부두</td>\n",
       "      <td>759970.0</td>\n",
       "      <td>67351</td>\n",
       "    </tr>\n",
       "  </tbody>\n",
       "</table>\n",
       "<p>125 rows × 3 columns</p>\n",
       "</div>"
      ],
      "text/plain": [
       "              계선장소명  Service_Time_분  접안_대기시간_분\n",
       "0    (구)벙커링전용정박지 E1        884406.0     193069\n",
       "1    (구)벙커링전용정박지 E2        670905.0      89957\n",
       "2    (구)벙커링전용정박지 E3        524544.0      75972\n",
       "3            1부두 01         99757.0      23053\n",
       "4            2부두 01        129648.0       9543\n",
       "..              ...             ...        ...\n",
       "120        현중해양의장안벽        347150.0       4061\n",
       "121         화암부두 01          1040.0        368\n",
       "122         화암부두 05           730.0          0\n",
       "123         화암부두 06          5862.0          0\n",
       "124            효성부두        759970.0      67351\n",
       "\n",
       "[125 rows x 3 columns]"
      ]
     },
     "execution_count": 64,
     "metadata": {},
     "output_type": "execute_result"
    }
   ],
   "source": [
    "temp = df.groupby('계선장소명')[['Service_Time_분', '접안_대기시간_분']].sum().reset_index()\n",
    "temp"
   ]
  },
  {
   "cell_type": "code",
   "execution_count": 65,
   "id": "175d0461-9605-43a9-aa48-75a397f045f7",
   "metadata": {
    "tags": []
   },
   "outputs": [
    {
     "name": "stdout",
     "output_type": "stream",
     "text": [
      "1555200\n"
     ]
    }
   ],
   "source": [
    "print(24*60*360*3)"
   ]
  },
  {
   "cell_type": "code",
   "execution_count": 66,
   "id": "217937de-eb69-4377-8720-e193bda7ac70",
   "metadata": {
    "tags": []
   },
   "outputs": [],
   "source": [
    "temp['점유율'] = temp['Service_Time_분'] / 1555200"
   ]
  },
  {
   "cell_type": "code",
   "execution_count": 67,
   "id": "1edbba24-61ed-43b9-8554-1eb61d4cdb45",
   "metadata": {
    "tags": []
   },
   "outputs": [
    {
     "data": {
      "text/plain": [
       "0.519562494855967"
      ]
     },
     "execution_count": 67,
     "metadata": {},
     "output_type": "execute_result"
    }
   ],
   "source": [
    "temp['점유율'].mean()"
   ]
  },
  {
   "cell_type": "code",
   "execution_count": 69,
   "id": "8e5b3b2e-bdef-45f5-83dc-6f77e1de2e5e",
   "metadata": {
    "tags": []
   },
   "outputs": [],
   "source": [
    "temp['대기울'] = temp['접안_대기시간_분']/temp['Service_Time_분']"
   ]
  },
  {
   "cell_type": "code",
   "execution_count": 70,
   "id": "891a1aa1-f760-49b3-8dfc-8f232e7883aa",
   "metadata": {
    "tags": []
   },
   "outputs": [
    {
     "data": {
      "text/html": [
       "<div>\n",
       "<style scoped>\n",
       "    .dataframe tbody tr th:only-of-type {\n",
       "        vertical-align: middle;\n",
       "    }\n",
       "\n",
       "    .dataframe tbody tr th {\n",
       "        vertical-align: top;\n",
       "    }\n",
       "\n",
       "    .dataframe thead th {\n",
       "        text-align: right;\n",
       "    }\n",
       "</style>\n",
       "<table border=\"1\" class=\"dataframe\">\n",
       "  <thead>\n",
       "    <tr style=\"text-align: right;\">\n",
       "      <th></th>\n",
       "      <th>계선장소명</th>\n",
       "      <th>Service_Time_분</th>\n",
       "      <th>접안_대기시간_분</th>\n",
       "      <th>점유율</th>\n",
       "      <th>대기울</th>\n",
       "    </tr>\n",
       "  </thead>\n",
       "  <tbody>\n",
       "    <tr>\n",
       "      <th>0</th>\n",
       "      <td>(구)벙커링전용정박지 E1</td>\n",
       "      <td>884406.0</td>\n",
       "      <td>193069</td>\n",
       "      <td>0.568677</td>\n",
       "      <td>0.218304</td>\n",
       "    </tr>\n",
       "    <tr>\n",
       "      <th>1</th>\n",
       "      <td>(구)벙커링전용정박지 E2</td>\n",
       "      <td>670905.0</td>\n",
       "      <td>89957</td>\n",
       "      <td>0.431395</td>\n",
       "      <td>0.134083</td>\n",
       "    </tr>\n",
       "    <tr>\n",
       "      <th>2</th>\n",
       "      <td>(구)벙커링전용정박지 E3</td>\n",
       "      <td>524544.0</td>\n",
       "      <td>75972</td>\n",
       "      <td>0.337284</td>\n",
       "      <td>0.144834</td>\n",
       "    </tr>\n",
       "    <tr>\n",
       "      <th>3</th>\n",
       "      <td>1부두 01</td>\n",
       "      <td>99757.0</td>\n",
       "      <td>23053</td>\n",
       "      <td>0.064144</td>\n",
       "      <td>0.231092</td>\n",
       "    </tr>\n",
       "    <tr>\n",
       "      <th>4</th>\n",
       "      <td>2부두 01</td>\n",
       "      <td>129648.0</td>\n",
       "      <td>9543</td>\n",
       "      <td>0.083364</td>\n",
       "      <td>0.073607</td>\n",
       "    </tr>\n",
       "    <tr>\n",
       "      <th>...</th>\n",
       "      <td>...</td>\n",
       "      <td>...</td>\n",
       "      <td>...</td>\n",
       "      <td>...</td>\n",
       "      <td>...</td>\n",
       "    </tr>\n",
       "    <tr>\n",
       "      <th>120</th>\n",
       "      <td>현중해양의장안벽</td>\n",
       "      <td>347150.0</td>\n",
       "      <td>4061</td>\n",
       "      <td>0.223219</td>\n",
       "      <td>0.011698</td>\n",
       "    </tr>\n",
       "    <tr>\n",
       "      <th>121</th>\n",
       "      <td>화암부두 01</td>\n",
       "      <td>1040.0</td>\n",
       "      <td>368</td>\n",
       "      <td>0.000669</td>\n",
       "      <td>0.353846</td>\n",
       "    </tr>\n",
       "    <tr>\n",
       "      <th>122</th>\n",
       "      <td>화암부두 05</td>\n",
       "      <td>730.0</td>\n",
       "      <td>0</td>\n",
       "      <td>0.000469</td>\n",
       "      <td>0.000000</td>\n",
       "    </tr>\n",
       "    <tr>\n",
       "      <th>123</th>\n",
       "      <td>화암부두 06</td>\n",
       "      <td>5862.0</td>\n",
       "      <td>0</td>\n",
       "      <td>0.003769</td>\n",
       "      <td>0.000000</td>\n",
       "    </tr>\n",
       "    <tr>\n",
       "      <th>124</th>\n",
       "      <td>효성부두</td>\n",
       "      <td>759970.0</td>\n",
       "      <td>67351</td>\n",
       "      <td>0.488664</td>\n",
       "      <td>0.088623</td>\n",
       "    </tr>\n",
       "  </tbody>\n",
       "</table>\n",
       "<p>125 rows × 5 columns</p>\n",
       "</div>"
      ],
      "text/plain": [
       "              계선장소명  Service_Time_분  접안_대기시간_분       점유율       대기울\n",
       "0    (구)벙커링전용정박지 E1        884406.0     193069  0.568677  0.218304\n",
       "1    (구)벙커링전용정박지 E2        670905.0      89957  0.431395  0.134083\n",
       "2    (구)벙커링전용정박지 E3        524544.0      75972  0.337284  0.144834\n",
       "3            1부두 01         99757.0      23053  0.064144  0.231092\n",
       "4            2부두 01        129648.0       9543  0.083364  0.073607\n",
       "..              ...             ...        ...       ...       ...\n",
       "120        현중해양의장안벽        347150.0       4061  0.223219  0.011698\n",
       "121         화암부두 01          1040.0        368  0.000669  0.353846\n",
       "122         화암부두 05           730.0          0  0.000469  0.000000\n",
       "123         화암부두 06          5862.0          0  0.003769  0.000000\n",
       "124            효성부두        759970.0      67351  0.488664  0.088623\n",
       "\n",
       "[125 rows x 5 columns]"
      ]
     },
     "execution_count": 70,
     "metadata": {},
     "output_type": "execute_result"
    }
   ],
   "source": [
    "temp"
   ]
  },
  {
   "cell_type": "markdown",
   "id": "ee45707b-9735-4fa5-9111-bf6db4ad53c3",
   "metadata": {},
   "source": [
    "### 선석 운영 시스템 개선 프로세스\n",
    "##### 1. 비효율적인 선석 식별\n",
    "대기율이 높고 점유율이 낮은 선석은 운영 효율을 개선 필요한 선석\n",
    "\n",
    "##### 2. 대기율 높은 선석 대기시간 최소화\n",
    "대기율이 높은 선석에 대해서는 우선순위를 부여 > 대기시간 최소화\n",
    "\n",
    "##### 3. 인적/물적 자원 할당 최적화\n",
    "선석의 점유율을 고려하여 자원(인적, 물적)을 최적으로 할당\n",
    "\n",
    "##### 4. 시간대별 대기시간 패턴 파악(선석별로 보면 뭔가 다를지도)\n",
    "시간대별로 대기율과 점유율을 분석하여 피크 시간대와 소요 시간을 파악하고 운영 일정을 최적화\n",
    "\n",
    "\n",
    "##### 5. 문제 해결 및 개선 계획 수립\n",
    "대기율이나 점유율이 높은 선석에 대해, 인프라 개선, 운영 일정 조정 등의 개선 계획을 수립"
   ]
  },
  {
   "cell_type": "code",
   "execution_count": null,
   "id": "9590360e-f743-41bc-8d35-f0eebd14e9de",
   "metadata": {},
   "outputs": [],
   "source": []
  }
 ],
 "metadata": {
  "kernelspec": {
   "display_name": "Python 3 (ipykernel)",
   "language": "python",
   "name": "python3"
  },
  "language_info": {
   "codemirror_mode": {
    "name": "ipython",
    "version": 3
   },
   "file_extension": ".py",
   "mimetype": "text/x-python",
   "name": "python",
   "nbconvert_exporter": "python",
   "pygments_lexer": "ipython3",
   "version": "3.10.3"
  }
 },
 "nbformat": 4,
 "nbformat_minor": 5
}
