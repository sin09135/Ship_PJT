{
 "cells": [
  {
   "cell_type": "markdown",
   "id": "c3b593d0-25a8-40e0-a7b3-6e2f089d0996",
   "metadata": {},
   "source": [
    "## 선박대기비용 절감효과(선석별)\n",
    "##### BH = (V' x W' - V x W) x(WC + FC + EC)\n",
    "###### 선박대기시간 예측모형 개발을 위한 방법론 연구, 2023\n",
    "- BH : t년도 선박대기비용 절감효과\n",
    "- Vt(Vt') : with case(without case)의 t년도 선석에서의 선박 입항 수\n",
    "- Wt(Wt') : with case(without case)의 t년도 선석의 선박당 평균 대기시간 \n",
    "- WC : 표준선형의 시간당 평균 체선비용\n",
    "- FC : 표준선형의 시간당 평균 체화비용\n",
    "- EC : 표준선형의 시간당 평균 환경비용\n"
   ]
  },
  {
   "cell_type": "markdown",
   "id": "f1bcaaba-58f0-40fb-bd29-99ad41e8bf99",
   "metadata": {
    "tags": []
   },
   "source": [
    "### 체선비용"
   ]
  },
  {
   "cell_type": "code",
   "execution_count": 105,
   "id": "677482ad-7a53-4ba6-9b07-c1b95ff0ecda",
   "metadata": {
    "tags": []
   },
   "outputs": [],
   "source": [
    "import pandas as pd\n",
    "PATH  = '../data/'\n",
    "\n",
    "df = pd.read_csv(PATH + '액체_ver_2.csv')\n",
    "#time_cost = pd.read_csv(PATH + '체선비용.csv', encoding = 'utf-8')\n",
    "time_cost = pd.read_csv(PATH + '체선비용.csv', encoding='euc-kr')\n"
   ]
  },
  {
   "cell_type": "code",
   "execution_count": 106,
   "id": "ed20545f-9a27-428f-94b4-39ac3e1cfe16",
   "metadata": {},
   "outputs": [],
   "source": [
    "time_cost['분당비용'] = time_cost['시간당비용']/60"
   ]
  },
  {
   "cell_type": "code",
   "execution_count": 107,
   "id": "5d0dcb6f-bc10-472e-b7f1-b8aa15c38008",
   "metadata": {
    "tags": []
   },
   "outputs": [
    {
     "data": {
      "text/html": [
       "<div>\n",
       "<style scoped>\n",
       "    .dataframe tbody tr th:only-of-type {\n",
       "        vertical-align: middle;\n",
       "    }\n",
       "\n",
       "    .dataframe tbody tr th {\n",
       "        vertical-align: top;\n",
       "    }\n",
       "\n",
       "    .dataframe thead th {\n",
       "        text-align: right;\n",
       "    }\n",
       "</style>\n",
       "<table border=\"1\" class=\"dataframe\">\n",
       "  <thead>\n",
       "    <tr style=\"text-align: right;\">\n",
       "      <th></th>\n",
       "      <th>선박크기(DWT)</th>\n",
       "      <th>시간당비용</th>\n",
       "      <th>일일비용</th>\n",
       "      <th>분당비용</th>\n",
       "    </tr>\n",
       "  </thead>\n",
       "  <tbody>\n",
       "    <tr>\n",
       "      <th>0</th>\n",
       "      <td>10,000</td>\n",
       "      <td>383000</td>\n",
       "      <td>9183000</td>\n",
       "      <td>6383.333333</td>\n",
       "    </tr>\n",
       "    <tr>\n",
       "      <th>1</th>\n",
       "      <td>30,000</td>\n",
       "      <td>742000</td>\n",
       "      <td>17811000</td>\n",
       "      <td>12366.666667</td>\n",
       "    </tr>\n",
       "    <tr>\n",
       "      <th>2</th>\n",
       "      <td>50,000</td>\n",
       "      <td>1010000</td>\n",
       "      <td>24235000</td>\n",
       "      <td>16833.333333</td>\n",
       "    </tr>\n",
       "    <tr>\n",
       "      <th>3</th>\n",
       "      <td>150,000</td>\n",
       "      <td>1959000</td>\n",
       "      <td>47006000</td>\n",
       "      <td>32650.000000</td>\n",
       "    </tr>\n",
       "    <tr>\n",
       "      <th>4</th>\n",
       "      <td>200,000</td>\n",
       "      <td>2330000</td>\n",
       "      <td>55910000</td>\n",
       "      <td>38833.333333</td>\n",
       "    </tr>\n",
       "    <tr>\n",
       "      <th>5</th>\n",
       "      <td>250,000</td>\n",
       "      <td>2665000</td>\n",
       "      <td>63963000</td>\n",
       "      <td>44416.666667</td>\n",
       "    </tr>\n",
       "    <tr>\n",
       "      <th>6</th>\n",
       "      <td>300,000</td>\n",
       "      <td>2975000</td>\n",
       "      <td>71396000</td>\n",
       "      <td>49583.333333</td>\n",
       "    </tr>\n",
       "    <tr>\n",
       "      <th>7</th>\n",
       "      <td>350,000</td>\n",
       "      <td>3265000</td>\n",
       "      <td>78351000</td>\n",
       "      <td>54416.666667</td>\n",
       "    </tr>\n",
       "    <tr>\n",
       "      <th>8</th>\n",
       "      <td>400,000</td>\n",
       "      <td>3538000</td>\n",
       "      <td>84912000</td>\n",
       "      <td>58966.666667</td>\n",
       "    </tr>\n",
       "    <tr>\n",
       "      <th>9</th>\n",
       "      <td>450,000</td>\n",
       "      <td>3799000</td>\n",
       "      <td>91176000</td>\n",
       "      <td>63316.666667</td>\n",
       "    </tr>\n",
       "    <tr>\n",
       "      <th>10</th>\n",
       "      <td>500,000</td>\n",
       "      <td>4048000</td>\n",
       "      <td>97152000</td>\n",
       "      <td>67466.666667</td>\n",
       "    </tr>\n",
       "  </tbody>\n",
       "</table>\n",
       "</div>"
      ],
      "text/plain": [
       "   선박크기(DWT)    시간당비용      일일비용          분당비용\n",
       "0     10,000   383000   9183000   6383.333333\n",
       "1     30,000   742000  17811000  12366.666667\n",
       "2     50,000  1010000  24235000  16833.333333\n",
       "3    150,000  1959000  47006000  32650.000000\n",
       "4    200,000  2330000  55910000  38833.333333\n",
       "5    250,000  2665000  63963000  44416.666667\n",
       "6    300,000  2975000  71396000  49583.333333\n",
       "7    350,000  3265000  78351000  54416.666667\n",
       "8    400,000  3538000  84912000  58966.666667\n",
       "9    450,000  3799000  91176000  63316.666667\n",
       "10   500,000  4048000  97152000  67466.666667"
      ]
     },
     "execution_count": 107,
     "metadata": {},
     "output_type": "execute_result"
    }
   ],
   "source": [
    "time_cost"
   ]
  },
  {
   "cell_type": "code",
   "execution_count": 108,
   "id": "3fd98cef-8d2d-4e1f-a590-bc6a2b6435cc",
   "metadata": {},
   "outputs": [
    {
     "data": {
      "text/plain": [
       "count     51001.000000\n",
       "mean       7633.030090\n",
       "std       15886.712602\n",
       "min           0.000000\n",
       "25%        1250.760000\n",
       "50%        2398.000000\n",
       "75%        5657.000000\n",
       "max      312135.000000\n",
       "Name: 재화중량톤수, dtype: float64"
      ]
     },
     "execution_count": 108,
     "metadata": {},
     "output_type": "execute_result"
    }
   ],
   "source": [
    "df['재화중량톤수'].describe()"
   ]
  },
  {
   "cell_type": "code",
   "execution_count": 109,
   "id": "ea283906-d0f1-4afb-8592-d0e17eae4620",
   "metadata": {},
   "outputs": [],
   "source": [
    "time_cost['선박크기(DWT)'] = time_cost['선박크기(DWT)'].str.replace(',', '').astype(int)"
   ]
  },
  {
   "cell_type": "code",
   "execution_count": 110,
   "id": "6250af82-2216-4781-afae-7551e37adb42",
   "metadata": {
    "tags": []
   },
   "outputs": [
    {
     "data": {
      "text/plain": [
       "0      10000\n",
       "1      30000\n",
       "2      50000\n",
       "3     150000\n",
       "4     200000\n",
       "5     250000\n",
       "6     300000\n",
       "7     350000\n",
       "8     400000\n",
       "9     450000\n",
       "10    500000\n",
       "Name: 선박크기(DWT), dtype: int64"
      ]
     },
     "execution_count": 110,
     "metadata": {},
     "output_type": "execute_result"
    }
   ],
   "source": [
    "time_cost['선박크기(DWT)']"
   ]
  },
  {
   "cell_type": "code",
   "execution_count": null,
   "id": "008b7b29-7196-43e9-a111-076c727a7c17",
   "metadata": {},
   "outputs": [],
   "source": [
    "bins = time_cost['선박크기(DWT)'].tolist() + [float('inf')]  # 선박크기(DWT)의 끝에 무한대를 추가하여 마지막 구간을 처리\n",
    "labels = time_cost['선박크기(DWT)'].astype(str)"
   ]
  },
  {
   "cell_type": "code",
   "execution_count": null,
   "id": "392dcd05-d217-40b3-b7d3-cfe55e025a4f",
   "metadata": {},
   "outputs": [],
   "source": [
    "df['DWT_구간'] = pd.cut(df['재화중량톤수'], bins=bins, labels=labels, right=False)"
   ]
  },
  {
   "cell_type": "code",
   "execution_count": 101,
   "id": "6dd342ad-6c66-4fee-b753-10ee71975a98",
   "metadata": {
    "tags": []
   },
   "outputs": [
    {
     "name": "stdout",
     "output_type": "stream",
     "text": [
      "<class 'pandas.core.series.Series'>\n",
      "Int64Index: 51001 entries, 0 to 51000\n",
      "Series name: DWT_구간\n",
      "Non-Null Count  Dtype \n",
      "--------------  ----- \n",
      "7677 non-null   object\n",
      "dtypes: object(1)\n",
      "memory usage: 796.9+ KB\n"
     ]
    }
   ],
   "source": [
    "df['DWT_구간'].info()"
   ]
  },
  {
   "cell_type": "code",
   "execution_count": 103,
   "id": "7fb9f815-ee26-4f71-a0a8-cb946a78ea1f",
   "metadata": {
    "tags": []
   },
   "outputs": [
    {
     "data": {
      "text/plain": [
       "0        NaN\n",
       "1        NaN\n",
       "2        NaN\n",
       "3        NaN\n",
       "4        NaN\n",
       "        ... \n",
       "50996    NaN\n",
       "50997    NaN\n",
       "50998    NaN\n",
       "50999    NaN\n",
       "51000    NaN\n",
       "Name: DWT_구간, Length: 51001, dtype: object"
      ]
     },
     "execution_count": 103,
     "metadata": {},
     "output_type": "execute_result"
    }
   ],
   "source": [
    "df['DWT_구간']"
   ]
  },
  {
   "cell_type": "code",
   "execution_count": 102,
   "id": "6ac267b1-626f-4c7f-a498-49e6a8692447",
   "metadata": {
    "tags": []
   },
   "outputs": [
    {
     "name": "stdout",
     "output_type": "stream",
     "text": [
      "<class 'pandas.core.series.Series'>\n",
      "RangeIndex: 11 entries, 0 to 10\n",
      "Series name: 선박크기(DWT)\n",
      "Non-Null Count  Dtype\n",
      "--------------  -----\n",
      "11 non-null     int64\n",
      "dtypes: int64(1)\n",
      "memory usage: 220.0 bytes\n"
     ]
    }
   ],
   "source": [
    "time_cost['선박크기(DWT)'].info()"
   ]
  },
  {
   "cell_type": "code",
   "execution_count": 81,
   "id": "70d96f0f-6efc-438d-91bd-eca6f4fdf9df",
   "metadata": {
    "tags": []
   },
   "outputs": [],
   "source": [
    "merged_df = pd.merge(df, time_cost, left_on='DWT_구간', right_on='선박크기(DWT)', how='left')"
   ]
  },
  {
   "cell_type": "code",
   "execution_count": 82,
   "id": "7fbf7fd9-a8d5-4892-b33c-056201cd576d",
   "metadata": {
    "tags": []
   },
   "outputs": [],
   "source": [
    "df = merged_df.copy()"
   ]
  },
  {
   "cell_type": "code",
   "execution_count": 83,
   "id": "cbba7e4d-3993-40b1-93e2-f3a1c8f467a4",
   "metadata": {
    "tags": []
   },
   "outputs": [],
   "source": [
    "# df['분당_체선비용'] = df['분당비용']*df['접안_대기시간_분']"
   ]
  },
  {
   "cell_type": "code",
   "execution_count": 84,
   "id": "1680c695-7706-45b7-9955-942340054e18",
   "metadata": {
    "tags": []
   },
   "outputs": [],
   "source": [
    "# df['시간당_체선비용'] = df['분당_체선비용']*60"
   ]
  },
  {
   "cell_type": "code",
   "execution_count": 100,
   "id": "266e739f-6406-42bd-9c1b-bfd12c0a72f9",
   "metadata": {
    "tags": []
   },
   "outputs": [
    {
     "name": "stdout",
     "output_type": "stream",
     "text": [
      "<class 'pandas.core.series.Series'>\n",
      "Int64Index: 51001 entries, 0 to 51000\n",
      "Series name: 시간당비용\n",
      "Non-Null Count  Dtype  \n",
      "--------------  -----  \n",
      "0 non-null      float64\n",
      "dtypes: float64(1)\n",
      "memory usage: 796.9 KB\n"
     ]
    }
   ],
   "source": [
    "df['시간당비용'].info()"
   ]
  },
  {
   "cell_type": "markdown",
   "id": "d3ad4213-ef30-436d-b580-3aad37da2df2",
   "metadata": {
    "tags": []
   },
   "source": [
    "### 시간당 체화비용\n",
    "- 화물가치 x 사회적 할인율 / 365*24\n",
    "- 화물가치 :  (kg당 화물가치(원) 유류 600(수입), 694(수출)의 평균값 647로 계산)\n",
    "- 화물가치 = 재화중량톤수/1000 * 647"
   ]
  },
  {
   "cell_type": "code",
   "execution_count": 85,
   "id": "87fe8984-4865-4596-8850-fd94bfce9460",
   "metadata": {
    "tags": []
   },
   "outputs": [],
   "source": [
    "df['시간당_체화비용'] = df['재화중량톤수']*1000 * 647*0.045/365*24"
   ]
  },
  {
   "cell_type": "markdown",
   "id": "42bab439-89ac-4908-b428-d137c29386ff",
   "metadata": {},
   "source": [
    "### 환경비용"
   ]
  },
  {
   "cell_type": "markdown",
   "id": "a1c039fd-b75d-4f84-a41c-d4a990c55643",
   "metadata": {
    "tags": []
   },
   "source": [
    "**EC 대기오염 비용**\n",
    "- 배출량 구하기 ( 완료) - 온실가스 배출량(CO, NOx)\n",
    "    - 2개 밖에 없음 > 한계점\n",
    "- 배출량에 따른 사회적 비용 산정\n",
    "    - CO/1000 * 158(온실가스 배출량에서 구한 CO)\n",
    "    - NOx*15835(온실가스 배출량에서 구한 NOx)"
   ]
  },
  {
   "cell_type": "code",
   "execution_count": 86,
   "id": "f4c6aa7e-8f4b-43ad-a856-00bb8ee3cbc1",
   "metadata": {
    "tags": []
   },
   "outputs": [],
   "source": [
    "df['CO비용'] = df['CO']*158\n",
    "df['NOx비용'] = df['NOx']*15835"
   ]
  },
  {
   "cell_type": "code",
   "execution_count": 87,
   "id": "fe4ca4a6-0e6a-49e2-90d7-873746aefed6",
   "metadata": {
    "tags": []
   },
   "outputs": [],
   "source": [
    "df['환경비용'] = df['CO비용'] + df['NOx비용']"
   ]
  },
  {
   "cell_type": "markdown",
   "id": "b552ae7f-6dc1-407b-9e74-32c4e52f238b",
   "metadata": {
    "tags": []
   },
   "source": [
    "### Year 그룹화"
   ]
  },
  {
   "cell_type": "code",
   "execution_count": 99,
   "id": "7a4163a8-cfe0-4879-b120-fa24ce7b9b3e",
   "metadata": {
    "tags": []
   },
   "outputs": [],
   "source": [
    "temp = df.groupby(['계선장소명', 'ETA_Year']).agg(\n",
    "    입항일시=('입항일시', 'count'),\n",
    "    접안_대기시간_분=('접안_대기시간_분', 'mean'),\n",
    "    분당_환경비용=('환경비용', 'mean'),\n",
    "    시간당_체화비용=('시간당_체화비용', 'mean'),\n",
    "    시간당비용=('시간당비용', 'mean')\n",
    ")\n",
    "\n",
    "    \n",
    "    \n",
    "    "
   ]
  },
  {
   "cell_type": "code",
   "execution_count": 97,
   "id": "a7cca6e5-0a7d-44e0-9736-b8a44f6f4b9e",
   "metadata": {
    "tags": []
   },
   "outputs": [],
   "source": [
    "temp.reset_index(inplace = True)"
   ]
  },
  {
   "cell_type": "code",
   "execution_count": 98,
   "id": "f95de519-a2cb-46aa-a651-7da94ded47e4",
   "metadata": {
    "tags": []
   },
   "outputs": [],
   "source": [
    "temp.rename(columns = {'입항일시' : '입항수'}, inplace = True)"
   ]
  },
  {
   "cell_type": "code",
   "execution_count": 95,
   "id": "19320ca3-045e-4033-a285-21e5a601e5b9",
   "metadata": {
    "tags": []
   },
   "outputs": [
    {
     "name": "stdout",
     "output_type": "stream",
     "text": [
      "<class 'pandas.core.series.Series'>\n",
      "RangeIndex: 339 entries, 0 to 338\n",
      "Series name: 시간당_체선비용\n",
      "Non-Null Count  Dtype  \n",
      "--------------  -----  \n",
      "0 non-null      float64\n",
      "dtypes: float64(1)\n",
      "memory usage: 2.8 KB\n"
     ]
    }
   ],
   "source": [
    "temp['시간당_체선비용'].info()"
   ]
  },
  {
   "cell_type": "markdown",
   "id": "5b4666f7-b357-443f-b245-1d63b5f8a877",
   "metadata": {},
   "source": [
    "### Wt(Wt') : t년도 선석의 선박당 평균 대기시간"
   ]
  },
  {
   "cell_type": "code",
   "execution_count": null,
   "id": "7f0d07ed-8fdb-4624-ac69-4914d9df004b",
   "metadata": {},
   "outputs": [],
   "source": []
  }
 ],
 "metadata": {
  "kernelspec": {
   "display_name": "Python 3 (ipykernel)",
   "language": "python",
   "name": "python3"
  },
  "language_info": {
   "codemirror_mode": {
    "name": "ipython",
    "version": 3
   },
   "file_extension": ".py",
   "mimetype": "text/x-python",
   "name": "python",
   "nbconvert_exporter": "python",
   "pygments_lexer": "ipython3",
   "version": "3.11.4"
  }
 },
 "nbformat": 4,
 "nbformat_minor": 5
}
