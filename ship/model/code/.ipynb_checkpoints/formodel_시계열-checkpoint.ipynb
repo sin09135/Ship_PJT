{
 "cells": [
  {
   "cell_type": "markdown",
   "id": "92f4ab10-86df-4e72-9e81-a967f55311a6",
   "metadata": {},
   "source": [
    "## Dataset for model"
   ]
  },
  {
   "cell_type": "code",
   "execution_count": 1,
   "id": "5622cc55-2b81-4cfc-870e-cbb754548968",
   "metadata": {
    "tags": []
   },
   "outputs": [],
   "source": [
    "import warnings\n",
    "warnings.filterwarnings('ignore')"
   ]
  },
  {
   "cell_type": "code",
   "execution_count": 2,
   "id": "31cc9b06-eac6-497a-bf14-14941ef3b3b5",
   "metadata": {
    "tags": []
   },
   "outputs": [
    {
     "data": {
      "image/png": "[encoded data removed]",
      "text/plain": [
       "<Figure size 640x480 with 1 Axes>"
      ]
     },
     "metadata": {},
     "output_type": "display_data"
    }
   ],
   "source": [
    "import matplotlib.pyplot as plt\n",
    "import seaborn as sns\n",
    "plt.rc(\"font\", family=\"AppleGothic\") # 라이브러리 불러오기와 함께 한번만 실행\n",
    "\n",
    "plt.plot([1, 2, 3])\n",
    "plt.title(\"한글\")\n",
    "plt.show()"
   ]
  },
  {
   "cell_type": "markdown",
   "id": "e0a0e3f0-f671-4696-a1b7-834a8b6be5ec",
   "metadata": {},
   "source": [
    "### 0. 데이터 로드"
   ]
  },
  {
   "cell_type": "code",
   "execution_count": 3,
   "id": "8c63199a-95d7-4905-87c1-dcc282031425",
   "metadata": {
    "tags": []
   },
   "outputs": [],
   "source": [
    "import pandas as pd\n",
    "\n",
    "df = pd.read_csv('../data/울산_전처리_ver6.csv')"
   ]
  },
  {
   "cell_type": "code",
   "execution_count": 4,
   "id": "84e4df1f-fde5-48c3-9c81-cbde2311309b",
   "metadata": {
    "tags": []
   },
   "outputs": [
    {
     "name": "stdout",
     "output_type": "stream",
     "text": [
      "<class 'pandas.core.frame.DataFrame'>\n",
      "RangeIndex: 72139 entries, 0 to 72138\n",
      "Data columns (total 40 columns):\n",
      " #   Column              Non-Null Count  Dtype  \n",
      "---  ------              --------------  -----  \n",
      " 0   호출부호                72139 non-null  object \n",
      " 1   입항일시                72139 non-null  object \n",
      " 2   출항일시                72139 non-null  object \n",
      " 3   접안_대기시간_분           72139 non-null  int64  \n",
      " 4   출항_대기시간_분           72139 non-null  float64\n",
      " 5   Service_Time_Start  72139 non-null  object \n",
      " 6   Service_Time_End    72139 non-null  object \n",
      " 7   계선장소_코드             72139 non-null  object \n",
      " 8   계선장소_숫자             72139 non-null  int64  \n",
      " 9   계선장소명               72139 non-null  object \n",
      " 10  선박용도                72139 non-null  object \n",
      " 11  Service_Time_분      72139 non-null  float64\n",
      " 12  대기율                 72114 non-null  float64\n",
      " 13  총톤수                 61615 non-null  object \n",
      " 14  재화중량톤수              59935 non-null  object \n",
      " 15  선박제원(총길이, m)        71527 non-null  float64\n",
      " 16  선박제원(너비, m)         71527 non-null  object \n",
      " 17  만재흘수(m)             61618 non-null  float64\n",
      " 18  깊이(m)               61618 non-null  float64\n",
      " 19  길이1(m)              61618 non-null  float64\n",
      " 20  선박국적(code)          61618 non-null  object \n",
      " 21  선박국적(이름)            61618 non-null  object \n",
      " 22  ETA_Year            72139 non-null  int64  \n",
      " 23  ETA_Month           72139 non-null  int64  \n",
      " 24  ETA_Day             72139 non-null  int64  \n",
      " 25  ETA_Hour            72139 non-null  int64  \n",
      " 26  ETA_Minute          72139 non-null  int64  \n",
      " 27  일시                  69494 non-null  object \n",
      " 28  풍속(m/s)             65265 non-null  float64\n",
      " 29  풍향(deg)             64479 non-null  float64\n",
      " 30  GUST풍속(m/s)         65416 non-null  float64\n",
      " 31  현지기압(hPa)           69249 non-null  float64\n",
      " 32  습도(%)               67902 non-null  float64\n",
      " 33  기온(°C)              69314 non-null  float64\n",
      " 34  수온(°C)              68040 non-null  float64\n",
      " 35  최대파고(m)             69396 non-null  float64\n",
      " 36  유의파고(m)             69342 non-null  float64\n",
      " 37  평균파고(m)             69285 non-null  float64\n",
      " 38  파주기(sec)            69375 non-null  float64\n",
      " 39  파향(deg)             69388 non-null  float64\n",
      "dtypes: float64(19), int64(7), object(14)\n",
      "memory usage: 22.0+ MB\n"
     ]
    }
   ],
   "source": [
    "df.info()"
   ]
  },
  {
   "cell_type": "markdown",
   "id": "7238ce8a-f40f-4abb-8107-340c88fcf339",
   "metadata": {},
   "source": [
    "#### 이상치\n",
    "- 입항일시와 출항일시가 20,21,22 밖에 있는 행은 사전에 제거함"
   ]
  },
  {
   "cell_type": "markdown",
   "id": "55139d20-f2d1-417e-9ea0-2fdce5bf06c3",
   "metadata": {
    "tags": []
   },
   "source": [
    "#### 1. EDA"
   ]
  },
  {
   "cell_type": "code",
   "execution_count": 5,
   "id": "9bd93bcc-4bae-4249-a58f-74909514a012",
   "metadata": {
    "tags": []
   },
   "outputs": [],
   "source": [
    "df.drop(columns = '일시', inplace = True)"
   ]
  },
  {
   "cell_type": "markdown",
   "id": "3d2d789c-3d65-4fe4-a8da-60e21de64ee9",
   "metadata": {},
   "source": [
    "#### 1.1 선박 용도별 접안_대기시간_계산\n",
    "- 운반선, 컨테이너선 / 비컨테이너,운반선간 대기율 차이가 존재할 것\n",
    "- 각각 접안_대기시간 계산 후 비교\n",
    "- 0인 용도 제외 시계열 데이터 예측"
   ]
  },
  {
   "cell_type": "code",
   "execution_count": 6,
   "id": "bb83011b-cf33-42c9-a807-9b69491dc3a9",
   "metadata": {
    "tags": []
   },
   "outputs": [
    {
     "data": {
      "text/plain": [
       "석유제품 운반선       35977\n",
       "케미칼 운반선         9831\n",
       "풀컨테이너선          4123\n",
       "견인용예선           3799\n",
       "LPG 운반선         3503\n",
       "일반화물선           3314\n",
       "기타 예선           1819\n",
       "기타 유조선          1659\n",
       "산물선(벌크선)        1520\n",
       "자동차운반선          1454\n",
       "원유운반선           1449\n",
       "급유선             1338\n",
       "시멘트운반선           531\n",
       "기타선              466\n",
       "케미칼가스 운반선        346\n",
       "압항 예선            192\n",
       "모래운반선            178\n",
       "이.접안용 예선         125\n",
       "철강재 운반선          114\n",
       "신조선               95\n",
       "폐기물 운반선           86\n",
       "관공선               55\n",
       "LNG 운반선           52\n",
       "코일전용선             41\n",
       "용달선               29\n",
       "세미(혼재)컨테이너선       26\n",
       "여객선                7\n",
       "군함                 3\n",
       "원양 어선              1\n",
       "유람선                1\n",
       "원목운반선              1\n",
       "화객선                1\n",
       "수상레저기구             1\n",
       "기타 부선              1\n",
       "냉동.냉장선             1\n",
       "Name: 선박용도, dtype: int64"
      ]
     },
     "execution_count": 6,
     "metadata": {},
     "output_type": "execute_result"
    }
   ],
   "source": [
    "df['선박용도'].value_counts()"
   ]
  },
  {
   "cell_type": "code",
   "execution_count": 7,
   "id": "66d6092b-cdf2-42f4-9039-928e82015bc6",
   "metadata": {
    "tags": []
   },
   "outputs": [],
   "source": [
    "ship_mapping = df.groupby('선박용도')['접안_대기시간_분'].mean()"
   ]
  },
  {
   "cell_type": "code",
   "execution_count": 8,
   "id": "4fd72634-bacc-4d5b-a593-fe66010b1491",
   "metadata": {
    "tags": []
   },
   "outputs": [],
   "source": [
    "ship_mapping = ship_mapping.to_frame().reset_index()"
   ]
  },
  {
   "cell_type": "code",
   "execution_count": 9,
   "id": "6aa208f8-841e-4030-9e62-c6701bdcdf21",
   "metadata": {
    "tags": []
   },
   "outputs": [],
   "source": [
    "df_sorted = ship_mapping.sort_values(by='접안_대기시간_분', ascending=False)"
   ]
  },
  {
   "cell_type": "code",
   "execution_count": 10,
   "id": "65962d89-e5f6-4fb0-b92b-0300114b5e5f",
   "metadata": {
    "tags": []
   },
   "outputs": [
    {
     "data": {
      "image/png": "[encoded data removed]",
      "text/plain": [
       "<Figure size 1200x800 with 1 Axes>"
      ]
     },
     "metadata": {},
     "output_type": "display_data"
    }
   ],
   "source": [
    "fig, ax = plt.subplots(figsize=(12, 8))\n",
    "sns.barplot(x='접안_대기시간_분', y='선박용도', data=df_sorted, palette='viridis', ax=ax)\n",
    "ax.set_title('선박용도별 대기율')\n",
    "ax.set_xlabel('대기율')\n",
    "ax.set_ylabel('선박용도')\n",
    "\n",
    "# Show the plot\n",
    "plt.show()"
   ]
  },
  {
   "cell_type": "code",
   "execution_count": 11,
   "id": "28e0105c-766b-468a-a4dc-c2d4d8b75128",
   "metadata": {
    "tags": []
   },
   "outputs": [],
   "source": [
    "ship_rank = ship_mapping[ship_mapping['접안_대기시간_분'] > 0.0].sort_values(by = '접안_대기시간_분', ascending = False)"
   ]
  },
  {
   "cell_type": "code",
   "execution_count": 12,
   "id": "1afc2ccf-aec4-4267-8a69-9ced6c1c06a3",
   "metadata": {
    "tags": []
   },
   "outputs": [
    {
     "data": {
      "text/html": [
       "<div>\n",
       "<style scoped>\n",
       "    .dataframe tbody tr th:only-of-type {\n",
       "        vertical-align: middle;\n",
       "    }\n",
       "\n",
       "    .dataframe tbody tr th {\n",
       "        vertical-align: top;\n",
       "    }\n",
       "\n",
       "    .dataframe thead th {\n",
       "        text-align: right;\n",
       "    }\n",
       "</style>\n",
       "<table border=\"1\" class=\"dataframe\">\n",
       "  <thead>\n",
       "    <tr style=\"text-align: right;\">\n",
       "      <th></th>\n",
       "      <th>index</th>\n",
       "      <th>선박용도</th>\n",
       "      <th>접안_대기시간_분</th>\n",
       "    </tr>\n",
       "  </thead>\n",
       "  <tbody>\n",
       "    <tr>\n",
       "      <th>0</th>\n",
       "      <td>12</td>\n",
       "      <td>산물선(벌크선)</td>\n",
       "      <td>1222.870395</td>\n",
       "    </tr>\n",
       "    <tr>\n",
       "      <th>1</th>\n",
       "      <td>19</td>\n",
       "      <td>여객선</td>\n",
       "      <td>981.428571</td>\n",
       "    </tr>\n",
       "    <tr>\n",
       "      <th>2</th>\n",
       "      <td>23</td>\n",
       "      <td>원유운반선</td>\n",
       "      <td>684.171843</td>\n",
       "    </tr>\n",
       "    <tr>\n",
       "      <th>3</th>\n",
       "      <td>26</td>\n",
       "      <td>일반화물선</td>\n",
       "      <td>679.856367</td>\n",
       "    </tr>\n",
       "    <tr>\n",
       "      <th>4</th>\n",
       "      <td>29</td>\n",
       "      <td>케미칼 운반선</td>\n",
       "      <td>611.861764</td>\n",
       "    </tr>\n",
       "    <tr>\n",
       "      <th>5</th>\n",
       "      <td>14</td>\n",
       "      <td>세미(혼재)컨테이너선</td>\n",
       "      <td>581.076923</td>\n",
       "    </tr>\n",
       "    <tr>\n",
       "      <th>6</th>\n",
       "      <td>1</td>\n",
       "      <td>LPG 운반선</td>\n",
       "      <td>416.967742</td>\n",
       "    </tr>\n",
       "    <tr>\n",
       "      <th>7</th>\n",
       "      <td>13</td>\n",
       "      <td>석유제품 운반선</td>\n",
       "      <td>392.805904</td>\n",
       "    </tr>\n",
       "    <tr>\n",
       "      <th>8</th>\n",
       "      <td>30</td>\n",
       "      <td>케미칼가스 운반선</td>\n",
       "      <td>238.780347</td>\n",
       "    </tr>\n",
       "    <tr>\n",
       "      <th>9</th>\n",
       "      <td>17</td>\n",
       "      <td>신조선</td>\n",
       "      <td>181.652632</td>\n",
       "    </tr>\n",
       "    <tr>\n",
       "      <th>10</th>\n",
       "      <td>11</td>\n",
       "      <td>모래운반선</td>\n",
       "      <td>49.634831</td>\n",
       "    </tr>\n",
       "    <tr>\n",
       "      <th>11</th>\n",
       "      <td>8</td>\n",
       "      <td>기타 유조선</td>\n",
       "      <td>48.411694</td>\n",
       "    </tr>\n",
       "    <tr>\n",
       "      <th>12</th>\n",
       "      <td>18</td>\n",
       "      <td>압항 예선</td>\n",
       "      <td>41.354167</td>\n",
       "    </tr>\n",
       "    <tr>\n",
       "      <th>13</th>\n",
       "      <td>9</td>\n",
       "      <td>기타선</td>\n",
       "      <td>32.622318</td>\n",
       "    </tr>\n",
       "    <tr>\n",
       "      <th>14</th>\n",
       "      <td>27</td>\n",
       "      <td>자동차운반선</td>\n",
       "      <td>29.668501</td>\n",
       "    </tr>\n",
       "    <tr>\n",
       "      <th>15</th>\n",
       "      <td>5</td>\n",
       "      <td>급유선</td>\n",
       "      <td>29.614350</td>\n",
       "    </tr>\n",
       "    <tr>\n",
       "      <th>16</th>\n",
       "      <td>28</td>\n",
       "      <td>철강재 운반선</td>\n",
       "      <td>19.473684</td>\n",
       "    </tr>\n",
       "    <tr>\n",
       "      <th>17</th>\n",
       "      <td>16</td>\n",
       "      <td>시멘트운반선</td>\n",
       "      <td>8.421846</td>\n",
       "    </tr>\n",
       "    <tr>\n",
       "      <th>18</th>\n",
       "      <td>33</td>\n",
       "      <td>풀컨테이너선</td>\n",
       "      <td>4.341984</td>\n",
       "    </tr>\n",
       "    <tr>\n",
       "      <th>19</th>\n",
       "      <td>2</td>\n",
       "      <td>견인용예선</td>\n",
       "      <td>2.453804</td>\n",
       "    </tr>\n",
       "    <tr>\n",
       "      <th>20</th>\n",
       "      <td>7</td>\n",
       "      <td>기타 예선</td>\n",
       "      <td>1.550302</td>\n",
       "    </tr>\n",
       "  </tbody>\n",
       "</table>\n",
       "</div>"
      ],
      "text/plain": [
       "    index         선박용도    접안_대기시간_분\n",
       "0      12     산물선(벌크선)  1222.870395\n",
       "1      19          여객선   981.428571\n",
       "2      23        원유운반선   684.171843\n",
       "3      26        일반화물선   679.856367\n",
       "4      29      케미칼 운반선   611.861764\n",
       "5      14  세미(혼재)컨테이너선   581.076923\n",
       "6       1      LPG 운반선   416.967742\n",
       "7      13     석유제품 운반선   392.805904\n",
       "8      30    케미칼가스 운반선   238.780347\n",
       "9      17          신조선   181.652632\n",
       "10     11        모래운반선    49.634831\n",
       "11      8       기타 유조선    48.411694\n",
       "12     18        압항 예선    41.354167\n",
       "13      9          기타선    32.622318\n",
       "14     27       자동차운반선    29.668501\n",
       "15      5          급유선    29.614350\n",
       "16     28      철강재 운반선    19.473684\n",
       "17     16       시멘트운반선     8.421846\n",
       "18     33       풀컨테이너선     4.341984\n",
       "19      2        견인용예선     2.453804\n",
       "20      7        기타 예선     1.550302"
      ]
     },
     "execution_count": 12,
     "metadata": {},
     "output_type": "execute_result"
    }
   ],
   "source": [
    "ship_rank.reset_index()"
   ]
  },
  {
   "cell_type": "markdown",
   "id": "16f4ff2e-60c9-4434-8a91-6213c547310f",
   "metadata": {},
   "source": [
    "#### 1.2 선석별 대기시간 차이\n",
    "- 선석 기준 대기시간 예측 > row개수 115개"
   ]
  },
  {
   "cell_type": "code",
   "execution_count": 13,
   "id": "e87f8677-39ad-4435-8165-e6ffaeb26ced",
   "metadata": {
    "tags": []
   },
   "outputs": [],
   "source": [
    "service_place = df.groupby('계선장소명')['접안_대기시간_분'].mean()"
   ]
  },
  {
   "cell_type": "code",
   "execution_count": 14,
   "id": "a2c173d8-e122-4a25-9cf6-eda60b0ee3f5",
   "metadata": {
    "tags": []
   },
   "outputs": [],
   "source": [
    "service_place = service_place.to_frame().reset_index()"
   ]
  },
  {
   "cell_type": "code",
   "execution_count": 15,
   "id": "a1956a95-9dfb-4bb1-adb9-bc75779aa9cb",
   "metadata": {
    "tags": []
   },
   "outputs": [
    {
     "data": {
      "text/html": [
       "<div>\n",
       "<style scoped>\n",
       "    .dataframe tbody tr th:only-of-type {\n",
       "        vertical-align: middle;\n",
       "    }\n",
       "\n",
       "    .dataframe tbody tr th {\n",
       "        vertical-align: top;\n",
       "    }\n",
       "\n",
       "    .dataframe thead th {\n",
       "        text-align: right;\n",
       "    }\n",
       "</style>\n",
       "<table border=\"1\" class=\"dataframe\">\n",
       "  <thead>\n",
       "    <tr style=\"text-align: right;\">\n",
       "      <th></th>\n",
       "      <th>계선장소명</th>\n",
       "      <th>접안_대기시간_분</th>\n",
       "    </tr>\n",
       "  </thead>\n",
       "  <tbody>\n",
       "    <tr>\n",
       "      <th>38</th>\n",
       "      <td>SK7부두</td>\n",
       "      <td>2590.667598</td>\n",
       "    </tr>\n",
       "    <tr>\n",
       "      <th>82</th>\n",
       "      <td>온산3부두</td>\n",
       "      <td>2550.492375</td>\n",
       "    </tr>\n",
       "    <tr>\n",
       "      <th>62</th>\n",
       "      <td>석탄부두 01</td>\n",
       "      <td>2026.698745</td>\n",
       "    </tr>\n",
       "    <tr>\n",
       "      <th>39</th>\n",
       "      <td>SK8부두</td>\n",
       "      <td>1693.318841</td>\n",
       "    </tr>\n",
       "    <tr>\n",
       "      <th>24</th>\n",
       "      <td>S-OIL 4부두 03</td>\n",
       "      <td>1393.666667</td>\n",
       "    </tr>\n",
       "    <tr>\n",
       "      <th>...</th>\n",
       "      <td>...</td>\n",
       "      <td>...</td>\n",
       "    </tr>\n",
       "    <tr>\n",
       "      <th>29</th>\n",
       "      <td>S-OIL부이 02</td>\n",
       "      <td>0.000000</td>\n",
       "    </tr>\n",
       "    <tr>\n",
       "      <th>51</th>\n",
       "      <td>매암소형선부두</td>\n",
       "      <td>0.000000</td>\n",
       "    </tr>\n",
       "    <tr>\n",
       "      <th>92</th>\n",
       "      <td>일반부두 01</td>\n",
       "      <td>0.000000</td>\n",
       "    </tr>\n",
       "    <tr>\n",
       "      <th>84</th>\n",
       "      <td>용연물양장</td>\n",
       "      <td>0.000000</td>\n",
       "    </tr>\n",
       "    <tr>\n",
       "      <th>93</th>\n",
       "      <td>일반부두 02</td>\n",
       "      <td>0.000000</td>\n",
       "    </tr>\n",
       "  </tbody>\n",
       "</table>\n",
       "<p>135 rows × 2 columns</p>\n",
       "</div>"
      ],
      "text/plain": [
       "           계선장소명    접안_대기시간_분\n",
       "38         SK7부두  2590.667598\n",
       "82         온산3부두  2550.492375\n",
       "62       석탄부두 01  2026.698745\n",
       "39         SK8부두  1693.318841\n",
       "24  S-OIL 4부두 03  1393.666667\n",
       "..           ...          ...\n",
       "29    S-OIL부이 02     0.000000\n",
       "51       매암소형선부두     0.000000\n",
       "92       일반부두 01     0.000000\n",
       "84         용연물양장     0.000000\n",
       "93       일반부두 02     0.000000\n",
       "\n",
       "[135 rows x 2 columns]"
      ]
     },
     "execution_count": 15,
     "metadata": {},
     "output_type": "execute_result"
    }
   ],
   "source": [
    "service_place.sort_values(by = '접안_대기시간_분', ascending = False, inplace = True)\n",
    "service_place"
   ]
  },
  {
   "cell_type": "code",
   "execution_count": 16,
   "id": "a9f45abd-8b3e-4818-8783-c32a7fd11287",
   "metadata": {
    "tags": []
   },
   "outputs": [
    {
     "data": {
      "text/html": [
       "<div>\n",
       "<style scoped>\n",
       "    .dataframe tbody tr th:only-of-type {\n",
       "        vertical-align: middle;\n",
       "    }\n",
       "\n",
       "    .dataframe tbody tr th {\n",
       "        vertical-align: top;\n",
       "    }\n",
       "\n",
       "    .dataframe thead th {\n",
       "        text-align: right;\n",
       "    }\n",
       "</style>\n",
       "<table border=\"1\" class=\"dataframe\">\n",
       "  <thead>\n",
       "    <tr style=\"text-align: right;\">\n",
       "      <th></th>\n",
       "      <th>index</th>\n",
       "      <th>계선장소명</th>\n",
       "      <th>접안_대기시간_분</th>\n",
       "    </tr>\n",
       "  </thead>\n",
       "  <tbody>\n",
       "    <tr>\n",
       "      <th>0</th>\n",
       "      <td>38</td>\n",
       "      <td>SK7부두</td>\n",
       "      <td>2590.667598</td>\n",
       "    </tr>\n",
       "    <tr>\n",
       "      <th>1</th>\n",
       "      <td>82</td>\n",
       "      <td>온산3부두</td>\n",
       "      <td>2550.492375</td>\n",
       "    </tr>\n",
       "    <tr>\n",
       "      <th>2</th>\n",
       "      <td>62</td>\n",
       "      <td>석탄부두 01</td>\n",
       "      <td>2026.698745</td>\n",
       "    </tr>\n",
       "    <tr>\n",
       "      <th>3</th>\n",
       "      <td>39</td>\n",
       "      <td>SK8부두</td>\n",
       "      <td>1693.318841</td>\n",
       "    </tr>\n",
       "    <tr>\n",
       "      <th>4</th>\n",
       "      <td>24</td>\n",
       "      <td>S-OIL 4부두 03</td>\n",
       "      <td>1393.666667</td>\n",
       "    </tr>\n",
       "    <tr>\n",
       "      <th>...</th>\n",
       "      <td>...</td>\n",
       "      <td>...</td>\n",
       "      <td>...</td>\n",
       "    </tr>\n",
       "    <tr>\n",
       "      <th>130</th>\n",
       "      <td>29</td>\n",
       "      <td>S-OIL부이 02</td>\n",
       "      <td>0.000000</td>\n",
       "    </tr>\n",
       "    <tr>\n",
       "      <th>131</th>\n",
       "      <td>51</td>\n",
       "      <td>매암소형선부두</td>\n",
       "      <td>0.000000</td>\n",
       "    </tr>\n",
       "    <tr>\n",
       "      <th>132</th>\n",
       "      <td>92</td>\n",
       "      <td>일반부두 01</td>\n",
       "      <td>0.000000</td>\n",
       "    </tr>\n",
       "    <tr>\n",
       "      <th>133</th>\n",
       "      <td>84</td>\n",
       "      <td>용연물양장</td>\n",
       "      <td>0.000000</td>\n",
       "    </tr>\n",
       "    <tr>\n",
       "      <th>134</th>\n",
       "      <td>93</td>\n",
       "      <td>일반부두 02</td>\n",
       "      <td>0.000000</td>\n",
       "    </tr>\n",
       "  </tbody>\n",
       "</table>\n",
       "<p>135 rows × 3 columns</p>\n",
       "</div>"
      ],
      "text/plain": [
       "     index         계선장소명    접안_대기시간_분\n",
       "0       38         SK7부두  2590.667598\n",
       "1       82         온산3부두  2550.492375\n",
       "2       62       석탄부두 01  2026.698745\n",
       "3       39         SK8부두  1693.318841\n",
       "4       24  S-OIL 4부두 03  1393.666667\n",
       "..     ...           ...          ...\n",
       "130     29    S-OIL부이 02     0.000000\n",
       "131     51       매암소형선부두     0.000000\n",
       "132     92       일반부두 01     0.000000\n",
       "133     84         용연물양장     0.000000\n",
       "134     93       일반부두 02     0.000000\n",
       "\n",
       "[135 rows x 3 columns]"
      ]
     },
     "execution_count": 16,
     "metadata": {},
     "output_type": "execute_result"
    }
   ],
   "source": [
    "service_place.reset_index()"
   ]
  },
  {
   "cell_type": "code",
   "execution_count": 20,
   "id": "45809f9e-4b7e-42d5-8c45-2cc8639e4ab2",
   "metadata": {
    "tags": []
   },
   "outputs": [],
   "source": [
    "service_delay = service_place[service_place['접안_대기시간_분'] > 0.00]"
   ]
  },
  {
   "cell_type": "code",
   "execution_count": 21,
   "id": "ac3613bd-0222-411c-82a9-0d157a319fe4",
   "metadata": {
    "tags": []
   },
   "outputs": [
    {
     "data": {
      "text/html": [
       "<div>\n",
       "<style scoped>\n",
       "    .dataframe tbody tr th:only-of-type {\n",
       "        vertical-align: middle;\n",
       "    }\n",
       "\n",
       "    .dataframe tbody tr th {\n",
       "        vertical-align: top;\n",
       "    }\n",
       "\n",
       "    .dataframe thead th {\n",
       "        text-align: right;\n",
       "    }\n",
       "</style>\n",
       "<table border=\"1\" class=\"dataframe\">\n",
       "  <thead>\n",
       "    <tr style=\"text-align: right;\">\n",
       "      <th></th>\n",
       "      <th>계선장소명</th>\n",
       "      <th>접안_대기시간_분</th>\n",
       "    </tr>\n",
       "  </thead>\n",
       "  <tbody>\n",
       "    <tr>\n",
       "      <th>38</th>\n",
       "      <td>SK7부두</td>\n",
       "      <td>2590.667598</td>\n",
       "    </tr>\n",
       "    <tr>\n",
       "      <th>82</th>\n",
       "      <td>온산3부두</td>\n",
       "      <td>2550.492375</td>\n",
       "    </tr>\n",
       "    <tr>\n",
       "      <th>62</th>\n",
       "      <td>석탄부두 01</td>\n",
       "      <td>2026.698745</td>\n",
       "    </tr>\n",
       "    <tr>\n",
       "      <th>39</th>\n",
       "      <td>SK8부두</td>\n",
       "      <td>1693.318841</td>\n",
       "    </tr>\n",
       "    <tr>\n",
       "      <th>24</th>\n",
       "      <td>S-OIL 4부두 03</td>\n",
       "      <td>1393.666667</td>\n",
       "    </tr>\n",
       "    <tr>\n",
       "      <th>...</th>\n",
       "      <td>...</td>\n",
       "      <td>...</td>\n",
       "    </tr>\n",
       "    <tr>\n",
       "      <th>124</th>\n",
       "      <td>현대미포의장안벽 01</td>\n",
       "      <td>1.941176</td>\n",
       "    </tr>\n",
       "    <tr>\n",
       "      <th>122</th>\n",
       "      <td>한진부두</td>\n",
       "      <td>1.458333</td>\n",
       "    </tr>\n",
       "    <tr>\n",
       "      <th>83</th>\n",
       "      <td>온산4부두</td>\n",
       "      <td>0.998012</td>\n",
       "    </tr>\n",
       "    <tr>\n",
       "      <th>41</th>\n",
       "      <td>SK부이 03</td>\n",
       "      <td>0.924855</td>\n",
       "    </tr>\n",
       "    <tr>\n",
       "      <th>28</th>\n",
       "      <td>S-OIL부이 01</td>\n",
       "      <td>0.010309</td>\n",
       "    </tr>\n",
       "  </tbody>\n",
       "</table>\n",
       "<p>115 rows × 2 columns</p>\n",
       "</div>"
      ],
      "text/plain": [
       "            계선장소명    접안_대기시간_분\n",
       "38          SK7부두  2590.667598\n",
       "82          온산3부두  2550.492375\n",
       "62        석탄부두 01  2026.698745\n",
       "39          SK8부두  1693.318841\n",
       "24   S-OIL 4부두 03  1393.666667\n",
       "..            ...          ...\n",
       "124   현대미포의장안벽 01     1.941176\n",
       "122          한진부두     1.458333\n",
       "83          온산4부두     0.998012\n",
       "41        SK부이 03     0.924855\n",
       "28     S-OIL부이 01     0.010309\n",
       "\n",
       "[115 rows x 2 columns]"
      ]
     },
     "execution_count": 21,
     "metadata": {},
     "output_type": "execute_result"
    }
   ],
   "source": [
    "service_delay"
   ]
  },
  {
   "cell_type": "markdown",
   "id": "0c16980d-c427-4d76-89e8-5bc842c2e09c",
   "metadata": {},
   "source": [
    "#### 1.4 접안_대기시간_분 Corr()\n",
    "- 의미 없음"
   ]
  },
  {
   "cell_type": "code",
   "execution_count": 23,
   "id": "0986bd86-6c4f-4c3a-a75b-c2c0f934a42e",
   "metadata": {
    "tags": []
   },
   "outputs": [
    {
     "data": {
      "image/png": "[encoded data removed]",
      "text/plain": [
       "<Figure size 1200x1000 with 2 Axes>"
      ]
     },
     "metadata": {},
     "output_type": "display_data"
    }
   ],
   "source": [
    "import seaborn as sns\n",
    "import matplotlib.pyplot as plt\n",
    "\n",
    "# 대기시간과의 상관관계 계산\n",
    "correlation_matrix = df.corr()\n",
    "\n",
    "# 대기시간과 상관관계가 0.0이상인 변수들 선택\n",
    "high_corr_columns = correlation_matrix['접안_대기시간_분'][abs(correlation_matrix['접안_대기시간_분']) >= 0.2].index\n",
    "\n",
    "# 선택된 변수들로 새로운 데이터프레임 생성\n",
    "selected_df = df[high_corr_columns]\n",
    "\n",
    "# 히트맵 그리기\n",
    "plt.figure(figsize=(12, 10))\n",
    "sns.heatmap(selected_df.corr(), annot=True, cmap='coolwarm', fmt=\".2f\")\n",
    "plt.title('대기시간과의 상관관계 히트맵')\n",
    "plt.show()"
   ]
  },
  {
   "cell_type": "markdown",
   "id": "88032591-f013-443f-a54a-c46f3afeb86e",
   "metadata": {},
   "source": [
    "### 2. 시계열 예측 모델 데이터셋 구성"
   ]
  },
  {
   "cell_type": "markdown",
   "id": "f77f9d35-8b2b-4d31-9ddd-f1fafd2e4565",
   "metadata": {},
   "source": [
    "- 단순 컬럼 세팅"
   ]
  },
  {
   "cell_type": "code",
   "execution_count": 24,
   "id": "7d72e04f-3747-4f03-ab1a-d5e05bcd3aba",
   "metadata": {
    "tags": []
   },
   "outputs": [
    {
     "data": {
      "text/plain": [
       "Index(['호출부호', '입항일시', '출항일시', '접안_대기시간_분', '출항_대기시간_분', 'Service_Time_Start',\n",
       "       'Service_Time_End', '계선장소_코드', '계선장소_숫자', '계선장소명', '선박용도',\n",
       "       'Service_Time_분', '대기율', '총톤수', '재화중량톤수', '선박제원(총길이, m)', '선박제원(너비, m)',\n",
       "       '만재흘수(m)', '깊이(m)', '길이1(m)', '선박국적(code)', '선박국적(이름)', 'ETA_Year',\n",
       "       'ETA_Month', 'ETA_Day', 'ETA_Hour', 'ETA_Minute', '풍속(m/s)', '풍향(deg)',\n",
       "       'GUST풍속(m/s)', '현지기압(hPa)', '습도(%)', '기온(°C)', '수온(°C)', '최대파고(m)',\n",
       "       '유의파고(m)', '평균파고(m)', '파주기(sec)', '파향(deg)'],\n",
       "      dtype='object')"
      ]
     },
     "execution_count": 24,
     "metadata": {},
     "output_type": "execute_result"
    }
   ],
   "source": [
    "df.columns"
   ]
  },
  {
   "cell_type": "code",
   "execution_count": 25,
   "id": "efb64c81-af1c-4e53-af2d-0559f8978c2a",
   "metadata": {
    "tags": []
   },
   "outputs": [],
   "source": [
    "cols = ['입항일시','접안_대기시간_분','풍속(m/s)','기온(°C)','선박제원(총길이, m)', '선박제원(너비, m)']\n",
    "temp = df[cols]"
   ]
  },
  {
   "cell_type": "code",
   "execution_count": 26,
   "id": "25c645f2-0d82-467a-9374-2803e1fbc6ad",
   "metadata": {
    "tags": []
   },
   "outputs": [
    {
     "data": {
      "text/html": [
       "<div>\n",
       "<style scoped>\n",
       "    .dataframe tbody tr th:only-of-type {\n",
       "        vertical-align: middle;\n",
       "    }\n",
       "\n",
       "    .dataframe tbody tr th {\n",
       "        vertical-align: top;\n",
       "    }\n",
       "\n",
       "    .dataframe thead th {\n",
       "        text-align: right;\n",
       "    }\n",
       "</style>\n",
       "<table border=\"1\" class=\"dataframe\">\n",
       "  <thead>\n",
       "    <tr style=\"text-align: right;\">\n",
       "      <th></th>\n",
       "      <th>입항일시</th>\n",
       "      <th>접안_대기시간_분</th>\n",
       "      <th>풍속(m/s)</th>\n",
       "      <th>기온(°C)</th>\n",
       "      <th>선박제원(총길이, m)</th>\n",
       "      <th>선박제원(너비, m)</th>\n",
       "    </tr>\n",
       "  </thead>\n",
       "  <tbody>\n",
       "    <tr>\n",
       "      <th>0</th>\n",
       "      <td>2020-01-05 11:30:00</td>\n",
       "      <td>1125</td>\n",
       "      <td>3.1</td>\n",
       "      <td>10.3</td>\n",
       "      <td>73.2</td>\n",
       "      <td>12.5</td>\n",
       "    </tr>\n",
       "    <tr>\n",
       "      <th>1</th>\n",
       "      <td>2020-02-27 08:50:00</td>\n",
       "      <td>0</td>\n",
       "      <td>9.5</td>\n",
       "      <td>8.9</td>\n",
       "      <td>73.2</td>\n",
       "      <td>12.5</td>\n",
       "    </tr>\n",
       "    <tr>\n",
       "      <th>2</th>\n",
       "      <td>2020-03-09 12:35:00</td>\n",
       "      <td>0</td>\n",
       "      <td>3.5</td>\n",
       "      <td>13.8</td>\n",
       "      <td>73.2</td>\n",
       "      <td>12.5</td>\n",
       "    </tr>\n",
       "    <tr>\n",
       "      <th>3</th>\n",
       "      <td>2020-03-23 17:10:00</td>\n",
       "      <td>0</td>\n",
       "      <td>7.8</td>\n",
       "      <td>15.5</td>\n",
       "      <td>73.2</td>\n",
       "      <td>12.5</td>\n",
       "    </tr>\n",
       "    <tr>\n",
       "      <th>4</th>\n",
       "      <td>2021-07-03 16:20:00</td>\n",
       "      <td>0</td>\n",
       "      <td>NaN</td>\n",
       "      <td>NaN</td>\n",
       "      <td>28.5</td>\n",
       "      <td>8.8</td>\n",
       "    </tr>\n",
       "    <tr>\n",
       "      <th>...</th>\n",
       "      <td>...</td>\n",
       "      <td>...</td>\n",
       "      <td>...</td>\n",
       "      <td>...</td>\n",
       "      <td>...</td>\n",
       "      <td>...</td>\n",
       "    </tr>\n",
       "    <tr>\n",
       "      <th>72134</th>\n",
       "      <td>2021-04-08 09:18:00</td>\n",
       "      <td>0</td>\n",
       "      <td>NaN</td>\n",
       "      <td>15.9</td>\n",
       "      <td>249.9</td>\n",
       "      <td>44</td>\n",
       "    </tr>\n",
       "    <tr>\n",
       "      <th>72135</th>\n",
       "      <td>2021-02-18 10:36:00</td>\n",
       "      <td>9918</td>\n",
       "      <td>10.4</td>\n",
       "      <td>-3.4</td>\n",
       "      <td>249.9</td>\n",
       "      <td>44</td>\n",
       "    </tr>\n",
       "    <tr>\n",
       "      <th>72136</th>\n",
       "      <td>2020-06-13 22:00:00</td>\n",
       "      <td>0</td>\n",
       "      <td>8.3</td>\n",
       "      <td>23.1</td>\n",
       "      <td>174.4</td>\n",
       "      <td>27.7</td>\n",
       "    </tr>\n",
       "    <tr>\n",
       "      <th>72137</th>\n",
       "      <td>2020-12-10 03:00:00</td>\n",
       "      <td>1789</td>\n",
       "      <td>1.9</td>\n",
       "      <td>11.2</td>\n",
       "      <td>111.5</td>\n",
       "      <td>17</td>\n",
       "    </tr>\n",
       "    <tr>\n",
       "      <th>72138</th>\n",
       "      <td>2021-03-23 19:23:00</td>\n",
       "      <td>0</td>\n",
       "      <td>12.5</td>\n",
       "      <td>13.7</td>\n",
       "      <td>183.0</td>\n",
       "      <td>32.2</td>\n",
       "    </tr>\n",
       "  </tbody>\n",
       "</table>\n",
       "<p>72139 rows × 6 columns</p>\n",
       "</div>"
      ],
      "text/plain": [
       "                      입항일시  접안_대기시간_분  풍속(m/s)  기온(°C)  선박제원(총길이, m)  \\\n",
       "0      2020-01-05 11:30:00       1125      3.1    10.3          73.2   \n",
       "1      2020-02-27 08:50:00          0      9.5     8.9          73.2   \n",
       "2      2020-03-09 12:35:00          0      3.5    13.8          73.2   \n",
       "3      2020-03-23 17:10:00          0      7.8    15.5          73.2   \n",
       "4      2021-07-03 16:20:00          0      NaN     NaN          28.5   \n",
       "...                    ...        ...      ...     ...           ...   \n",
       "72134  2021-04-08 09:18:00          0      NaN    15.9         249.9   \n",
       "72135  2021-02-18 10:36:00       9918     10.4    -3.4         249.9   \n",
       "72136  2020-06-13 22:00:00          0      8.3    23.1         174.4   \n",
       "72137  2020-12-10 03:00:00       1789      1.9    11.2         111.5   \n",
       "72138  2021-03-23 19:23:00          0     12.5    13.7         183.0   \n",
       "\n",
       "      선박제원(너비, m)  \n",
       "0            12.5  \n",
       "1            12.5  \n",
       "2            12.5  \n",
       "3            12.5  \n",
       "4             8.8  \n",
       "...           ...  \n",
       "72134          44  \n",
       "72135          44  \n",
       "72136        27.7  \n",
       "72137          17  \n",
       "72138        32.2  \n",
       "\n",
       "[72139 rows x 6 columns]"
      ]
     },
     "execution_count": 26,
     "metadata": {},
     "output_type": "execute_result"
    }
   ],
   "source": [
    "temp"
   ]
  },
  {
   "cell_type": "code",
   "execution_count": 27,
   "id": "4b5728f6-a496-4ecd-879f-5ee81072381e",
   "metadata": {
    "tags": []
   },
   "outputs": [
    {
     "data": {
      "text/plain": [
       "입항일시               0\n",
       "접안_대기시간_분          0\n",
       "풍속(m/s)         6874\n",
       "기온(°C)          2825\n",
       "선박제원(총길이, m)     612\n",
       "선박제원(너비, m)      612\n",
       "dtype: int64"
      ]
     },
     "execution_count": 27,
     "metadata": {},
     "output_type": "execute_result"
    }
   ],
   "source": [
    "temp.isna().sum()"
   ]
  },
  {
   "cell_type": "code",
   "execution_count": 28,
   "id": "68cd6d1a-67f2-4e94-a03a-e101035c822d",
   "metadata": {
    "tags": []
   },
   "outputs": [],
   "source": [
    "temp.dropna(inplace = True)"
   ]
  },
  {
   "cell_type": "markdown",
   "id": "ceb5d26b-0fee-42f7-828a-6b753b5e4b0c",
   "metadata": {
    "tags": []
   },
   "source": [
    "- 데이터셋2"
   ]
  },
  {
   "cell_type": "code",
   "execution_count": 29,
   "id": "26cce757-d31b-4a46-9257-ba34da655502",
   "metadata": {
    "tags": []
   },
   "outputs": [],
   "source": [
    "# 문자열 컬럼 제거\n",
    "string_columns = df.select_dtypes(include=['object']).columns\n",
    "temp2 = df.drop(columns=string_columns)"
   ]
  },
  {
   "cell_type": "code",
   "execution_count": 30,
   "id": "06f07e80-d0c0-439d-8476-6bf0d6c9b942",
   "metadata": {
    "tags": []
   },
   "outputs": [
    {
     "data": {
      "text/plain": [
       "Index(['접안_대기시간_분', '출항_대기시간_분', '계선장소_숫자', 'Service_Time_분', '대기율',\n",
       "       '선박제원(총길이, m)', '만재흘수(m)', '깊이(m)', '길이1(m)', 'ETA_Year', 'ETA_Month',\n",
       "       'ETA_Day', 'ETA_Hour', 'ETA_Minute', '풍속(m/s)', '풍향(deg)',\n",
       "       'GUST풍속(m/s)', '현지기압(hPa)', '습도(%)', '기온(°C)', '수온(°C)', '최대파고(m)',\n",
       "       '유의파고(m)', '평균파고(m)', '파주기(sec)', '파향(deg)'],\n",
       "      dtype='object')"
      ]
     },
     "execution_count": 30,
     "metadata": {},
     "output_type": "execute_result"
    }
   ],
   "source": [
    "temp2.columns"
   ]
  },
  {
   "cell_type": "code",
   "execution_count": 31,
   "id": "8804b4e9-85f7-4e5e-8ac0-c7cd8db0a377",
   "metadata": {
    "tags": []
   },
   "outputs": [
    {
     "ename": "KeyError",
     "evalue": "\"['접안_대기시간_NumDays', 'Service_Time_NumDays', '접안_대기시간_일', '접안_대기시간_시간', 'Service_Time_일', 'Service_Time_시간'] not found in axis\"",
     "output_type": "error",
     "traceback": [
      "\u001b[0;31m---------------------------------------------------------------------------\u001b[0m",
      "\u001b[0;31mKeyError\u001b[0m                                  Traceback (most recent call last)",
      "Cell \u001b[0;32mIn[31], line 3\u001b[0m\n\u001b[1;32m      1\u001b[0m drop_cols \u001b[38;5;241m=\u001b[39m [\u001b[38;5;124m'\u001b[39m\u001b[38;5;124m접안_대기시간_NumDays\u001b[39m\u001b[38;5;124m'\u001b[39m, \u001b[38;5;124m'\u001b[39m\u001b[38;5;124mService_Time_NumDays\u001b[39m\u001b[38;5;124m'\u001b[39m,\u001b[38;5;124m'\u001b[39m\u001b[38;5;124m접안_대기시간_일\u001b[39m\u001b[38;5;124m'\u001b[39m, \u001b[38;5;124m'\u001b[39m\u001b[38;5;124m접안_대기시간_시간\u001b[39m\u001b[38;5;124m'\u001b[39m,\u001b[38;5;124m'\u001b[39m\u001b[38;5;124mService_Time_일\u001b[39m\u001b[38;5;124m'\u001b[39m, \u001b[38;5;124m'\u001b[39m\u001b[38;5;124mService_Time_시간\u001b[39m\u001b[38;5;124m'\u001b[39m, \u001b[38;5;124m'\u001b[39m\u001b[38;5;124mService_Time_분\u001b[39m\u001b[38;5;124m'\u001b[39m,\n\u001b[1;32m      2\u001b[0m              \u001b[38;5;124m'\u001b[39m\u001b[38;5;124m대기율\u001b[39m\u001b[38;5;124m'\u001b[39m]\n\u001b[0;32m----> 3\u001b[0m temp2 \u001b[38;5;241m=\u001b[39m temp2\u001b[38;5;241m.\u001b[39mdrop(columns \u001b[38;5;241m=\u001b[39m drop_cols)\n",
      "File \u001b[0;32m~/anaconda3/lib/python3.11/site-packages/pandas/util/_decorators.py:331\u001b[0m, in \u001b[0;36mdeprecate_nonkeyword_arguments.<locals>.decorate.<locals>.wrapper\u001b[0;34m(*args, **kwargs)\u001b[0m\n\u001b[1;32m    325\u001b[0m \u001b[38;5;28;01mif\u001b[39;00m \u001b[38;5;28mlen\u001b[39m(args) \u001b[38;5;241m>\u001b[39m num_allow_args:\n\u001b[1;32m    326\u001b[0m     warnings\u001b[38;5;241m.\u001b[39mwarn(\n\u001b[1;32m    327\u001b[0m         msg\u001b[38;5;241m.\u001b[39mformat(arguments\u001b[38;5;241m=\u001b[39m_format_argument_list(allow_args)),\n\u001b[1;32m    328\u001b[0m         \u001b[38;5;167;01mFutureWarning\u001b[39;00m,\n\u001b[1;32m    329\u001b[0m         stacklevel\u001b[38;5;241m=\u001b[39mfind_stack_level(),\n\u001b[1;32m    330\u001b[0m     )\n\u001b[0;32m--> 331\u001b[0m \u001b[38;5;28;01mreturn\u001b[39;00m func(\u001b[38;5;241m*\u001b[39margs, \u001b[38;5;241m*\u001b[39m\u001b[38;5;241m*\u001b[39mkwargs)\n",
      "File \u001b[0;32m~/anaconda3/lib/python3.11/site-packages/pandas/core/frame.py:5399\u001b[0m, in \u001b[0;36mDataFrame.drop\u001b[0;34m(self, labels, axis, index, columns, level, inplace, errors)\u001b[0m\n\u001b[1;32m   5251\u001b[0m \u001b[38;5;129m@deprecate_nonkeyword_arguments\u001b[39m(version\u001b[38;5;241m=\u001b[39m\u001b[38;5;28;01mNone\u001b[39;00m, allowed_args\u001b[38;5;241m=\u001b[39m[\u001b[38;5;124m\"\u001b[39m\u001b[38;5;124mself\u001b[39m\u001b[38;5;124m\"\u001b[39m, \u001b[38;5;124m\"\u001b[39m\u001b[38;5;124mlabels\u001b[39m\u001b[38;5;124m\"\u001b[39m])\n\u001b[1;32m   5252\u001b[0m \u001b[38;5;28;01mdef\u001b[39;00m \u001b[38;5;21mdrop\u001b[39m(  \u001b[38;5;66;03m# type: ignore[override]\u001b[39;00m\n\u001b[1;32m   5253\u001b[0m     \u001b[38;5;28mself\u001b[39m,\n\u001b[0;32m   (...)\u001b[0m\n\u001b[1;32m   5260\u001b[0m     errors: IgnoreRaise \u001b[38;5;241m=\u001b[39m \u001b[38;5;124m\"\u001b[39m\u001b[38;5;124mraise\u001b[39m\u001b[38;5;124m\"\u001b[39m,\n\u001b[1;32m   5261\u001b[0m ) \u001b[38;5;241m-\u001b[39m\u001b[38;5;241m>\u001b[39m DataFrame \u001b[38;5;241m|\u001b[39m \u001b[38;5;28;01mNone\u001b[39;00m:\n\u001b[1;32m   5262\u001b[0m \u001b[38;5;250m    \u001b[39m\u001b[38;5;124;03m\"\"\"\u001b[39;00m\n\u001b[1;32m   5263\u001b[0m \u001b[38;5;124;03m    Drop specified labels from rows or columns.\u001b[39;00m\n\u001b[1;32m   5264\u001b[0m \n\u001b[0;32m   (...)\u001b[0m\n\u001b[1;32m   5397\u001b[0m \u001b[38;5;124;03m            weight  1.0     0.8\u001b[39;00m\n\u001b[1;32m   5398\u001b[0m \u001b[38;5;124;03m    \"\"\"\u001b[39;00m\n\u001b[0;32m-> 5399\u001b[0m     \u001b[38;5;28;01mreturn\u001b[39;00m \u001b[38;5;28msuper\u001b[39m()\u001b[38;5;241m.\u001b[39mdrop(\n\u001b[1;32m   5400\u001b[0m         labels\u001b[38;5;241m=\u001b[39mlabels,\n\u001b[1;32m   5401\u001b[0m         axis\u001b[38;5;241m=\u001b[39maxis,\n\u001b[1;32m   5402\u001b[0m         index\u001b[38;5;241m=\u001b[39mindex,\n\u001b[1;32m   5403\u001b[0m         columns\u001b[38;5;241m=\u001b[39mcolumns,\n\u001b[1;32m   5404\u001b[0m         level\u001b[38;5;241m=\u001b[39mlevel,\n\u001b[1;32m   5405\u001b[0m         inplace\u001b[38;5;241m=\u001b[39minplace,\n\u001b[1;32m   5406\u001b[0m         errors\u001b[38;5;241m=\u001b[39merrors,\n\u001b[1;32m   5407\u001b[0m     )\n",
      "File \u001b[0;32m~/anaconda3/lib/python3.11/site-packages/pandas/util/_decorators.py:331\u001b[0m, in \u001b[0;36mdeprecate_nonkeyword_arguments.<locals>.decorate.<locals>.wrapper\u001b[0;34m(*args, **kwargs)\u001b[0m\n\u001b[1;32m    325\u001b[0m \u001b[38;5;28;01mif\u001b[39;00m \u001b[38;5;28mlen\u001b[39m(args) \u001b[38;5;241m>\u001b[39m num_allow_args:\n\u001b[1;32m    326\u001b[0m     warnings\u001b[38;5;241m.\u001b[39mwarn(\n\u001b[1;32m    327\u001b[0m         msg\u001b[38;5;241m.\u001b[39mformat(arguments\u001b[38;5;241m=\u001b[39m_format_argument_list(allow_args)),\n\u001b[1;32m    328\u001b[0m         \u001b[38;5;167;01mFutureWarning\u001b[39;00m,\n\u001b[1;32m    329\u001b[0m         stacklevel\u001b[38;5;241m=\u001b[39mfind_stack_level(),\n\u001b[1;32m    330\u001b[0m     )\n\u001b[0;32m--> 331\u001b[0m \u001b[38;5;28;01mreturn\u001b[39;00m func(\u001b[38;5;241m*\u001b[39margs, \u001b[38;5;241m*\u001b[39m\u001b[38;5;241m*\u001b[39mkwargs)\n",
      "File \u001b[0;32m~/anaconda3/lib/python3.11/site-packages/pandas/core/generic.py:4505\u001b[0m, in \u001b[0;36mNDFrame.drop\u001b[0;34m(self, labels, axis, index, columns, level, inplace, errors)\u001b[0m\n\u001b[1;32m   4503\u001b[0m \u001b[38;5;28;01mfor\u001b[39;00m axis, labels \u001b[38;5;129;01min\u001b[39;00m axes\u001b[38;5;241m.\u001b[39mitems():\n\u001b[1;32m   4504\u001b[0m     \u001b[38;5;28;01mif\u001b[39;00m labels \u001b[38;5;129;01mis\u001b[39;00m \u001b[38;5;129;01mnot\u001b[39;00m \u001b[38;5;28;01mNone\u001b[39;00m:\n\u001b[0;32m-> 4505\u001b[0m         obj \u001b[38;5;241m=\u001b[39m obj\u001b[38;5;241m.\u001b[39m_drop_axis(labels, axis, level\u001b[38;5;241m=\u001b[39mlevel, errors\u001b[38;5;241m=\u001b[39merrors)\n\u001b[1;32m   4507\u001b[0m \u001b[38;5;28;01mif\u001b[39;00m inplace:\n\u001b[1;32m   4508\u001b[0m     \u001b[38;5;28mself\u001b[39m\u001b[38;5;241m.\u001b[39m_update_inplace(obj)\n",
      "File \u001b[0;32m~/anaconda3/lib/python3.11/site-packages/pandas/core/generic.py:4546\u001b[0m, in \u001b[0;36mNDFrame._drop_axis\u001b[0;34m(self, labels, axis, level, errors, only_slice)\u001b[0m\n\u001b[1;32m   4544\u001b[0m         new_axis \u001b[38;5;241m=\u001b[39m axis\u001b[38;5;241m.\u001b[39mdrop(labels, level\u001b[38;5;241m=\u001b[39mlevel, errors\u001b[38;5;241m=\u001b[39merrors)\n\u001b[1;32m   4545\u001b[0m     \u001b[38;5;28;01melse\u001b[39;00m:\n\u001b[0;32m-> 4546\u001b[0m         new_axis \u001b[38;5;241m=\u001b[39m axis\u001b[38;5;241m.\u001b[39mdrop(labels, errors\u001b[38;5;241m=\u001b[39merrors)\n\u001b[1;32m   4547\u001b[0m     indexer \u001b[38;5;241m=\u001b[39m axis\u001b[38;5;241m.\u001b[39mget_indexer(new_axis)\n\u001b[1;32m   4549\u001b[0m \u001b[38;5;66;03m# Case for non-unique axis\u001b[39;00m\n\u001b[1;32m   4550\u001b[0m \u001b[38;5;28;01melse\u001b[39;00m:\n",
      "File \u001b[0;32m~/anaconda3/lib/python3.11/site-packages/pandas/core/indexes/base.py:6934\u001b[0m, in \u001b[0;36mIndex.drop\u001b[0;34m(self, labels, errors)\u001b[0m\n\u001b[1;32m   6932\u001b[0m \u001b[38;5;28;01mif\u001b[39;00m mask\u001b[38;5;241m.\u001b[39many():\n\u001b[1;32m   6933\u001b[0m     \u001b[38;5;28;01mif\u001b[39;00m errors \u001b[38;5;241m!=\u001b[39m \u001b[38;5;124m\"\u001b[39m\u001b[38;5;124mignore\u001b[39m\u001b[38;5;124m\"\u001b[39m:\n\u001b[0;32m-> 6934\u001b[0m         \u001b[38;5;28;01mraise\u001b[39;00m \u001b[38;5;167;01mKeyError\u001b[39;00m(\u001b[38;5;124mf\u001b[39m\u001b[38;5;124m\"\u001b[39m\u001b[38;5;132;01m{\u001b[39;00m\u001b[38;5;28mlist\u001b[39m(labels[mask])\u001b[38;5;132;01m}\u001b[39;00m\u001b[38;5;124m not found in axis\u001b[39m\u001b[38;5;124m\"\u001b[39m)\n\u001b[1;32m   6935\u001b[0m     indexer \u001b[38;5;241m=\u001b[39m indexer[\u001b[38;5;241m~\u001b[39mmask]\n\u001b[1;32m   6936\u001b[0m \u001b[38;5;28;01mreturn\u001b[39;00m \u001b[38;5;28mself\u001b[39m\u001b[38;5;241m.\u001b[39mdelete(indexer)\n",
      "\u001b[0;31mKeyError\u001b[0m: \"['접안_대기시간_NumDays', 'Service_Time_NumDays', '접안_대기시간_일', '접안_대기시간_시간', 'Service_Time_일', 'Service_Time_시간'] not found in axis\""
     ]
    }
   ],
   "source": [
    "drop_cols = ['접안_대기시간_NumDays', 'Service_Time_NumDays','접안_대기시간_일', '접안_대기시간_시간','Service_Time_일', 'Service_Time_시간', 'Service_Time_분',\n",
    "             '대기율']\n",
    "temp2 = temp2.drop(columns = drop_cols)"
   ]
  },
  {
   "cell_type": "markdown",
   "id": "13035beb-90fa-441e-8ceb-c3a4b98bf18f",
   "metadata": {
    "tags": []
   },
   "source": [
    "### 시계열 예측 모델"
   ]
  },
  {
   "cell_type": "markdown",
   "id": "e2742183-5154-46de-bf73-9fc135763a31",
   "metadata": {},
   "source": [
    "#### Holt-Winters Exponential Smoothing "
   ]
  },
  {
   "cell_type": "code",
   "execution_count": null,
   "id": "6835b6ed-7f36-4b07-9949-27490adf00f8",
   "metadata": {
    "tags": []
   },
   "outputs": [],
   "source": [
    "df = temp.copy()"
   ]
  },
  {
   "cell_type": "code",
   "execution_count": null,
   "id": "46b717ed-1532-40a5-890b-b99d35889f64",
   "metadata": {
    "tags": []
   },
   "outputs": [],
   "source": [
    "import pandas as pd\n",
    "import matplotlib.pyplot as plt\n",
    "from statsmodels.tsa.holtwinters import ExponentialSmoothing\n",
    "from sklearn.model_selection import train_test_split\n",
    "from sklearn.metrics import mean_squared_error\n",
    "import numpy as np\n",
    "\n",
    "df['입항일시'] = pd.to_datetime(df['입항일시'])\n",
    "\n",
    "df.set_index('입항일시', inplace=True)\n",
    "\n",
    "plt.figure(figsize=(14, 6))\n",
    "plt.plot(df['접안_대기시간_분'])\n",
    "plt.title('시간에 따른 접안 대기시간 분포')\n",
    "plt.xlabel('날짜')\n",
    "plt.ylabel('접안 대기시간 분')\n",
    "plt.show()\n",
    "\n",
    "# 훈련8 테스트2\n",
    "train_size = int(len(df) * 0.8)\n",
    "train, test = df[:train_size], df[train_size:]\n",
    "\n",
    "# Holt-Winters Exponential Smoothing \n",
    "model = ExponentialSmoothing(train['접안_대기시간_분'], trend='add', seasonal='add', seasonal_periods=24)\n",
    "model_fit = model.fit(optimized=True)\n",
    "\n",
    "# 예측\n",
    "predictions = model_fit.forecast(steps=len(test))\n",
    "\n",
    "# 모델 평가\n",
    "mse = mean_squared_error(test['접안_대기시간_분'], predictions)\n",
    "rmse = np.sqrt(mse)\n",
    "print(f'평균 제곱 오차(MSE): {mse}')\n",
    "print(f'제곱근 평균 제곱 오차(RMSE): {rmse}')\n",
    "\n",
    "# 비교\n",
    "plt.figure(figsize=(14, 6))\n",
    "plt.plot(train['접안_대기시간_분'], label='훈련 데이터')\n",
    "plt.plot(test['접안_대기시간_분'], label='테스트 데이터')\n",
    "plt.plot(predictions, label='예측값')\n",
    "plt.title('Holt-Winters Exponential Smoothing 예측 결과')\n",
    "plt.xlabel('날짜')\n",
    "plt.ylabel('접안_대기시간_분')\n",
    "plt.legend()\n",
    "plt.show()\n"
   ]
  },
  {
   "cell_type": "code",
   "execution_count": null,
   "id": "f6889391-5ad3-4e32-9ddf-7dbb8096ba0f",
   "metadata": {
    "tags": []
   },
   "outputs": [],
   "source": [
    "df = temp.copy()"
   ]
  },
  {
   "cell_type": "code",
   "execution_count": null,
   "id": "be761e1a-3a4e-4276-9451-32c40f7b42f2",
   "metadata": {
    "tags": []
   },
   "outputs": [],
   "source": [
    "import pandas as pd\n",
    "import matplotlib.pyplot as plt\n",
    "import seaborn as sns\n",
    "\n",
    "df['입항일시'] = pd.to_datetime(df['입항일시'])\n",
    "\n",
    "# '월'과 '시간' 정보를 추출합니다.\n",
    "df['월'] = df['입항일시'].dt.month\n",
    "df['시간'] = df['입항일시'].dt.hour\n",
    "\n",
    "# 월별 분포를 시각화합니다.\n",
    "plt.figure(figsize=(12, 6))\n",
    "sns.countplot(x='월', data=df)\n",
    "plt.title('월별 입항 건수 분포')\n",
    "plt.xlabel('월')\n",
    "plt.ylabel('건수')\n",
    "plt.show()\n",
    "\n",
    "# 시간별 분포를 시각화합니다.\n",
    "plt.figure(figsize=(12, 6))\n",
    "sns.countplot(x='시간', data=df)\n",
    "plt.title('시간별 입항 건수 분포')\n",
    "plt.xlabel('시간')\n",
    "plt.ylabel('건수')\n",
    "plt.show()\n"
   ]
  },
  {
   "cell_type": "markdown",
   "id": "521c2c15-844b-4dec-ae94-87024068418d",
   "metadata": {
    "tags": []
   },
   "source": [
    "#### 주기성 확인"
   ]
  },
  {
   "cell_type": "code",
   "execution_count": 32,
   "id": "28da1f92-9883-4efa-8ad4-64216d582b4d",
   "metadata": {
    "tags": []
   },
   "outputs": [
    {
     "data": {
      "image/png": "[encoded data removed]",
      "text/plain": [
       "<Figure size 1200x600 with 1 Axes>"
      ]
     },
     "metadata": {},
     "output_type": "display_data"
    },
    {
     "data": {
      "image/png": "[encoded data removed]",
      "text/plain": [
       "<Figure size 1200x600 with 1 Axes>"
      ]
     },
     "metadata": {},
     "output_type": "display_data"
    }
   ],
   "source": [
    "import pandas as pd\n",
    "import matplotlib.pyplot as plt\n",
    "import seaborn as sns\n",
    "\n",
    "# 데이터 타입\n",
    "df['입항일시'] = pd.to_datetime(df['입항일시'])\n",
    "df['월'] = df['입항일시'].dt.month\n",
    "df['시간'] = df['입항일시'].dt.hour\n",
    "\n",
    "# 접안 대기시간이 발생하는 것만 시각화\n",
    "zero_wait_time_df = df[df['접안_대기시간_분'] > 0]\n",
    "\n",
    "# '접안_대기시간_분'이 0인 데이터의 월별 분포를 시각화합니다.\n",
    "plt.figure(figsize=(12, 6))\n",
    "sns.countplot(x='월', data=zero_wait_time_df)\n",
    "plt.title('월별 0분 접안 대기시간 데이터 분포')\n",
    "plt.xlabel('월')\n",
    "plt.ylabel('건수')\n",
    "plt.show()\n",
    "\n",
    "# '접안_대기시간_분'이 0인 데이터의 시간별 분포를 시각화합니다.\n",
    "plt.figure(figsize=(12, 6))\n",
    "sns.countplot(x='시간', data=zero_wait_time_df)\n",
    "plt.title('시간별 0분 접안 대기시간 데이터 분포')\n",
    "plt.xlabel('시간')\n",
    "plt.ylabel('건수')\n",
    "plt.show()\n"
   ]
  },
  {
   "cell_type": "markdown",
   "id": "842ff0fc-9865-4a42-a820-dd2c7a19056b",
   "metadata": {},
   "source": [
    "#### LSTM"
   ]
  },
  {
   "cell_type": "code",
   "execution_count": 33,
   "id": "c7670c1c-d6d2-45c2-8faf-80e4c9c6ee7b",
   "metadata": {
    "tags": []
   },
   "outputs": [],
   "source": [
    "df = temp.copy()"
   ]
  },
  {
   "cell_type": "code",
   "execution_count": 34,
   "id": "930e8587-3427-4160-869e-b0e31a7e23a8",
   "metadata": {
    "tags": []
   },
   "outputs": [
    {
     "data": {
      "text/plain": [
       "입항일시            0\n",
       "접안_대기시간_분       0\n",
       "풍속(m/s)         0\n",
       "기온(°C)          0\n",
       "선박제원(총길이, m)    0\n",
       "선박제원(너비, m)     0\n",
       "dtype: int64"
      ]
     },
     "execution_count": 34,
     "metadata": {},
     "output_type": "execute_result"
    }
   ],
   "source": [
    "temp.isna().sum()"
   ]
  },
  {
   "cell_type": "code",
   "execution_count": 35,
   "id": "76f50418-abdb-420c-83e0-bb625dfe028c",
   "metadata": {
    "tags": []
   },
   "outputs": [
    {
     "name": "stderr",
     "output_type": "stream",
     "text": [
      "2023-11-14 15:45:20.183757: I tensorflow/core/platform/cpu_feature_guard.cc:182] This TensorFlow binary is optimized to use available CPU instructions in performance-critical operations.\n",
      "To enable the following instructions: AVX2 FMA, in other operations, rebuild TensorFlow with the appropriate compiler flags.\n"
     ]
    },
    {
     "name": "stdout",
     "output_type": "stream",
     "text": [
      "Epoch 1/50\n",
      "1231/1231 - 7s - loss: 0.0000e+00 - 7s/epoch - 6ms/step\n",
      "Epoch 2/50\n",
      "1231/1231 - 5s - loss: 0.0000e+00 - 5s/epoch - 4ms/step\n",
      "Epoch 3/50\n",
      "1231/1231 - 5s - loss: 0.0000e+00 - 5s/epoch - 4ms/step\n",
      "Epoch 4/50\n",
      "1231/1231 - 5s - loss: 0.0000e+00 - 5s/epoch - 4ms/step\n",
      "Epoch 5/50\n",
      "1231/1231 - 5s - loss: 0.0000e+00 - 5s/epoch - 4ms/step\n",
      "Epoch 6/50\n",
      "1231/1231 - 5s - loss: 0.0000e+00 - 5s/epoch - 4ms/step\n",
      "Epoch 7/50\n",
      "1231/1231 - 5s - loss: 0.0000e+00 - 5s/epoch - 4ms/step\n",
      "Epoch 8/50\n",
      "1231/1231 - 5s - loss: 0.0000e+00 - 5s/epoch - 4ms/step\n",
      "Epoch 9/50\n",
      "1231/1231 - 5s - loss: 0.0000e+00 - 5s/epoch - 4ms/step\n",
      "Epoch 10/50\n",
      "1231/1231 - 5s - loss: 0.0000e+00 - 5s/epoch - 4ms/step\n",
      "Epoch 11/50\n",
      "1231/1231 - 5s - loss: 0.0000e+00 - 5s/epoch - 4ms/step\n",
      "Epoch 12/50\n",
      "1231/1231 - 5s - loss: 0.0000e+00 - 5s/epoch - 4ms/step\n",
      "Epoch 13/50\n",
      "1231/1231 - 5s - loss: 0.0000e+00 - 5s/epoch - 4ms/step\n",
      "Epoch 14/50\n",
      "1231/1231 - 5s - loss: 0.0000e+00 - 5s/epoch - 4ms/step\n",
      "Epoch 15/50\n",
      "1231/1231 - 5s - loss: 0.0000e+00 - 5s/epoch - 4ms/step\n",
      "Epoch 16/50\n",
      "1231/1231 - 5s - loss: 0.0000e+00 - 5s/epoch - 4ms/step\n",
      "Epoch 17/50\n",
      "1231/1231 - 5s - loss: 0.0000e+00 - 5s/epoch - 4ms/step\n",
      "Epoch 18/50\n",
      "1231/1231 - 5s - loss: 0.0000e+00 - 5s/epoch - 4ms/step\n",
      "Epoch 19/50\n",
      "1231/1231 - 5s - loss: 0.0000e+00 - 5s/epoch - 4ms/step\n",
      "Epoch 20/50\n",
      "1231/1231 - 5s - loss: 0.0000e+00 - 5s/epoch - 4ms/step\n",
      "Epoch 21/50\n",
      "1231/1231 - 5s - loss: 0.0000e+00 - 5s/epoch - 4ms/step\n",
      "Epoch 22/50\n",
      "1231/1231 - 5s - loss: 0.0000e+00 - 5s/epoch - 4ms/step\n",
      "Epoch 23/50\n",
      "1231/1231 - 5s - loss: 0.0000e+00 - 5s/epoch - 4ms/step\n",
      "Epoch 24/50\n",
      "1231/1231 - 5s - loss: 0.0000e+00 - 5s/epoch - 4ms/step\n",
      "Epoch 25/50\n",
      "1231/1231 - 5s - loss: 0.0000e+00 - 5s/epoch - 4ms/step\n",
      "Epoch 26/50\n",
      "1231/1231 - 5s - loss: 0.0000e+00 - 5s/epoch - 4ms/step\n",
      "Epoch 27/50\n",
      "1231/1231 - 5s - loss: 0.0000e+00 - 5s/epoch - 4ms/step\n",
      "Epoch 28/50\n",
      "1231/1231 - 5s - loss: 0.0000e+00 - 5s/epoch - 4ms/step\n",
      "Epoch 29/50\n",
      "1231/1231 - 5s - loss: 0.0000e+00 - 5s/epoch - 4ms/step\n",
      "Epoch 30/50\n",
      "1231/1231 - 5s - loss: 0.0000e+00 - 5s/epoch - 4ms/step\n",
      "Epoch 31/50\n",
      "1231/1231 - 5s - loss: 0.0000e+00 - 5s/epoch - 4ms/step\n",
      "Epoch 32/50\n",
      "1231/1231 - 6s - loss: 0.0000e+00 - 6s/epoch - 5ms/step\n",
      "Epoch 33/50\n",
      "1231/1231 - 6s - loss: 0.0000e+00 - 6s/epoch - 5ms/step\n",
      "Epoch 34/50\n",
      "1231/1231 - 5s - loss: 0.0000e+00 - 5s/epoch - 4ms/step\n",
      "Epoch 35/50\n",
      "1231/1231 - 5s - loss: 0.0000e+00 - 5s/epoch - 4ms/step\n",
      "Epoch 36/50\n",
      "1231/1231 - 5s - loss: 0.0000e+00 - 5s/epoch - 4ms/step\n",
      "Epoch 37/50\n",
      "1231/1231 - 5s - loss: 0.0000e+00 - 5s/epoch - 4ms/step\n",
      "Epoch 38/50\n",
      "1231/1231 - 6s - loss: 0.0000e+00 - 6s/epoch - 5ms/step\n",
      "Epoch 39/50\n",
      "1231/1231 - 6s - loss: 0.0000e+00 - 6s/epoch - 5ms/step\n",
      "Epoch 40/50\n",
      "1231/1231 - 5s - loss: 0.0000e+00 - 5s/epoch - 4ms/step\n",
      "Epoch 41/50\n",
      "1231/1231 - 5s - loss: 0.0000e+00 - 5s/epoch - 4ms/step\n",
      "Epoch 42/50\n",
      "1231/1231 - 5s - loss: 0.0000e+00 - 5s/epoch - 4ms/step\n",
      "Epoch 43/50\n",
      "1231/1231 - 5s - loss: 0.0000e+00 - 5s/epoch - 4ms/step\n",
      "Epoch 44/50\n",
      "1231/1231 - 5s - loss: 0.0000e+00 - 5s/epoch - 4ms/step\n",
      "Epoch 45/50\n",
      "1231/1231 - 5s - loss: 0.0000e+00 - 5s/epoch - 4ms/step\n",
      "Epoch 46/50\n",
      "1231/1231 - 5s - loss: 0.0000e+00 - 5s/epoch - 4ms/step\n",
      "Epoch 47/50\n",
      "1231/1231 - 5s - loss: 0.0000e+00 - 5s/epoch - 4ms/step\n",
      "Epoch 48/50\n",
      "1231/1231 - 5s - loss: 0.0000e+00 - 5s/epoch - 4ms/step\n",
      "Epoch 49/50\n",
      "1231/1231 - 5s - loss: 0.0000e+00 - 5s/epoch - 4ms/step\n",
      "Epoch 50/50\n",
      "1231/1231 - 5s - loss: 0.0000e+00 - 5s/epoch - 4ms/step\n",
      "1231/1231 [==============================] - 3s 2ms/step\n",
      "308/308 [==============================] - 1s 2ms/step\n",
      "Training Mean Squared Error: 0.0\n",
      "Test Mean Squared Error: 0.0\n"
     ]
    },
    {
     "ename": "ValueError",
     "evalue": "could not broadcast input array from shape (39364,1) into shape (39352,1)",
     "output_type": "error",
     "traceback": [
      "\u001b[0;31m---------------------------------------------------------------------------\u001b[0m",
      "\u001b[0;31mValueError\u001b[0m                                Traceback (most recent call last)",
      "Cell \u001b[0;32mIn[35], line 79\u001b[0m\n\u001b[1;32m     77\u001b[0m train_predict_plot \u001b[38;5;241m=\u001b[39m np\u001b[38;5;241m.\u001b[39mempty_like(data_scaled)\n\u001b[1;32m     78\u001b[0m train_predict_plot[:, :] \u001b[38;5;241m=\u001b[39m np\u001b[38;5;241m.\u001b[39mnan\n\u001b[0;32m---> 79\u001b[0m train_predict_plot[look_back:train_size, :] \u001b[38;5;241m=\u001b[39m train_predict\n\u001b[1;32m     81\u001b[0m test_predict_plot \u001b[38;5;241m=\u001b[39m np\u001b[38;5;241m.\u001b[39mempty_like(data_scaled)\n\u001b[1;32m     82\u001b[0m test_predict_plot[:, :] \u001b[38;5;241m=\u001b[39m np\u001b[38;5;241m.\u001b[39mnan\n",
      "\u001b[0;31mValueError\u001b[0m: could not broadcast input array from shape (39364,1) into shape (39352,1)"
     ]
    }
   ],
   "source": [
    "import pandas as pd\n",
    "import numpy as np\n",
    "from sklearn.preprocessing import MinMaxScaler\n",
    "from sklearn.metrics import mean_squared_error\n",
    "from keras.models import Sequential\n",
    "from keras.layers import LSTM, Dense\n",
    "import matplotlib.pyplot as plt\n",
    "\n",
    "\n",
    "df['입항일시'] = pd.to_datetime(df['입항일시'])\n",
    "\n",
    "# '접안_대기시간_분'이 0인 데이터만 선택\n",
    "zero_wait_time_df = df[df['접안_대기시간_분'] == 0]\n",
    "\n",
    "# 시계열 데이터_ '입항일시'를 인덱스로 설정\n",
    "zero_wait_time_df.set_index('입항일시', inplace=True)\n",
    "\n",
    "# LSTM 모델에 사용할 feature '접안_대기시간_분' 추출\n",
    "data = zero_wait_time_df['접안_대기시간_분'].values.reshape(-1, 1)\n",
    "\n",
    "# Min-Max 스케일링\n",
    "scaler = MinMaxScaler(feature_range=(0, 1))\n",
    "data_scaled = scaler.fit_transform(data)\n",
    "\n",
    "# 학습 데이터와 테스트 데이터 분리\n",
    "train_size = int(len(data_scaled) * 0.8)\n",
    "train, test = data_scaled[:train_size], data_scaled[train_size:]\n",
    "\n",
    "# X, y 데이터 생성\n",
    "def create_dataset(dataset, look_back=1):\n",
    "    X, y = [], []\n",
    "    for i in range(len(dataset)-look_back):\n",
    "        a = dataset[i:(i+look_back), 0]\n",
    "        X.append(a)\n",
    "        y.append(dataset[i + look_back, 0])\n",
    "    return np.array(X), np.array(y)\n",
    "\n",
    "look_back = 12  # 12개 이전 데이터 사용\n",
    "X_train, y_train = create_dataset(train, look_back)\n",
    "X_test, y_test = create_dataset(test, look_back)\n",
    "\n",
    "# LSTM 데이터 변환\n",
    "X_train = np.reshape(X_train, (X_train.shape[0], X_train.shape[1], 1))\n",
    "X_test = np.reshape(X_test, (X_test.shape[0], X_test.shape[1], 1))\n",
    "\n",
    "# LSTM 모델 생성\n",
    "model = Sequential()\n",
    "model.add(LSTM(units=50, input_shape=(X_train.shape[1], 1)))\n",
    "model.add(Dense(units=1))\n",
    "model.compile(optimizer='adam', loss='mean_squared_error')\n",
    "\n",
    "# 모델 학습\n",
    "model.fit(X_train, y_train, epochs=50, batch_size=32, verbose=2)\n",
    "\n",
    "# 모델 예측\n",
    "train_predict = model.predict(X_train)\n",
    "test_predict = model.predict(X_test)\n",
    "\n",
    "# 역 스케일링\n",
    "train_predict = scaler.inverse_transform(train_predict)\n",
    "test_predict = scaler.inverse_transform(test_predict)\n",
    "\n",
    "# 학습, 테스트데이터 준비\n",
    "train_actual = scaler.inverse_transform([y_train])\n",
    "test_actual = scaler.inverse_transform([y_test])\n",
    "\n",
    "# 평가지표\n",
    "mse_train = mean_squared_error(train_actual[0], train_predict[:, 0])\n",
    "mse_test = mean_squared_error(test_actual[0], test_predict[:, 0])\n",
    "\n",
    "print(f'Training Mean Squared Error: {mse_train}')\n",
    "print(f'Test Mean Squared Error: {mse_test}')\n",
    "\n",
    "# 시각화 데이터셋 구성\n",
    "train_size = len(train_actual[0])\n",
    "test_size = len(test_actual[0])\n",
    "train_predict_plot = np.empty_like(data_scaled)\n",
    "train_predict_plot[:, :] = np.nan\n",
    "train_predict_plot[look_back:train_size, :] = train_predict\n",
    "\n",
    "test_predict_plot = np.empty_like(data_scaled)\n",
    "test_predict_plot[:, :] = np.nan\n",
    "test_predict_plot[train_size + look_back:len(data_scaled), :] = test_predict\n",
    "\n",
    "# 원본, 예측값 시각화\n",
    "plt.figure(figsize=(14, 6))\n",
    "plt.plot(scaler.inverse_transform(data_scaled), label='Actual Data')\n",
    "plt.plot(train_predict_plot, label='Training Predictions')\n",
    "plt.plot(test_predict_plot, label='Test Predictions')\n",
    "plt.title('LSTM 모델을 사용한 접안 대기시간 예측')\n",
    "plt.xlabel('시간')\n",
    "plt.ylabel('접안 대기시간 분')\n",
    "plt.legend()\n",
    "plt.show()\n"
   ]
  },
  {
   "cell_type": "code",
   "execution_count": null,
   "id": "94f9ba15-c614-4433-9afa-ebb8491f51d0",
   "metadata": {},
   "outputs": [],
   "source": []
  }
 ],
 "metadata": {
  "kernelspec": {
   "display_name": "Python 3 (ipykernel)",
   "language": "python",
   "name": "python3"
  },
  "language_info": {
   "codemirror_mode": {
    "name": "ipython",
    "version": 3
   },
   "file_extension": ".py",
   "mimetype": "text/x-python",
   "name": "python",
   "nbconvert_exporter": "python",
   "pygments_lexer": "ipython3",
   "version": "3.11.4"
  }
 },
 "nbformat": 4,
 "nbformat_minor": 5
}
